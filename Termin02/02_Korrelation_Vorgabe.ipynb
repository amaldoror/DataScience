{
 "cells": [
  {
   "cell_type": "markdown",
   "source": [
    "# Praktikum 2: Korrelationsanalyse\n",
    "\n",
    "## Aufgabe: Korrelationsanalyse der YouTube Daten\n",
    "\n",
    "- Nehmt die YouTube Daten aus dem 1. Praktikum\n",
    "- Nutzt die bereinigten Daten aus Aufgabe 1 und exportiert sie als `parquet`-Datei. Tipp: nutzt die Funktion `to_parquet()`\n",
    "- Sucht euch 2 Merkmale aus, die ihr auf Korrelation testen wollt\n",
    "- Visualisiert die beiden Merkmale mit einem Scatter-Plot. Nutzt dafür `seaborn`\n",
    "- Führt die Korrelationsanalyse mit dem passenden Algorithmus (Korrelationskoeffizienten) durch\n",
    "- Nutzt dafür die Pandas-funktion `corr()`\n",
    "\n",
    "- Interpretiert das Ergebnis"
   ],
   "metadata": {
    "collapsed": false
   },
   "id": "81590673eb91af76"
  },
  {
   "metadata": {},
   "cell_type": "code",
   "outputs": [],
   "execution_count": null,
   "source": [],
   "id": "12bdec266ca7bfb1"
  }
 ],
 "metadata": {
  "kernelspec": {
   "display_name": "Python 3",
   "language": "python",
   "name": "python3"
  },
  "language_info": {
   "codemirror_mode": {
    "name": "ipython",
    "version": 2
   },
   "file_extension": ".py",
   "mimetype": "text/x-python",
   "name": "python",
   "nbconvert_exporter": "python",
   "pygments_lexer": "ipython2",
   "version": "2.7.6"
  }
 },
 "nbformat": 4,
 "nbformat_minor": 5
}
