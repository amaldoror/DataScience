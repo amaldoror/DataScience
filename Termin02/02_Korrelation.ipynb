{
 "cells": [
  {
   "cell_type": "markdown",
   "source": [
    "# Praktikum 2: Korrelationsanalyse\n",
    "\n",
    "## Aufgabe: Korrelationsanalyse der YouTube Daten\n",
    "\n",
    "- Nehmt die YouTube Daten aus dem 1. Praktikum\n",
    "- Nutzt die bereinigten Daten aus Aufgabe 1 und exportiert sie als `parquet`-Datei. Tipp: nutzt die Funktion `to_parquet()`\n",
    "- Sucht euch 2 Merkmale aus, die ihr auf Korrelation testen wollt\n",
    "- Visualisiert die beiden Merkmale mit einem Scatter-Plot. Nutzt dafür `seaborn`\n",
    "- Führt die Korrelationsanalyse mit dem passenden Algorithmus (Korrelationskoeffizienten) durch\n",
    "- Nutzt dafür die Pandas-funktion `corr()`\n",
    "\n",
    "- Interpretiert das Ergebnis"
   ],
   "metadata": {
    "collapsed": false
   },
   "id": "81590673eb91af76"
  },
  {
   "cell_type": "markdown",
   "source": [
    "### Korrelationsanalyse der Dauer der Videos und der Anzahl der Kommentare\n",
    "\n",
    "Es wird eine Analyse der Korrelation von 'duration' und 'comments' durchgeführt.\n",
    "Zunächst werden die YouTube Daten bereinigt und als parquet-Datei exportiert.\n",
    "Anschließend werden die Merkmale in einen Dataframe geladen, in numerische Werte umgewandelt (wobei NaN-Werte entfernt werden) und mittels Scatter-Plot visualisiert.\n",
    "Danach werden die Korrelationskoeffizienten mit den entsprechenden Methoden berechnet und die Analyse interpretiert."
   ],
   "metadata": {
    "collapsed": false
   },
   "id": "5928be524dc79453"
  },
  {
   "metadata": {
    "ExecuteTime": {
     "end_time": "2024-06-04T09:15:30.081013500Z",
     "start_time": "2024-06-04T09:15:25.260508700Z"
    }
   },
   "cell_type": "code",
   "outputs": [
    {
     "name": "stdout",
     "output_type": "stream",
     "text": [
      "Requirement already satisfied: pip in c:\\users\\adria\\anaconda3\\envs\\ml\\lib\\site-packages (23.3)\n",
      "Collecting pip\n",
      "  Using cached pip-24.0-py3-none-any.whl.metadata (3.6 kB)\n",
      "Using cached pip-24.0-py3-none-any.whl (2.1 MB)\n"
     ]
    },
    {
     "name": "stderr",
     "output_type": "stream",
     "text": [
      "ERROR: To modify pip, please run the following command:\n",
      "C:\\Users\\adria\\anaconda3\\envs\\ML\\python.exe -m pip install --upgrade pip\n"
     ]
    },
    {
     "name": "stdout",
     "output_type": "stream",
     "text": [
      "Requirement already satisfied: pandas in c:\\users\\adria\\anaconda3\\envs\\ml\\lib\\site-packages (2.2.1)\n",
      "Requirement already satisfied: matplotlib in c:\\users\\adria\\anaconda3\\envs\\ml\\lib\\site-packages (3.8.3)\n",
      "Requirement already satisfied: seaborn in c:\\users\\adria\\anaconda3\\envs\\ml\\lib\\site-packages (0.13.2)\n",
      "Requirement already satisfied: pyarrow in c:\\users\\adria\\anaconda3\\envs\\ml\\lib\\site-packages (16.1.0)\n",
      "Requirement already satisfied: numpy<2,>=1.23.2 in c:\\users\\adria\\anaconda3\\envs\\ml\\lib\\site-packages (from pandas) (1.26.4)\n",
      "Requirement already satisfied: python-dateutil>=2.8.2 in c:\\users\\adria\\anaconda3\\envs\\ml\\lib\\site-packages (from pandas) (2.8.2)\n",
      "Requirement already satisfied: pytz>=2020.1 in c:\\users\\adria\\anaconda3\\envs\\ml\\lib\\site-packages (from pandas) (2023.3.post1)\n",
      "Requirement already satisfied: tzdata>=2022.7 in c:\\users\\adria\\anaconda3\\envs\\ml\\lib\\site-packages (from pandas) (2024.1)\n",
      "Requirement already satisfied: contourpy>=1.0.1 in c:\\users\\adria\\anaconda3\\envs\\ml\\lib\\site-packages (from matplotlib) (1.2.0)\n",
      "Requirement already satisfied: cycler>=0.10 in c:\\users\\adria\\anaconda3\\envs\\ml\\lib\\site-packages (from matplotlib) (0.12.1)\n",
      "Requirement already satisfied: fonttools>=4.22.0 in c:\\users\\adria\\anaconda3\\envs\\ml\\lib\\site-packages (from matplotlib) (4.50.0)\n",
      "Requirement already satisfied: kiwisolver>=1.3.1 in c:\\users\\adria\\anaconda3\\envs\\ml\\lib\\site-packages (from matplotlib) (1.4.5)\n",
      "Requirement already satisfied: packaging>=20.0 in c:\\users\\adria\\anaconda3\\envs\\ml\\lib\\site-packages (from matplotlib) (23.2)\n",
      "Requirement already satisfied: pillow>=8 in c:\\users\\adria\\anaconda3\\envs\\ml\\lib\\site-packages (from matplotlib) (10.2.0)\n",
      "Requirement already satisfied: pyparsing>=2.3.1 in c:\\users\\adria\\anaconda3\\envs\\ml\\lib\\site-packages (from matplotlib) (3.1.2)\n",
      "Requirement already satisfied: six>=1.5 in c:\\users\\adria\\anaconda3\\envs\\ml\\lib\\site-packages (from python-dateutil>=2.8.2->pandas) (1.16.0)\n"
     ]
    }
   ],
   "execution_count": 1,
   "source": [
    "# pip aktualisieren & benötigte Libraries installieren\n",
    "!pip install --upgrade pip \n",
    "!pip install pandas matplotlib seaborn pyarrow"
   ],
   "id": "12bdec266ca7bfb1"
  },
  {
   "cell_type": "code",
   "execution_count": 1,
   "outputs": [],
   "source": [
    "# Importieren der benötigten Libraries\n",
    "import pandas as pd\n",
    "import matplotlib.pyplot as plt\n",
    "import seaborn as sns"
   ],
   "metadata": {
    "collapsed": false,
    "ExecuteTime": {
     "end_time": "2024-06-04T10:27:46.454890100Z",
     "start_time": "2024-06-04T10:27:46.446741600Z"
    }
   },
   "id": "240db5d539ef7e78"
  },
  {
   "cell_type": "markdown",
   "source": [
    "### Achtung\n",
    "\n",
    "Die folgenden drei Zellen wurden nur einmalig ausgeführt, um die YouTube Daten zu bereinigen und als parquet-Datei abzuspeichern."
   ],
   "metadata": {
    "collapsed": false
   },
   "id": "bb475b989fecaf82"
  },
  {
   "cell_type": "code",
   "execution_count": 3,
   "outputs": [],
   "source": [
    "# Daten mit Pandas einlesen\n",
    "youtube_data = pd.read_parquet('../Data/youtube_trend_videos.parquet')"
   ],
   "metadata": {
    "collapsed": false,
    "ExecuteTime": {
     "end_time": "2024-06-04T09:12:02.717337700Z",
     "start_time": "2024-06-04T09:12:00.715060500Z"
    }
   },
   "id": "d116e86d7c230f0b"
  },
  {
   "cell_type": "code",
   "execution_count": 4,
   "outputs": [],
   "source": [
    "# Umwandlung von Datums- und Zeitangaben in den Datentyp datetime. Dies ermöglicht die Durchführung von Datums- und Zeitoperationen. Dies erzeugt keine neuen Attribute, sondern ändert nur den Datentyp der vorhandenen Attribute.\n",
    "youtube_data[['created', 'published_at', 'modified_at']] = youtube_data[\n",
    "    ['created', 'published_at', 'modified_at']].apply(pd.to_datetime)\n",
    "# Berechnung der Zeitdifferenz zwischen 'modified_at' und 'created' in Stunden. Dies zeigt, wie lange ein Video gebraucht hat, um in die Trends zu kommen.\n",
    "youtube_data['trend_time_hours'] = (youtube_data['modified_at'] - youtube_data['created']) / pd.Timedelta(hours=1)\n",
    "# Extrahiert den Wochentag (als Zahl von 0 bis 6, wobei 0 für Montag steht) aus dem 'created' Datum.\n",
    "youtube_data['weekday'] = youtube_data['created'].dt.weekday\n",
    "# Berechnung der Zeitdifferenz zwischen 'created' und 'published_at' in Stunden.\n",
    "youtube_data['hours_until_trend'] = (youtube_data['created'] - youtube_data['published_at']) / pd.Timedelta(hours=1)\n",
    "# Berechnung des Wachstums der Likes eines Videos, indem die Differenz zwischen dem letzten und dem ersten Wert in der 'likes'-Liste berechnet wird.\n",
    "youtube_data['likes_growth'] = youtube_data['likes'].apply(\n",
    "    lambda x: x[-1] - x[0] if x[0] is not None and x[-1] is not None else None)\n",
    "# Berechnung des Wachstums der Likes eines Videos pro Stunde, indem das gesamte Likes-Wachstum durch die Anzahl der Stunden, die das Video benötigt hat, um in die Trends zu kommen, geteilt wird.\n",
    "youtube_data['likes_growth/hour'] = youtube_data['likes_growth'] / youtube_data['trend_time_hours']\n",
    "# Extrahiert den ersten Rang eines Videos aus der 'rank'-Liste.\n",
    "youtube_data['first_rank'] = youtube_data['rank'].apply(lambda x: x[0])\n",
    "# Extrahiert den besten (niedrigsten) Rang eines Videos aus der 'rank'-Liste.\n",
    "youtube_data['best_rank'] = youtube_data['rank'].apply(lambda x: min(x))\n",
    "# Berechnet das Wachstum der Views eines Videos, indem die Differenz zwischen dem letzten und dem ersten Wert in der 'views'-Liste berechnet wird.\n",
    "youtube_data['views_growth'] = youtube_data['views'].apply(\n",
    "    lambda x: x[-1] - x[0] if x[0] is not None and x[-1] is not None else None)\n",
    "# Berechnet das Wachstum der Views eines Videos pro Stunde, indem das gesamte Views-Wachstum durch die Anzahl der Stunden, die das Video benötigt hat, um in die Trends zu kommen, geteilt wird.\n",
    "youtube_data['views_growth/hour'] = youtube_data['views_growth'] / youtube_data['trend_time_hours']\n",
    "\n",
    "# Erstellen neuer Spalten für die aktuellsten Werte von Titel, Views, Likes, Dislikes und Kommentaren\n",
    "youtube_data['title'] = youtube_data['title'].apply(lambda x: x[-1])  # Die Titel-Spalte wird überschrieben\n",
    "youtube_data['views_cleaned'] = youtube_data['views'].apply(lambda x: x[-1])\n",
    "youtube_data['likes_cleaned'] = youtube_data['likes'].apply(lambda x: x[-1])\n",
    "youtube_data['dislikes_cleaned'] = youtube_data['dislikes'].apply(lambda x: x[-1])\n",
    "youtube_data['comments_cleaned'] = youtube_data['comments'].apply(lambda x: x[-1])"
   ],
   "metadata": {
    "collapsed": false,
    "ExecuteTime": {
     "end_time": "2024-06-04T09:12:06.131342200Z",
     "start_time": "2024-06-04T09:12:05.524188100Z"
    }
   },
   "id": "641cd46b00c1325d"
  },
  {
   "cell_type": "code",
   "execution_count": 5,
   "outputs": [],
   "source": [
    "# Speichern der Daten im Parquet-Format\n",
    "youtube_data.to_parquet(\"../Data/cleaned_youtube_data.parquet\")"
   ],
   "metadata": {
    "collapsed": false,
    "ExecuteTime": {
     "end_time": "2024-06-04T09:12:11.278365300Z",
     "start_time": "2024-06-04T09:12:07.691306300Z"
    }
   },
   "id": "8afa59bbfd41014a"
  },
  {
   "cell_type": "markdown",
   "source": [
    "### Hier fortfahren"
   ],
   "metadata": {
    "collapsed": false
   },
   "id": "3ffa992b2a7f755e"
  },
  {
   "cell_type": "code",
   "execution_count": 2,
   "outputs": [],
   "source": [
    "# Daten einlesen\n",
    "df = pd.read_parquet(\"../Data/cleaned_youtube_data.parquet\")\n",
    "\n",
    "# Dataframe mit den gewünschten Spalten erstellen\n",
    "df = df[['duration', 'comments_cleaned']]"
   ],
   "metadata": {
    "collapsed": false,
    "ExecuteTime": {
     "end_time": "2024-06-04T10:28:17.030599100Z",
     "start_time": "2024-06-04T10:28:15.072195700Z"
    }
   },
   "id": "223f47326b37585a"
  },
  {
   "cell_type": "code",
   "execution_count": 3,
   "outputs": [
    {
     "data": {
      "text/plain": "duration              0\ncomments_cleaned    251\ndtype: int64"
     },
     "execution_count": 3,
     "metadata": {},
     "output_type": "execute_result"
    }
   ],
   "source": [
    "# Überprüfen, ob die Daten NaN-Werte enthalten\n",
    "missing_values = df.isnull().sum()\n",
    "missing_values"
   ],
   "metadata": {
    "collapsed": false,
    "ExecuteTime": {
     "end_time": "2024-06-04T10:28:17.956011500Z",
     "start_time": "2024-06-04T10:28:17.938097900Z"
    }
   },
   "id": "30de0215cdadca8f"
  },
  {
   "cell_type": "code",
   "execution_count": 4,
   "outputs": [
    {
     "data": {
      "text/plain": "duration            0\ncomments_cleaned    0\ndtype: int64"
     },
     "execution_count": 4,
     "metadata": {},
     "output_type": "execute_result"
    }
   ],
   "source": [
    "# Konvertierung der Spalten 'duration' und 'comments' in numerische Werte\n",
    "df['duration'] = pd.to_numeric(df['duration'], errors='coerce') / 1000\n",
    "df['comments_cleaned'] = pd.to_numeric(df['comments_cleaned'], errors='coerce') / 1_000_000\n",
    "\n",
    "# Datenbereinigung: Entfernen von NaN-Werten in 'duration' und 'comments'\n",
    "df = df.dropna(subset=['duration', 'comments_cleaned'])\n",
    "\n",
    "# Überprüfen, ob die Daten noch NaN-Werte enthalten\n",
    "missing_values = df.isnull().sum()\n",
    "missing_values"
   ],
   "metadata": {
    "collapsed": false,
    "ExecuteTime": {
     "end_time": "2024-06-04T10:29:00.520430200Z",
     "start_time": "2024-06-04T10:29:00.498968100Z"
    }
   },
   "id": "bef6d70886fe1fd0"
  },
  {
   "cell_type": "code",
   "execution_count": 5,
   "outputs": [
    {
     "name": "stdout",
     "output_type": "stream",
     "text": [
      "<class 'pandas.core.frame.DataFrame'>\n",
      "Index: 17700 entries, 0 to 17950\n",
      "Data columns (total 2 columns):\n",
      " #   Column            Non-Null Count  Dtype  \n",
      "---  ------            --------------  -----  \n",
      " 0   duration          17700 non-null  float64\n",
      " 1   comments_cleaned  17700 non-null  float64\n",
      "dtypes: float64(2)\n",
      "memory usage: 414.8 KB\n"
     ]
    }
   ],
   "source": [
    "df.info()"
   ],
   "metadata": {
    "collapsed": false,
    "ExecuteTime": {
     "end_time": "2024-06-04T10:29:17.280995600Z",
     "start_time": "2024-06-04T10:29:17.234794400Z"
    }
   },
   "id": "1e303147df7ff47a"
  },
  {
   "cell_type": "code",
   "execution_count": 6,
   "outputs": [
    {
     "data": {
      "text/plain": "<Figure size 640x480 with 1 Axes>",
      "image/png": "[encoded data removed]"
     },
     "metadata": {},
     "output_type": "display_data"
    }
   ],
   "source": [
    "# Visualisierung der Korrelation mit einem Scatter-Plot\n",
    "sns.scatterplot(data=df, x='duration', y='comments_cleaned')\n",
    "plt.title('Scatter-Plot von Dauer und Kommentaren')\n",
    "plt.xlabel('Dauer in Tsd. Sekunden')\n",
    "plt.ylabel('Kommentare in Mio.')\n",
    "plt.ticklabel_format(style='plain', axis='y')\n",
    "plt.show()"
   ],
   "metadata": {
    "collapsed": false,
    "ExecuteTime": {
     "end_time": "2024-06-04T10:29:27.445810300Z",
     "start_time": "2024-06-04T10:29:27.111479600Z"
    }
   },
   "id": "15faab2e5b6eaed5"
  },
  {
   "cell_type": "code",
   "execution_count": 7,
   "outputs": [
    {
     "ename": "ModuleNotFoundError",
     "evalue": "No module named 'scipy'",
     "output_type": "error",
     "traceback": [
      "\u001B[1;31m---------------------------------------------------------------------------\u001B[0m",
      "\u001B[1;31mModuleNotFoundError\u001B[0m                       Traceback (most recent call last)",
      "Cell \u001B[1;32mIn[7], line 9\u001B[0m\n\u001B[0;32m      6\u001B[0m pearson_coefficient \u001B[38;5;241m=\u001B[39m pearson_corr_matrix\u001B[38;5;241m.\u001B[39mloc[\u001B[38;5;124m'\u001B[39m\u001B[38;5;124mduration\u001B[39m\u001B[38;5;124m'\u001B[39m, \u001B[38;5;124m'\u001B[39m\u001B[38;5;124mcomments_cleaned\u001B[39m\u001B[38;5;124m'\u001B[39m]\n\u001B[0;32m      8\u001B[0m \u001B[38;5;66;03m# Berechnung des Kendall-Korrelationskoeffizienten\u001B[39;00m\n\u001B[1;32m----> 9\u001B[0m kendall_corr_matrix \u001B[38;5;241m=\u001B[39m df[[\u001B[38;5;124m'\u001B[39m\u001B[38;5;124mduration\u001B[39m\u001B[38;5;124m'\u001B[39m, \u001B[38;5;124m'\u001B[39m\u001B[38;5;124mcomments_cleaned\u001B[39m\u001B[38;5;124m'\u001B[39m]]\u001B[38;5;241m.\u001B[39mcorr(method\u001B[38;5;241m=\u001B[39m\u001B[38;5;124m'\u001B[39m\u001B[38;5;124mkendall\u001B[39m\u001B[38;5;124m'\u001B[39m)\n\u001B[0;32m     10\u001B[0m kendall_coefficient \u001B[38;5;241m=\u001B[39m kendall_corr_matrix\u001B[38;5;241m.\u001B[39mloc[\u001B[38;5;124m'\u001B[39m\u001B[38;5;124mduration\u001B[39m\u001B[38;5;124m'\u001B[39m, \u001B[38;5;124m'\u001B[39m\u001B[38;5;124mcomments_cleaned\u001B[39m\u001B[38;5;124m'\u001B[39m]\n\u001B[0;32m     12\u001B[0m \u001B[38;5;66;03m# Berechnung des Spearman-Korrelationskoeffizienten\u001B[39;00m\n",
      "File \u001B[1;32m~\\anaconda3\\envs\\ML\\Lib\\site-packages\\pandas\\core\\frame.py:11046\u001B[0m, in \u001B[0;36mDataFrame.corr\u001B[1;34m(self, method, min_periods, numeric_only)\u001B[0m\n\u001B[0;32m  11044\u001B[0m     min_periods \u001B[38;5;241m=\u001B[39m \u001B[38;5;241m1\u001B[39m\n\u001B[0;32m  11045\u001B[0m mat \u001B[38;5;241m=\u001B[39m mat\u001B[38;5;241m.\u001B[39mT\n\u001B[1;32m> 11046\u001B[0m corrf \u001B[38;5;241m=\u001B[39m nanops\u001B[38;5;241m.\u001B[39mget_corr_func(method)\n\u001B[0;32m  11047\u001B[0m K \u001B[38;5;241m=\u001B[39m \u001B[38;5;28mlen\u001B[39m(cols)\n\u001B[0;32m  11048\u001B[0m correl \u001B[38;5;241m=\u001B[39m np\u001B[38;5;241m.\u001B[39mempty((K, K), dtype\u001B[38;5;241m=\u001B[39m\u001B[38;5;28mfloat\u001B[39m)\n",
      "File \u001B[1;32m~\\anaconda3\\envs\\ML\\Lib\\site-packages\\pandas\\core\\nanops.py:1622\u001B[0m, in \u001B[0;36mget_corr_func\u001B[1;34m(method)\u001B[0m\n\u001B[0;32m   1618\u001B[0m \u001B[38;5;28;01mdef\u001B[39;00m \u001B[38;5;21mget_corr_func\u001B[39m(\n\u001B[0;32m   1619\u001B[0m     method: CorrelationMethod,\n\u001B[0;32m   1620\u001B[0m ) \u001B[38;5;241m-\u001B[39m\u001B[38;5;241m>\u001B[39m Callable[[np\u001B[38;5;241m.\u001B[39mndarray, np\u001B[38;5;241m.\u001B[39mndarray], \u001B[38;5;28mfloat\u001B[39m]:\n\u001B[0;32m   1621\u001B[0m     \u001B[38;5;28;01mif\u001B[39;00m method \u001B[38;5;241m==\u001B[39m \u001B[38;5;124m\"\u001B[39m\u001B[38;5;124mkendall\u001B[39m\u001B[38;5;124m\"\u001B[39m:\n\u001B[1;32m-> 1622\u001B[0m         \u001B[38;5;28;01mfrom\u001B[39;00m \u001B[38;5;21;01mscipy\u001B[39;00m\u001B[38;5;21;01m.\u001B[39;00m\u001B[38;5;21;01mstats\u001B[39;00m \u001B[38;5;28;01mimport\u001B[39;00m kendalltau\n\u001B[0;32m   1624\u001B[0m         \u001B[38;5;28;01mdef\u001B[39;00m \u001B[38;5;21mfunc\u001B[39m(a, b):\n\u001B[0;32m   1625\u001B[0m             \u001B[38;5;28;01mreturn\u001B[39;00m kendalltau(a, b)[\u001B[38;5;241m0\u001B[39m]\n",
      "\u001B[1;31mModuleNotFoundError\u001B[0m: No module named 'scipy'"
     ]
    }
   ],
   "source": [
    "# Berechnung und Ausgabe der Korrelationskoeffizienten zwischen 'duration' und 'comments_cleaned'\n",
    "\n",
    "\n",
    "# Berechnung des Pearson-Korrelationskoeffizienten\n",
    "pearson_corr_matrix = df[['duration', 'comments_cleaned']].corr(method='pearson')\n",
    "pearson_coefficient = pearson_corr_matrix.loc['duration', 'comments_cleaned']\n",
    "\n",
    "# Berechnung des Kendall-Korrelationskoeffizienten\n",
    "kendall_corr_matrix = df[['duration', 'comments_cleaned']].corr(method='kendall')\n",
    "kendall_coefficient = kendall_corr_matrix.loc['duration', 'comments_cleaned']\n",
    "\n",
    "# Berechnung des Spearman-Korrelationskoeffizienten\n",
    "spearman_corr_matrix = df[['duration', 'comments_cleaned']].corr(method='spearman')\n",
    "spearman_coefficient = spearman_corr_matrix.loc['duration', 'comments_cleaned']\n",
    "\n",
    "# Ausgabe der Korrelationskoeffizienten\n",
    "print(\"Korrelationskoeffizienten zwischen 'duration' und 'comments_cleaned':\\n\")\n",
    "print(f\"Pearson: {round(pearson_coefficient, 3)}\")\n",
    "print(f\"Kendall: {round(kendall_coefficient, 3)}\")\n",
    "print(f\"Spearman: {round(spearman_coefficient, 3)}\")"
   ],
   "metadata": {
    "collapsed": false,
    "ExecuteTime": {
     "end_time": "2024-06-04T10:29:58.035531300Z",
     "start_time": "2024-06-04T10:29:55.531909800Z"
    }
   },
   "id": "f6fdfcfbd96332e"
  },
  {
   "cell_type": "markdown",
   "source": [
    "### Interpretation\n",
    "\n",
    "- Der Pearson-Korrelationskoeffizient von -0,017 deutet auf eine extrem schwache negative lineare Korrelation zwischen Videodauer und Kommentaren hin. Der Wert liegt jedoch so nah an 0, dass man von keiner praktisch relevanten linearen Beziehung zwischen den beiden Variablen ausgehen kann.\n",
    "- Der Kendall-Koeffizient von 0,043 misst die Rangkorrelation zwischen den Variablen. Auch dieser sehr geringe positive Wert bestätigt, dass praktisch keine monotone Beziehung vorliegt - längere Videos haben also nicht zwingend mehr oder weniger Kommentare als kürzere.\n",
    "- Der Spearman-Koeffizient von 0,065 ist eine weitere Rangkorrelationsmaßzahl. Wie der Kendall-Koeffizient ist auch er positiv, aber nahe bei 0. Dies unterstreicht erneut den Mangel an einer systematischen Rangbeziehung.\n",
    "Zusammengefasst deuten alle drei Korrelationskoeffizienten übereinstimmend auf eine äußerst schwache bis nicht vorhandene Beziehung zwischen Videodauer und Kommentarzahl hin - unabhängig davon, ob man eine lineare oder monotone Beziehung betrachtet."
   ],
   "metadata": {
    "collapsed": false
   },
   "id": "3fb45a2206a002cf"
  },
  {
   "cell_type": "code",
   "execution_count": null,
   "outputs": [],
   "source": [],
   "metadata": {
    "collapsed": false
   },
   "id": "c9e1c3019b865c06"
  }
 ],
 "metadata": {
  "kernelspec": {
   "display_name": "Python 3",
   "language": "python",
   "name": "python3"
  },
  "language_info": {
   "codemirror_mode": {
    "name": "ipython",
    "version": 2
   },
   "file_extension": ".py",
   "mimetype": "text/x-python",
   "name": "python",
   "nbconvert_exporter": "python",
   "pygments_lexer": "ipython2",
   "version": "2.7.6"
  }
 },
 "nbformat": 4,
 "nbformat_minor": 5
}
