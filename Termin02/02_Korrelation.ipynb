{
 "cells": [
  {
   "cell_type": "markdown",
   "source": [
    "# Praktikum 2: Korrelationsanalyse\n",
    "\n",
    "## Aufgabe: Korrelationsanalyse der YouTube Daten\n",
    "\n",
    "- Nehmt die YouTube Daten aus dem 1. Praktikum\n",
    "- Nutzt die bereinigten Daten aus Aufgabe 1 und exportiert sie als `parquet`-Datei. Tipp: nutzt die Funktion `to_parquet()`\n",
    "- Sucht euch 2 Merkmale aus, die ihr auf Korrelation testen wollt\n",
    "- Visualisiert die beiden Merkmale mit einem Scatter-Plot. Nutzt dafür `seaborn`\n",
    "- Führt die Korrelationsanalyse mit dem passenden Algorithmus (Korrelationskoeffizienten) durch\n",
    "- Nutzt dafür die Pandas-funktion `corr()`\n",
    "\n",
    "- Interpretiert das Ergebnis"
   ],
   "metadata": {
    "collapsed": false
   },
   "id": "81590673eb91af76"
  },
  {
   "cell_type": "markdown",
   "source": [
    "### Korrelationsanalyse der Dauer der Videos und der Anzahl der Kommentare\n",
    "\n",
    "Es wird eine Analyse der Korrelation von 'duration' und 'comments' durchgeführt.\n",
    "Zunächst werden die YouTube Daten bereinigt und als parquet-Datei exportiert.\n",
    "Anschließend werden die Merkmale in einen Dataframe geladen, in numerische Werte umgewandelt (wobei NaN-Werte entfernt werden) und mittels Scatter-Plot visualisiert.\n",
    "Danach wird der Korrelationskoeffizient berechnet und die Analyse interpretiert.\n",
    "Es wird der Pearson-Korrelationskoeffizient gewählt, da die Werte beider Merkmale auf einer Verhältnisskala liegen."
   ],
   "metadata": {
    "collapsed": false
   },
   "id": "5928be524dc79453"
  },
  {
   "metadata": {
    "ExecuteTime": {
     "end_time": "2024-06-04T10:41:17.424581Z",
     "start_time": "2024-06-04T10:40:35.497755Z"
    }
   },
   "cell_type": "code",
   "outputs": [
    {
     "name": "stdout",
     "output_type": "stream",
     "text": [
      "Requirement already satisfied: pip in c:\\users\\infwuf691\\pycharmprojects\\datascience\\venv\\lib\\site-packages (23.2.1)\n",
      "Collecting pip\n",
      "  Obtaining dependency information for pip from https://files.pythonhosted.org/packages/8a/6a/19e9fe04fca059ccf770861c7d5721ab4c2aebc539889e97c7977528a53b/pip-24.0-py3-none-any.whl.metadata\n",
      "  Downloading pip-24.0-py3-none-any.whl.metadata (3.6 kB)\n",
      "Downloading pip-24.0-py3-none-any.whl (2.1 MB)\n",
      "   ---------------------------------------- 0.0/2.1 MB ? eta -:--:--\n",
      "   --- ------------------------------------ 0.2/2.1 MB 4.1 MB/s eta 0:00:01\n",
      "   --------------- ------------------------ 0.8/2.1 MB 10.2 MB/s eta 0:00:01\n",
      "   ---------------------------------------  2.1/2.1 MB 14.9 MB/s eta 0:00:01\n",
      "   ---------------------------------------- 2.1/2.1 MB 14.9 MB/s eta 0:00:00\n"
     ]
    },
    {
     "name": "stderr",
     "output_type": "stream",
     "text": [
      "ERROR: To modify pip, please run the following command:\n",
      "C:\\Users\\infwuf691\\PycharmProjects\\DataScience\\venv\\Scripts\\python.exe -m pip install --upgrade pip\n",
      "\n",
      "[notice] A new release of pip is available: 23.2.1 -> 24.0\n",
      "[notice] To update, run: python.exe -m pip install --upgrade pip\n"
     ]
    },
    {
     "name": "stdout",
     "output_type": "stream",
     "text": [
      "Collecting pandas\n",
      "  Obtaining dependency information for pandas from https://files.pythonhosted.org/packages/bf/2c/a0cee9c392a4c9227b835af27f9260582b994f9a2b5ec23993b596e5deb7/pandas-2.2.2-cp39-cp39-win_amd64.whl.metadata\n",
      "  Downloading pandas-2.2.2-cp39-cp39-win_amd64.whl.metadata (19 kB)\n",
      "Collecting matplotlib\n",
      "  Obtaining dependency information for matplotlib from https://files.pythonhosted.org/packages/58/ea/7f029057338138643d745fd4a88d745f8ec810ef81652cc43103324ec549/matplotlib-3.9.0-cp39-cp39-win_amd64.whl.metadata\n",
      "  Downloading matplotlib-3.9.0-cp39-cp39-win_amd64.whl.metadata (11 kB)\n",
      "Collecting seaborn\n",
      "  Obtaining dependency information for seaborn from https://files.pythonhosted.org/packages/83/11/00d3c3dfc25ad54e731d91449895a79e4bf2384dc3ac01809010ba88f6d5/seaborn-0.13.2-py3-none-any.whl.metadata\n",
      "  Downloading seaborn-0.13.2-py3-none-any.whl.metadata (5.4 kB)\n",
      "Collecting pyarrow\n",
      "  Obtaining dependency information for pyarrow from https://files.pythonhosted.org/packages/5e/1b/d59f6ee8f55a233b85299d0b93fb24ac487571849f8ca93807dcd182d614/pyarrow-16.1.0-cp39-cp39-win_amd64.whl.metadata\n",
      "  Downloading pyarrow-16.1.0-cp39-cp39-win_amd64.whl.metadata (3.1 kB)\n",
      "Collecting numpy>=1.22.4 (from pandas)\n",
      "  Obtaining dependency information for numpy>=1.22.4 from https://files.pythonhosted.org/packages/b5/42/054082bd8220bbf6f297f982f0a8f5479fcbc55c8b511d928df07b965869/numpy-1.26.4-cp39-cp39-win_amd64.whl.metadata\n",
      "  Downloading numpy-1.26.4-cp39-cp39-win_amd64.whl.metadata (61 kB)\n",
      "     ---------------------------------------- 0.0/61.0 kB ? eta -:--:--\n",
      "     ---------------------------------------- 61.0/61.0 kB 1.6 MB/s eta 0:00:00\n",
      "Requirement already satisfied: python-dateutil>=2.8.2 in c:\\users\\infwuf691\\pycharmprojects\\datascience\\venv\\lib\\site-packages (from pandas) (2.9.0.post0)\n",
      "Collecting pytz>=2020.1 (from pandas)\n",
      "  Obtaining dependency information for pytz>=2020.1 from https://files.pythonhosted.org/packages/9c/3d/a121f284241f08268b21359bd425f7d4825cffc5ac5cd0e1b3d82ffd2b10/pytz-2024.1-py2.py3-none-any.whl.metadata\n",
      "  Downloading pytz-2024.1-py2.py3-none-any.whl.metadata (22 kB)\n",
      "Collecting tzdata>=2022.7 (from pandas)\n",
      "  Obtaining dependency information for tzdata>=2022.7 from https://files.pythonhosted.org/packages/65/58/f9c9e6be752e9fcb8b6a0ee9fb87e6e7a1f6bcab2cdc73f02bb7ba91ada0/tzdata-2024.1-py2.py3-none-any.whl.metadata\n",
      "  Downloading tzdata-2024.1-py2.py3-none-any.whl.metadata (1.4 kB)\n",
      "Collecting contourpy>=1.0.1 (from matplotlib)\n",
      "  Obtaining dependency information for contourpy>=1.0.1 from https://files.pythonhosted.org/packages/62/5c/08e3a7a35762c8decb6be01c7ec1f4b5f85ef2e2fbb44af87e9caf25a879/contourpy-1.2.1-cp39-cp39-win_amd64.whl.metadata\n",
      "  Downloading contourpy-1.2.1-cp39-cp39-win_amd64.whl.metadata (5.8 kB)\n",
      "Collecting cycler>=0.10 (from matplotlib)\n",
      "  Obtaining dependency information for cycler>=0.10 from https://files.pythonhosted.org/packages/e7/05/c19819d5e3d95294a6f5947fb9b9629efb316b96de511b418c53d245aae6/cycler-0.12.1-py3-none-any.whl.metadata\n",
      "  Downloading cycler-0.12.1-py3-none-any.whl.metadata (3.8 kB)\n",
      "Collecting fonttools>=4.22.0 (from matplotlib)\n",
      "  Obtaining dependency information for fonttools>=4.22.0 from https://files.pythonhosted.org/packages/f1/21/2dc97c5aff32fc3e2472b4ed7125141f1467b71d24f3d356b97864ec7681/fonttools-4.53.0-cp39-cp39-win_amd64.whl.metadata\n",
      "  Downloading fonttools-4.53.0-cp39-cp39-win_amd64.whl.metadata (165 kB)\n",
      "     ---------------------------------------- 0.0/165.5 kB ? eta -:--:--\n",
      "     ------------------------------------- 165.5/165.5 kB 10.3 MB/s eta 0:00:00\n",
      "Collecting kiwisolver>=1.3.1 (from matplotlib)\n",
      "  Obtaining dependency information for kiwisolver>=1.3.1 from https://files.pythonhosted.org/packages/ca/c1/1f986c8119c0c57c2bd71d1941da23332c38ee2c90117e46dff4358b70f7/kiwisolver-1.4.5-cp39-cp39-win_amd64.whl.metadata\n",
      "  Downloading kiwisolver-1.4.5-cp39-cp39-win_amd64.whl.metadata (6.5 kB)\n",
      "Requirement already satisfied: packaging>=20.0 in c:\\users\\infwuf691\\pycharmprojects\\datascience\\venv\\lib\\site-packages (from matplotlib) (24.0)\n",
      "Collecting pillow>=8 (from matplotlib)\n",
      "  Obtaining dependency information for pillow>=8 from https://files.pythonhosted.org/packages/0b/d7/3a9cfa80a3ff59fddfe3b5bd1cf5728e7ed6608678ce9f23e79f35e87805/pillow-10.3.0-cp39-cp39-win_amd64.whl.metadata\n",
      "  Downloading pillow-10.3.0-cp39-cp39-win_amd64.whl.metadata (9.4 kB)\n",
      "Collecting pyparsing>=2.3.1 (from matplotlib)\n",
      "  Obtaining dependency information for pyparsing>=2.3.1 from https://files.pythonhosted.org/packages/9d/ea/6d76df31432a0e6fdf81681a895f009a4bb47b3c39036db3e1b528191d52/pyparsing-3.1.2-py3-none-any.whl.metadata\n",
      "  Downloading pyparsing-3.1.2-py3-none-any.whl.metadata (5.1 kB)\n",
      "Collecting importlib-resources>=3.2.0 (from matplotlib)\n",
      "  Obtaining dependency information for importlib-resources>=3.2.0 from https://files.pythonhosted.org/packages/75/06/4df55e1b7b112d183f65db9503bff189e97179b256e1ea450a3c365241e0/importlib_resources-6.4.0-py3-none-any.whl.metadata\n",
      "  Downloading importlib_resources-6.4.0-py3-none-any.whl.metadata (3.9 kB)\n",
      "Requirement already satisfied: zipp>=3.1.0 in c:\\users\\infwuf691\\pycharmprojects\\datascience\\venv\\lib\\site-packages (from importlib-resources>=3.2.0->matplotlib) (3.19.1)\n",
      "Requirement already satisfied: six>=1.5 in c:\\users\\infwuf691\\pycharmprojects\\datascience\\venv\\lib\\site-packages (from python-dateutil>=2.8.2->pandas) (1.16.0)\n",
      "Downloading pandas-2.2.2-cp39-cp39-win_amd64.whl (11.6 MB)\n",
      "   ---------------------------------------- 0.0/11.6 MB ? eta -:--:--\n",
      "   --- ------------------------------------ 0.9/11.6 MB 18.5 MB/s eta 0:00:01\n",
      "   ------ --------------------------------- 2.0/11.6 MB 21.0 MB/s eta 0:00:01\n",
      "   ---------- ----------------------------- 3.2/11.6 MB 22.3 MB/s eta 0:00:01\n",
      "   --------------- ------------------------ 4.4/11.6 MB 23.5 MB/s eta 0:00:01\n",
      "   ------------------- -------------------- 5.7/11.6 MB 24.1 MB/s eta 0:00:01\n",
      "   ----------------------- ---------------- 6.9/11.6 MB 24.5 MB/s eta 0:00:01\n",
      "   --------------------------- ------------ 8.1/11.6 MB 24.6 MB/s eta 0:00:01\n",
      "   -------------------------------- ------- 9.3/11.6 MB 24.8 MB/s eta 0:00:01\n",
      "   ------------------------------------ --- 10.5/11.6 MB 25.2 MB/s eta 0:00:01\n",
      "   ---------------------------------------  11.6/11.6 MB 26.2 MB/s eta 0:00:01\n",
      "   ---------------------------------------- 11.6/11.6 MB 25.1 MB/s eta 0:00:00\n",
      "Downloading matplotlib-3.9.0-cp39-cp39-win_amd64.whl (7.9 MB)\n",
      "   ---------------------------------------- 0.0/7.9 MB ? eta -:--:--\n",
      "   ------- -------------------------------- 1.4/7.9 MB 29.6 MB/s eta 0:00:01\n",
      "   ------------- -------------------------- 2.6/7.9 MB 27.7 MB/s eta 0:00:01\n",
      "   ------------------- -------------------- 3.9/7.9 MB 27.7 MB/s eta 0:00:01\n",
      "   -------------------------- ------------- 5.2/7.9 MB 27.7 MB/s eta 0:00:01\n",
      "   -------------------------------- ------- 6.5/7.9 MB 27.5 MB/s eta 0:00:01\n",
      "   -------------------------------------- - 7.7/7.9 MB 29.1 MB/s eta 0:00:01\n",
      "   ---------------------------------------- 7.9/7.9 MB 26.7 MB/s eta 0:00:00\n",
      "Downloading seaborn-0.13.2-py3-none-any.whl (294 kB)\n",
      "   ---------------------------------------- 0.0/294.9 kB ? eta -:--:--\n",
      "   --------------------------------------- 294.9/294.9 kB 17.8 MB/s eta 0:00:00\n",
      "Downloading pyarrow-16.1.0-cp39-cp39-win_amd64.whl (25.9 MB)\n",
      "   ---------------------------------------- 0.0/25.9 MB ? eta -:--:--\n",
      "   -- ------------------------------------- 1.4/25.9 MB 30.5 MB/s eta 0:00:01\n",
      "   ---- ----------------------------------- 2.7/25.9 MB 28.8 MB/s eta 0:00:01\n",
      "   ------ --------------------------------- 4.0/25.9 MB 28.8 MB/s eta 0:00:01\n",
      "   -------- ------------------------------- 5.4/25.9 MB 29.0 MB/s eta 0:00:01\n",
      "   ---------- ----------------------------- 6.8/25.9 MB 29.0 MB/s eta 0:00:01\n",
      "   ------------ --------------------------- 8.2/25.9 MB 29.2 MB/s eta 0:00:01\n",
      "   -------------- ------------------------- 9.6/25.9 MB 29.3 MB/s eta 0:00:01\n",
      "   ---------------- ----------------------- 10.9/25.9 MB 28.4 MB/s eta 0:00:01\n",
      "   ------------------ --------------------- 12.3/25.9 MB 29.7 MB/s eta 0:00:01\n",
      "   --------------------- ------------------ 13.7/25.9 MB 29.7 MB/s eta 0:00:01\n",
      "   ----------------------- ---------------- 14.9/25.9 MB 29.7 MB/s eta 0:00:01\n",
      "   ------------------------ --------------- 15.9/25.9 MB 28.4 MB/s eta 0:00:01\n",
      "   -------------------------- ------------- 16.9/25.9 MB 27.3 MB/s eta 0:00:01\n",
      "   --------------------------- ------------ 17.8/25.9 MB 26.2 MB/s eta 0:00:01\n",
      "   ----------------------------- ---------- 18.8/25.9 MB 25.2 MB/s eta 0:00:01\n",
      "   ------------------------------ --------- 19.8/25.9 MB 25.2 MB/s eta 0:00:01\n",
      "   -------------------------------- ------- 20.9/25.9 MB 24.2 MB/s eta 0:00:01\n",
      "   --------------------------------- ------ 21.9/25.9 MB 23.4 MB/s eta 0:00:01\n",
      "   ----------------------------------- ---- 22.9/25.9 MB 22.6 MB/s eta 0:00:01\n",
      "   ------------------------------------ --- 23.9/25.9 MB 21.8 MB/s eta 0:00:01\n",
      "   -------------------------------------- - 24.9/25.9 MB 21.8 MB/s eta 0:00:01\n",
      "   ---------------------------------------  25.9/25.9 MB 21.9 MB/s eta 0:00:01\n",
      "   ---------------------------------------- 25.9/25.9 MB 19.3 MB/s eta 0:00:00\n",
      "Downloading contourpy-1.2.1-cp39-cp39-win_amd64.whl (182 kB)\n",
      "   ---------------------------------------- 0.0/182.8 kB ? eta -:--:--\n",
      "   --------------------------------------- 182.8/182.8 kB 10.8 MB/s eta 0:00:00\n",
      "Downloading cycler-0.12.1-py3-none-any.whl (8.3 kB)\n",
      "Downloading fonttools-4.53.0-cp39-cp39-win_amd64.whl (2.2 MB)\n",
      "   ---------------------------------------- 0.0/2.2 MB ? eta -:--:--\n",
      "   -------------------- ------------------- 1.1/2.2 MB 23.7 MB/s eta 0:00:01\n",
      "   ---------------------------------------  2.2/2.2 MB 23.2 MB/s eta 0:00:01\n",
      "   ---------------------------------------- 2.2/2.2 MB 20.1 MB/s eta 0:00:00\n",
      "Downloading importlib_resources-6.4.0-py3-none-any.whl (38 kB)\n",
      "Downloading kiwisolver-1.4.5-cp39-cp39-win_amd64.whl (56 kB)\n",
      "   ---------------------------------------- 0.0/56.2 kB ? eta -:--:--\n",
      "   ---------------------------------------- 56.2/56.2 kB ? eta 0:00:00\n",
      "Downloading numpy-1.26.4-cp39-cp39-win_amd64.whl (15.8 MB)\n",
      "   ---------------------------------------- 0.0/15.8 MB ? eta -:--:--\n",
      "   -- ------------------------------------- 1.2/15.8 MB 24.4 MB/s eta 0:00:01\n",
      "   ----- ---------------------------------- 2.3/15.8 MB 24.1 MB/s eta 0:00:01\n",
      "   -------- ------------------------------- 3.3/15.8 MB 23.2 MB/s eta 0:00:01\n",
      "   ---------- ----------------------------- 4.3/15.8 MB 22.8 MB/s eta 0:00:01\n",
      "   ------------- -------------------------- 5.4/15.8 MB 22.7 MB/s eta 0:00:01\n",
      "   ---------------- ----------------------- 6.5/15.8 MB 23.0 MB/s eta 0:00:01\n",
      "   ------------------- -------------------- 7.5/15.8 MB 22.9 MB/s eta 0:00:01\n",
      "   --------------------- ------------------ 8.6/15.8 MB 22.9 MB/s eta 0:00:01\n",
      "   ------------------------ --------------- 9.7/15.8 MB 23.0 MB/s eta 0:00:01\n",
      "   --------------------------- ------------ 10.8/15.8 MB 22.6 MB/s eta 0:00:01\n",
      "   ------------------------------ --------- 11.9/15.8 MB 22.6 MB/s eta 0:00:01\n",
      "   -------------------------------- ------- 13.0/15.8 MB 23.4 MB/s eta 0:00:01\n",
      "   ----------------------------------- ---- 13.9/15.8 MB 22.5 MB/s eta 0:00:01\n",
      "   ------------------------------------- -- 14.8/15.8 MB 22.6 MB/s eta 0:00:01\n",
      "   ---------------------------------------  15.8/15.8 MB 23.4 MB/s eta 0:00:01\n",
      "   ---------------------------------------- 15.8/15.8 MB 21.1 MB/s eta 0:00:00\n",
      "Downloading pillow-10.3.0-cp39-cp39-win_amd64.whl (2.5 MB)\n",
      "   ---------------------------------------- 0.0/2.5 MB ? eta -:--:--\n",
      "   ----------------- ---------------------- 1.1/2.5 MB 23.5 MB/s eta 0:00:01\n",
      "   ---------------------------------- ----- 2.2/2.5 MB 23.3 MB/s eta 0:00:01\n",
      "   ---------------------------------------- 2.5/2.5 MB 23.1 MB/s eta 0:00:00\n",
      "Downloading pyparsing-3.1.2-py3-none-any.whl (103 kB)\n",
      "   ---------------------------------------- 0.0/103.2 kB ? eta -:--:--\n",
      "   ---------------------------------------- 103.2/103.2 kB ? eta 0:00:00\n",
      "Downloading pytz-2024.1-py2.py3-none-any.whl (505 kB)\n",
      "   ---------------------------------------- 0.0/505.5 kB ? eta -:--:--\n",
      "   --------------------------------------- 505.5/505.5 kB 33.0 MB/s eta 0:00:00\n",
      "Downloading tzdata-2024.1-py2.py3-none-any.whl (345 kB)\n",
      "   ---------------------------------------- 0.0/345.4 kB ? eta -:--:--\n",
      "   --------------------------------------- 345.4/345.4 kB 22.3 MB/s eta 0:00:00\n",
      "Installing collected packages: pytz, tzdata, pyparsing, pillow, numpy, kiwisolver, importlib-resources, fonttools, cycler, pyarrow, pandas, contourpy, matplotlib, seaborn\n",
      "Successfully installed contourpy-1.2.1 cycler-0.12.1 fonttools-4.53.0 importlib-resources-6.4.0 kiwisolver-1.4.5 matplotlib-3.9.0 numpy-1.26.4 pandas-2.2.2 pillow-10.3.0 pyarrow-16.1.0 pyparsing-3.1.2 pytz-2024.1 seaborn-0.13.2 tzdata-2024.1\n"
     ]
    },
    {
     "name": "stderr",
     "output_type": "stream",
     "text": [
      "\n",
      "[notice] A new release of pip is available: 23.2.1 -> 24.0\n",
      "[notice] To update, run: python.exe -m pip install --upgrade pip\n"
     ]
    }
   ],
   "execution_count": 2,
   "source": [
    "# pip aktualisieren & benötigte Libraries installieren\n",
    "!pip install --upgrade pip \n",
    "!pip install pandas matplotlib seaborn pyarrow\n",
    "!pip install scipy"
   ],
   "id": "12bdec266ca7bfb1"
  },
  {
   "cell_type": "code",
   "execution_count": 3,
   "outputs": [],
   "source": [
    "# Importieren der benötigten Libraries\n",
    "import pandas as pd\n",
    "import matplotlib.pyplot as plt\n",
    "import seaborn as sns"
   ],
   "metadata": {
    "collapsed": false,
    "ExecuteTime": {
     "end_time": "2024-06-04T10:41:20.180014Z",
     "start_time": "2024-06-04T10:41:17.426577Z"
    }
   },
   "id": "240db5d539ef7e78"
  },
  {
   "cell_type": "markdown",
   "source": [
    "### Achtung\n",
    "\n",
    "Die folgenden drei Zellen wurden nur einmalig ausgeführt, um die YouTube Daten zu bereinigen und als parquet-Datei abzuspeichern."
   ],
   "metadata": {
    "collapsed": false
   },
   "id": "bb475b989fecaf82"
  },
  {
   "cell_type": "code",
   "execution_count": 6,
   "outputs": [],
   "source": [
    "# Daten mit Pandas einlesen\n",
    "youtube_data = pd.read_parquet('../Data/youtube_trend_videos.parquet')"
   ],
   "metadata": {
    "collapsed": false,
    "ExecuteTime": {
     "end_time": "2024-06-04T10:44:06.806097Z",
     "start_time": "2024-06-04T10:44:05.284714Z"
    }
   },
   "id": "d116e86d7c230f0b"
  },
  {
   "cell_type": "code",
   "execution_count": 8,
   "outputs": [],
   "source": [
    "# Umwandlung von Datums- und Zeitangaben in den Datentyp datetime. Dies ermöglicht die Durchführung von Datums- und Zeitoperationen. Dies erzeugt keine neuen Attribute, sondern ändert nur den Datentyp der vorhandenen Attribute.\n",
    "youtube_data[['created', 'published_at', 'modified_at']] = youtube_data[\n",
    "    ['created', 'published_at', 'modified_at']].apply(pd.to_datetime)\n",
    "# Berechnung der Zeitdifferenz zwischen 'modified_at' und 'created' in Stunden. Dies zeigt, wie lange ein Video gebraucht hat, um in die Trends zu kommen.\n",
    "youtube_data['trend_time_hours'] = (youtube_data['modified_at'] - youtube_data['created']) / pd.Timedelta(hours=1)\n",
    "# Extrahiert den Wochentag (als Zahl von 0 bis 6, wobei 0 für Montag steht) aus dem 'created' Datum.\n",
    "youtube_data['weekday'] = youtube_data['created'].dt.weekday\n",
    "# Berechnung der Zeitdifferenz zwischen 'created' und 'published_at' in Stunden.\n",
    "youtube_data['hours_until_trend'] = (youtube_data['created'] - youtube_data['published_at']) / pd.Timedelta(hours=1)\n",
    "# Berechnung des Wachstums der Likes eines Videos, indem die Differenz zwischen dem letzten und dem ersten Wert in der 'likes'-Liste berechnet wird.\n",
    "youtube_data['likes_growth'] = youtube_data['likes'].apply(\n",
    "    lambda x: x[-1] - x[0] if x[0] is not None and x[-1] is not None else None)\n",
    "# Berechnung des Wachstums der Likes eines Videos pro Stunde, indem das gesamte Likes-Wachstum durch die Anzahl der Stunden, die das Video benötigt hat, um in die Trends zu kommen, geteilt wird.\n",
    "youtube_data['likes_growth/hour'] = youtube_data['likes_growth'] / youtube_data['trend_time_hours']\n",
    "# Extrahiert den ersten Rang eines Videos aus der 'rank'-Liste.\n",
    "youtube_data['first_rank'] = youtube_data['rank'].apply(lambda x: x[0])\n",
    "# Extrahiert den besten (niedrigsten) Rang eines Videos aus der 'rank'-Liste.\n",
    "youtube_data['best_rank'] = youtube_data['rank'].apply(lambda x: min(x))\n",
    "# Berechnet das Wachstum der Views eines Videos, indem die Differenz zwischen dem letzten und dem ersten Wert in der 'views'-Liste berechnet wird.\n",
    "youtube_data['views_growth'] = youtube_data['views'].apply(\n",
    "    lambda x: x[-1] - x[0] if x[0] is not None and x[-1] is not None else None)\n",
    "# Berechnet das Wachstum der Views eines Videos pro Stunde, indem das gesamte Views-Wachstum durch die Anzahl der Stunden, die das Video benötigt hat, um in die Trends zu kommen, geteilt wird.\n",
    "youtube_data['views_growth/hour'] = youtube_data['views_growth'] / youtube_data['trend_time_hours']\n",
    "\n",
    "# Erstellen neuer Spalten für die aktuellsten Werte von Titel, Views, Likes, Dislikes und Kommentaren\n",
    "youtube_data['title'] = youtube_data['title'].apply(lambda x: x[-1])  # Die Titel-Spalte wird überschrieben\n",
    "youtube_data['views_cleaned'] = youtube_data['views'].apply(lambda x: x[-1])\n",
    "youtube_data['likes_cleaned'] = youtube_data['likes'].apply(lambda x: x[-1])\n",
    "youtube_data['dislikes_cleaned'] = youtube_data['dislikes'].apply(lambda x: x[-1])\n",
    "youtube_data['comments_cleaned'] = youtube_data['comments'].apply(lambda x: x[-1])"
   ],
   "metadata": {
    "collapsed": false,
    "ExecuteTime": {
     "end_time": "2024-06-04T10:44:14.962958Z",
     "start_time": "2024-06-04T10:44:14.613981Z"
    }
   },
   "id": "641cd46b00c1325d"
  },
  {
   "cell_type": "code",
   "execution_count": 9,
   "outputs": [],
   "source": [
    "# Speichern der Daten im Parquet-Format\n",
    "youtube_data.to_parquet(\"../Data/cleaned_youtube_data.parquet\")"
   ],
   "metadata": {
    "collapsed": false,
    "ExecuteTime": {
     "end_time": "2024-06-04T10:44:20.437114Z",
     "start_time": "2024-06-04T10:44:18.238598Z"
    }
   },
   "id": "8afa59bbfd41014a"
  },
  {
   "cell_type": "markdown",
   "source": [
    "### Hier fortfahren"
   ],
   "metadata": {
    "collapsed": false
   },
   "id": "3ffa992b2a7f755e"
  },
  {
   "cell_type": "code",
   "execution_count": 11,
   "outputs": [],
   "source": [
    "# Daten einlesen\n",
    "df = pd.read_parquet(\"../Data/cleaned_youtube_data.parquet\")\n",
    "\n",
    "# Dataframe mit den gewünschten Spalten erstellen\n",
    "df = df[['duration', 'comments_cleaned']]"
   ],
   "metadata": {
    "collapsed": false,
    "ExecuteTime": {
     "end_time": "2024-06-04T10:44:41.468939Z",
     "start_time": "2024-06-04T10:44:40.246365Z"
    }
   },
   "id": "223f47326b37585a"
  },
  {
   "cell_type": "code",
   "execution_count": 12,
   "outputs": [
    {
     "data": {
      "text/plain": "duration              0\ncomments_cleaned    251\ndtype: int64"
     },
     "execution_count": 12,
     "metadata": {},
     "output_type": "execute_result"
    }
   ],
   "source": [
    "# Überprüfen, ob die Daten NaN-Werte enthalten\n",
    "missing_values = df.isnull().sum()\n",
    "missing_values"
   ],
   "metadata": {
    "collapsed": false,
    "ExecuteTime": {
     "end_time": "2024-06-04T10:44:52.417488Z",
     "start_time": "2024-06-04T10:44:52.406504Z"
    }
   },
   "id": "30de0215cdadca8f"
  },
  {
   "cell_type": "code",
   "execution_count": 13,
   "outputs": [
    {
     "data": {
      "text/plain": "duration            0\ncomments_cleaned    0\ndtype: int64"
     },
     "execution_count": 13,
     "metadata": {},
     "output_type": "execute_result"
    }
   ],
   "source": [
    "# Konvertierung der Spalten 'duration' und 'comments' in numerische Werte\n",
    "df['duration'] = pd.to_numeric(df['duration'], errors='coerce') / 1000\n",
    "df['comments_cleaned'] = pd.to_numeric(df['comments_cleaned'], errors='coerce') / 1_000_000\n",
    "\n",
    "# Datenbereinigung: Entfernen von NaN-Werten in 'duration' und 'comments'\n",
    "df = df.dropna(subset=['duration', 'comments_cleaned'])\n",
    "\n",
    "# Überprüfen, ob die Daten noch NaN-Werte enthalten\n",
    "missing_values = df.isnull().sum()\n",
    "missing_values"
   ],
   "metadata": {
    "collapsed": false,
    "ExecuteTime": {
     "end_time": "2024-06-04T10:45:05.898078Z",
     "start_time": "2024-06-04T10:45:05.888537Z"
    }
   },
   "id": "bef6d70886fe1fd0"
  },
  {
   "cell_type": "code",
   "execution_count": 14,
   "outputs": [
    {
     "name": "stdout",
     "output_type": "stream",
     "text": [
      "<class 'pandas.core.frame.DataFrame'>\n",
      "Index: 17700 entries, 0 to 17950\n",
      "Data columns (total 2 columns):\n",
      " #   Column            Non-Null Count  Dtype  \n",
      "---  ------            --------------  -----  \n",
      " 0   duration          17700 non-null  float64\n",
      " 1   comments_cleaned  17700 non-null  float64\n",
      "dtypes: float64(2)\n",
      "memory usage: 414.8 KB\n"
     ]
    }
   ],
   "source": [
    "df.info()"
   ],
   "metadata": {
    "collapsed": false,
    "ExecuteTime": {
     "end_time": "2024-06-04T10:45:14.045444Z",
     "start_time": "2024-06-04T10:45:14.037179Z"
    }
   },
   "id": "1e303147df7ff47a"
  },
  {
   "cell_type": "code",
   "execution_count": 15,
   "outputs": [
    {
     "data": {
      "text/plain": "<Figure size 640x480 with 1 Axes>",
      "image/png": "[encoded data removed]"
     },
     "metadata": {},
     "output_type": "display_data"
    }
   ],
   "source": [
    "# Visualisierung der Korrelation mit einem Scatter-Plot\n",
    "sns.scatterplot(data=df, x='duration', y='comments_cleaned')\n",
    "plt.title('Scatter-Plot von Dauer und Kommentaren')\n",
    "plt.xlabel('Dauer in Tsd. Sekunden')\n",
    "plt.ylabel('Kommentare in Mio.')\n",
    "plt.ticklabel_format(style='plain', axis='y')\n",
    "plt.show()"
   ],
   "metadata": {
    "collapsed": false,
    "ExecuteTime": {
     "end_time": "2024-06-04T10:45:22.735226Z",
     "start_time": "2024-06-04T10:45:22.568385Z"
    }
   },
   "id": "15faab2e5b6eaed5"
  },
  {
   "cell_type": "code",
   "execution_count": 18,
   "outputs": [
    {
     "name": "stdout",
     "output_type": "stream",
     "text": [
      "Korrelationskoeffizienten zwischen 'duration' und 'comments_cleaned':\n",
      "\n",
      "Pearson: -0.017\n",
      "Kendall: 0.043\n",
      "Spearman: 0.065\n"
     ]
    }
   ],
   "source": [
    "# Berechnung und Ausgabe der Korrelationskoeffizienten zwischen 'duration' und 'comments_cleaned'\n",
    "\n",
    "\n",
    "# Berechnung des Pearson-Korrelationskoeffizienten\n",
    "pearson_corr_matrix = df[['duration', 'comments_cleaned']].corr(method='pearson')\n",
    "pearson_coefficient = pearson_corr_matrix.loc['duration', 'comments_cleaned']\n",
    "\n",
    "# Berechnung des Kendall-Korrelationskoeffizienten\n",
    "kendall_corr_matrix = df[['duration', 'comments_cleaned']].corr(method='kendall')\n",
    "kendall_coefficient = kendall_corr_matrix.loc['duration', 'comments_cleaned']\n",
    "\n",
    "# Berechnung des Spearman-Korrelationskoeffizienten\n",
    "spearman_corr_matrix = df[['duration', 'comments_cleaned']].corr(method='spearman')\n",
    "spearman_coefficient = spearman_corr_matrix.loc['duration', 'comments_cleaned']\n",
    "\n",
    "# Ausgabe der Korrelationskoeffizienten\n",
    "print(\"Korrelationskoeffizienten zwischen 'duration' und 'comments_cleaned':\\n\")\n",
    "print(f\"Pearson: {round(pearson_coefficient, 3)}\")\n",
    "print(f\"Kendall: {round(kendall_coefficient, 3)}\")\n",
    "print(f\"Spearman: {round(spearman_coefficient, 3)}\")"
   ],
   "metadata": {
    "collapsed": false,
    "ExecuteTime": {
     "end_time": "2024-06-04T10:46:59.596068Z",
     "start_time": "2024-06-04T10:46:59.580596Z"
    }
   },
   "id": "f6fdfcfbd96332e"
  },
  {
   "cell_type": "markdown",
   "source": [
    "### Interpretation\n",
    "\n",
    "Der Pearson-Korrelationskoeffizient von -0,017 deutet auf eine extrem schwache negative lineare Korrelation zwischen Videodauer und Kommentaren hin. Der Wert liegt jedoch so nah an 0, dass man von keiner praktisch relevanten linearen Beziehung zwischen den beiden Variablen ausgehen kann.\n",
    "Zusammengefasst deutet der Pearson Korrelationskoeffizient auf eine äußerst schwache bis nicht vorhandene Beziehung zwischen Videodauer und Kommentarzahl hin."
   ],
   "metadata": {
    "collapsed": false
   },
   "id": "3fb45a2206a002cf"
  },
  {
   "cell_type": "code",
   "execution_count": null,
   "outputs": [],
   "source": [],
   "metadata": {
    "collapsed": false
   },
   "id": "c9e1c3019b865c06"
  }
 ],
 "metadata": {
  "kernelspec": {
   "display_name": "Python 3",
   "language": "python",
   "name": "python3"
  },
  "language_info": {
   "codemirror_mode": {
    "name": "ipython",
    "version": 2
   },
   "file_extension": ".py",
   "mimetype": "text/x-python",
   "name": "python",
   "nbconvert_exporter": "python",
   "pygments_lexer": "ipython2",
   "version": "2.7.6"
  }
 },
 "nbformat": 4,
 "nbformat_minor": 5
}
