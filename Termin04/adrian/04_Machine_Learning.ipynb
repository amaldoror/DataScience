{
 "cells": [
  {
   "cell_type": "markdown",
   "source": [
    "# Praktikum 4: Machine Learning"
   ],
   "metadata": {
    "collapsed": false
   },
   "id": "97009eab61d3d0f7"
  },
  {
   "metadata": {},
   "cell_type": "markdown",
   "source": [
    "## Aufgabe: Vergleich von Machine Learning Algorithmen für die Bildklassifizierung\n",
    "\n",
    "**Ziel**: \n",
    "\n",
    "Ziel dieses Praktikums ist es, verschiedene Machine Learning Methoden zur Klassifikation von handgeschriebenen Ziffern (MNIST-Datensatz) zu erkunden und zu vergleichen. Durch diese Aufgabe sollt ihr ein tieferes Verständnis für die Stärken, Schwächen und Anwendungsgebiete verschiedener Machine Learning Algorithmen erlangen.\n",
    "\n",
    "**Einführung**:\n",
    "\n",
    "Der MNIST-Datensatz ist eine Sammlung von handgeschriebenen Ziffern, der häufig zum Einstieg in die Bilderkennung und Machine Learning genutzt wird. Er besteht aus 70.000 Bildern, wobei jedes Bild eine der Ziffern von 0 bis 9 darstellt. Diese Aufgabe bietet eine praktische Gelegenheit, grundlegende Techniken des Machine Learnings anzuwenden und zu vergleichen.\n",
    " \n",
    "<img src=\"digits_output.png\" alt=\"image\" width=\"300\" height=\"auto\">\n",
    "\n",
    "**Aufgabenübersicht**:\n",
    "\n",
    "1. **Datenvorverarbeitung**:\n",
    "    - Ladet die erste Version des MNIST-Datensatzes über scikit-learn.\n",
    "    - Teilt den Datensatz in Trainings- und Testsets auf. Das Testset soll 20 % der Daten beinhalten.\n",
    "    - Da es sich bei den Bildern um 28 x 28 Matrizen handelt, die ML Algorithmen jedoch Vektoren als Input erwarten, müsst ihr die Daten entsprechend umformen. Nutzt dafür die Funktion `reshape()`.\n",
    "    - Skaliert die Daten auf den Wertebereich [0, 1]. Nutzt dafür den `MinMaxScaler` von scikit-learn.\n",
    "\n",
    "2. **Klassifikation mit verschiedenen Algorithmen**:\n",
    "    - Trainiert die folgenden Algorithmen:\n",
    "        - Logistic Regression (mit `sklearn`)\n",
    "        - Decision Tree (mit`sklearn`)\n",
    "        - Random Forest (mit `sklearn`)\n",
    "        - Support Vector Machine (mit `sklearn`)\n",
    "        - Neural Network (mit `tensorflow.keras` und dem `Sequential`-Package):\n",
    "            - Verwendet mindestens 2 Hidden Layers (Dense).\n",
    "            - Nutzt die Loss Function `Crossentropy` (Achtung: Es gibt verschiedene Arten! Informiert euch darüber).\n",
    "            - Verwendet die Aktivierungsfunktionen `relu` und `softmax` (Achtet darauf, welche für welche Layer geeignet sind).\n",
    "            - Trainiert das Netz für 10 Epochen.\n",
    "            - Nutzt die Funktion `summary()` um euch die Netzarchitektur ausgeben zu lassen.\n",
    "    - Achtet auf eine sinnvolle Wahl der Hyperparameter. Informiert euch bei Bedarf auf den jeweiligen Dokumentationsseiten der Bibliotheken.\n",
    "    - Evaluiert jedes Modell mit der Metrik `accuracy_score` auf dem Testset (Achtung: Das Vorgehen zur Evaluierung des Neural Networks ist etwas anders!).\n",
    "    - Messt die Trainings- und Inferenzzeiten für die verschiedenen Algorithmen mit der Funktion `time()`.\n",
    "\n",
    "3. **Evaluierung und Vergleich**:\n",
    "    - Vergleicht die Leistung der Modelle in einer Pandas-Tabelle hinsichtlich Trainingszeit und Genauigkeit.\n",
    "    - Beschreibt die Ergebnisse kurz in etwa 5 Sätzen."
   ],
   "id": "d7f535781f311413"
  },
  {
   "metadata": {},
   "cell_type": "markdown",
   "source": [
    "## Datenvorverarbeitung"
   ],
   "id": "a4ce6244eb8583"
  },
  {
   "metadata": {},
   "cell_type": "markdown",
   "source": [
    "### Daten laden\n",
    "\n",
    "Ladet die erste Version des MNIST-Datensatzes über scikit-learn."
   ],
   "id": "6394bac89eeb1af3"
  },
  {
   "metadata": {
    "ExecuteTime": {
     "end_time": "2024-06-24T10:52:35.614547Z",
     "start_time": "2024-06-24T10:52:35.223196Z"
    }
   },
   "cell_type": "code",
   "source": [
    "from sklearn.datasets import fetch_openml\n",
    "from sklearn.model_selection import train_test_split\n",
    "from sklearn.preprocessing import MinMaxScaler\n",
    "import matplotlib.pyplot as plt\n",
    "from time import time\n",
    "import pandas as pd\n",
    "import numpy as np"
   ],
   "id": "aaddc29db1fe55e8",
   "outputs": [],
   "execution_count": 1
  },
  {
   "cell_type": "code",
   "source": [
    "# MNIST DataSet laden\n",
    "mnist = fetch_openml('mnist_784')"
   ],
   "metadata": {
    "collapsed": false,
    "ExecuteTime": {
     "end_time": "2024-06-24T10:52:40.904657Z",
     "start_time": "2024-06-24T10:52:35.617562Z"
    }
   },
   "id": "ca1505451ae8e84",
   "outputs": [],
   "execution_count": 2
  },
  {
   "cell_type": "code",
   "source": [
    "# Informationen über das MNIST DataSet\n",
    "\n",
    "#mnist.values()\n",
    "print(mnist.data.shape)\n",
    "#print(mnist.target.shape)\n",
    "#print(mnist.data.head())\n",
    "#print(mnist.target.head())\n",
    "print(mnist.DESCR)\n",
    "#print(mnist.details)"
   ],
   "metadata": {
    "collapsed": false,
    "ExecuteTime": {
     "end_time": "2024-06-24T10:52:40.911380Z",
     "start_time": "2024-06-24T10:52:40.905602Z"
    }
   },
   "id": "2e2c55b07d2e7fcf",
   "outputs": [
    {
     "name": "stdout",
     "output_type": "stream",
     "text": [
      "(70000, 784)\n",
      "**Author**: Yann LeCun, Corinna Cortes, Christopher J.C. Burges  \n",
      "**Source**: [MNIST Website](http://yann.lecun.com/exdb/mnist/) - Date unknown  \n",
      "**Please cite**:  \n",
      "\n",
      "The MNIST database of handwritten digits with 784 features, raw data available at: http://yann.lecun.com/exdb/mnist/. It can be split in a training set of the first 60,000 examples, and a test set of 10,000 examples  \n",
      "\n",
      "It is a subset of a larger set available from NIST. The digits have been size-normalized and centered in a fixed-size image. It is a good database for people who want to try learning techniques and pattern recognition methods on real-world data while spending minimal efforts on preprocessing and formatting. The original black and white (bilevel) images from NIST were size normalized to fit in a 20x20 pixel box while preserving their aspect ratio. The resulting images contain grey levels as a result of the anti-aliasing technique used by the normalization algorithm. the images were centered in a 28x28 image by computing the center of mass of the pixels, and translating the image so as to position this point at the center of the 28x28 field.  \n",
      "\n",
      "With some classification methods (particularly template-based methods, such as SVM and K-nearest neighbors), the error rate improves when the digits are centered by bounding box rather than center of mass. If you do this kind of pre-processing, you should report it in your publications. The MNIST database was constructed from NIST's NIST originally designated SD-3 as their training set and SD-1 as their test set. However, SD-3 is much cleaner and easier to recognize than SD-1. The reason for this can be found on the fact that SD-3 was collected among Census Bureau employees, while SD-1 was collected among high-school students. Drawing sensible conclusions from learning experiments requires that the result be independent of the choice of training set and test among the complete set of samples. Therefore it was necessary to build a new database by mixing NIST's datasets.  \n",
      "\n",
      "The MNIST training set is composed of 30,000 patterns from SD-3 and 30,000 patterns from SD-1. Our test set was composed of 5,000 patterns from SD-3 and 5,000 patterns from SD-1. The 60,000 pattern training set contained examples from approximately 250 writers. We made sure that the sets of writers of the training set and test set were disjoint. SD-1 contains 58,527 digit images written by 500 different writers. In contrast to SD-3, where blocks of data from each writer appeared in sequence, the data in SD-1 is scrambled. Writer identities for SD-1 is available and we used this information to unscramble the writers. We then split SD-1 in two: characters written by the first 250 writers went into our new training set. The remaining 250 writers were placed in our test set. Thus we had two sets with nearly 30,000 examples each. The new training set was completed with enough examples from SD-3, starting at pattern # 0, to make a full set of 60,000 training patterns. Similarly, the new test set was completed with SD-3 examples starting at pattern # 35,000 to make a full set with 60,000 test patterns. Only a subset of 10,000 test images (5,000 from SD-1 and 5,000 from SD-3) is available on this site. The full 60,000 sample training set is available.\n",
      "\n",
      "Downloaded from openml.org.\n"
     ]
    }
   ],
   "execution_count": 3
  },
  {
   "cell_type": "code",
   "source": [
    "# Extrahieren der Daten und Labels und konvertieren in gewünschte Formate\n",
    "X = mnist.data.astype('float32')\n",
    "y = mnist.target.astype('int64')"
   ],
   "metadata": {
    "collapsed": false,
    "ExecuteTime": {
     "end_time": "2024-06-24T10:52:41.040817Z",
     "start_time": "2024-06-24T10:52:40.913377Z"
    }
   },
   "id": "c97814bf5b1c4119",
   "outputs": [],
   "execution_count": 4
  },
  {
   "metadata": {},
   "cell_type": "markdown",
   "source": [
    "### Train-Test-Split\n",
    "\n",
    "Teilt den Datensatz in Trainings- und Testsets auf. Nutzt die Funktion `train_test_split()` von scikit-learn. Das Testset soll 20 % der Daten beinhalten."
   ],
   "id": "864c1c1e86e57045"
  },
  {
   "metadata": {
    "ExecuteTime": {
     "end_time": "2024-06-24T10:52:41.286194Z",
     "start_time": "2024-06-24T10:52:41.041255Z"
    }
   },
   "cell_type": "code",
   "source": [
    "# DataSet in Trainings- und Testdaten splitten im Verhältnis 80/20\n",
    "X_train, X_test, y_train, y_test = train_test_split(X, y, test_size=0.2, random_state=0)"
   ],
   "id": "63e6c6122e72eea",
   "outputs": [],
   "execution_count": 5
  },
  {
   "cell_type": "code",
   "source": [
    "print(\"Shape der Trainingsdaten:\", X_train.shape)\n",
    "print(\"Shape der Testdaten:\", X_test.shape)\n",
    "print(\"Shape der Labels (Training):\", y_train.shape)\n",
    "print(\"Shape der Labels (Test):\", y_test.shape)"
   ],
   "metadata": {
    "collapsed": false,
    "ExecuteTime": {
     "end_time": "2024-06-24T10:52:41.292045Z",
     "start_time": "2024-06-24T10:52:41.287202Z"
    }
   },
   "id": "4e4a60eb19c45e6c",
   "outputs": [
    {
     "name": "stdout",
     "output_type": "stream",
     "text": [
      "Shape der Trainingsdaten: (56000, 784)\n",
      "Shape der Testdaten: (14000, 784)\n",
      "Shape der Labels (Training): (56000,)\n",
      "Shape der Labels (Test): (14000,)\n"
     ]
    }
   ],
   "execution_count": 6
  },
  {
   "metadata": {},
   "cell_type": "markdown",
   "source": [
    "### Umwandlung in Vektoren\n",
    "\n",
    "Da es sich bei den Bildern um 28 x 28 Matrizen handelt, die ML Algorithmen jedoch Vektoren als Input erwarten, müsst ihr die Daten entsprechend umformen. Nutzt dafür die Funktion `reshape()`.\n"
   ],
   "id": "4b6a7c469b20ef53"
  },
  {
   "cell_type": "code",
   "source": [
    "num = 5\n",
    "\n",
    "plt.figure(figsize=(15, 20))\n",
    "for i in range(num):\n",
    "    img = X.iloc[i].values.reshape(28, 28)\n",
    "    plt.subplot(1, 5, i + 1)\n",
    "    plt.imshow(img)\n",
    "    plt.title(f\"Label: {y[i]}\")\n",
    "    plt.axis('off')\n",
    "\n",
    "plt.show()"
   ],
   "metadata": {
    "collapsed": false,
    "ExecuteTime": {
     "end_time": "2024-06-24T10:52:41.652059Z",
     "start_time": "2024-06-24T10:52:41.293066Z"
    }
   },
   "id": "50757682f8b023e8",
   "outputs": [
    {
     "data": {
      "text/plain": [
       "<Figure size 1500x2000 with 5 Axes>"
      ],
      "image/png": "[encoded data removed]"
     },
     "metadata": {},
     "output_type": "display_data"
    }
   ],
   "execution_count": 7
  },
  {
   "metadata": {
    "ExecuteTime": {
     "end_time": "2024-06-24T10:52:41.657528Z",
     "start_time": "2024-06-24T10:52:41.653070Z"
    }
   },
   "cell_type": "code",
   "source": [
    "print(X.shape[1])\n",
    "print(X_train.shape[1])\n",
    "print(X_test.shape[1])"
   ],
   "id": "bad4d627bfefb869",
   "outputs": [
    {
     "name": "stdout",
     "output_type": "stream",
     "text": [
      "784\n",
      "784\n",
      "784\n"
     ]
    }
   ],
   "execution_count": 8
  },
  {
   "metadata": {},
   "cell_type": "markdown",
   "source": [
    "### Skalierung\n",
    "\n",
    "Skaliert die Daten auf den Wertebereich [0, 1]. Nutzt dafür den `MinMaxScaler` von scikit-learn."
   ],
   "id": "3d6b9474743af83c"
  },
  {
   "metadata": {
    "ExecuteTime": {
     "end_time": "2024-06-24T10:52:41.908830Z",
     "start_time": "2024-06-24T10:52:41.659539Z"
    }
   },
   "cell_type": "code",
   "source": [
    "# Skalieren der Daten auf den Wertebereich [0, 1]\n",
    "scaler = MinMaxScaler()\n",
    "X_train_scaled = scaler.fit_transform(X_train)\n",
    "X_test_scaled = scaler.transform(X_test)"
   ],
   "id": "d2a0e4bea9040ad3",
   "outputs": [],
   "execution_count": 9
  },
  {
   "metadata": {},
   "cell_type": "markdown",
   "source": [
    "## Klassifikation mit verschiedenen Algorithmen\n",
    "   - Trainiert die folgenden Algorithmen:\n",
    "        - Logistic Regression (mit `sklearn`)\n",
    "        - Decision Tree (mit`sklearn`)\n",
    "        - Random Forest (mit `sklearn`)\n",
    "        - Support Vector Machine (mit `sklearn`)\n",
    "        - Neural Network (mit `tensorflow.keras` und dem `Sequential`-Package):\n",
    "            - Verwendet mindestens 2 Hidden Layers (Dense).\n",
    "            - Nutzt die Loss Function `Crossentropy` (Achtung: Es gibt verschiedene Arten! Informiert euch darüber).\n",
    "            - Verwendet die Aktivierungsfunktionen `relu` und `softmax` (Achtet darauf, welche für welche Layer geeignet sind).\n",
    "            - Trainiert das Netz für 10 Epochen.\n",
    "            - Nutzt die Funktion `summary()` um euch die Netzarchitektur ausgeben zu lassen.\n",
    "   - Achtet auf eine sinnvolle Wahl der Hyperparameter. Informiert euch bei Bedarf auf den jeweiligen Dokumentationsseiten der Bibliotheken.\n",
    "   - Messt die Trainings- und Inferenzzeiten für die verschiedenen Algorithmen mit der Funktion `time()`.\n",
    "   - Evaluiert jedes Modell mit der Metrik `accuracy_score` auf dem Testset (Achtung: Das Vorgehen zur Evaluierung des Neural Networks ist etwas anders!)."
   ],
   "id": "a7e875c7f187a4a7"
  },
  {
   "metadata": {
    "ExecuteTime": {
     "end_time": "2024-06-24T11:09:12.601285Z",
     "start_time": "2024-06-24T11:09:12.596715Z"
    }
   },
   "cell_type": "code",
   "source": [
    "# Methode zum Formatieren der gemessenen Zeiten\n",
    "def format_time(seconds):\n",
    "    if seconds < 1e-3:\n",
    "        return f\"{seconds * 1e6:.2f} µs\"\n",
    "    elif seconds < 1:\n",
    "        return f\"{seconds * 1e3:.2f} ms\"\n",
    "    elif seconds < 60:\n",
    "        return f\"{seconds:.2f} s\"\n",
    "    else:\n",
    "        minutes = int(seconds // 60)\n",
    "        seconds = seconds % 60\n",
    "        return f\"{minutes} min {seconds:.2f} s\""
   ],
   "id": "75fc0ae98e70fa28",
   "outputs": [],
   "execution_count": 27
  },
  {
   "cell_type": "markdown",
   "source": [
    "### Logistic Regression"
   ],
   "metadata": {
    "collapsed": false
   },
   "id": "5232eed478b1f2f0"
  },
  {
   "cell_type": "markdown",
   "source": [
    "- **Accuracy**: Die Genauigkeit des Modells auf den Testdaten. Sie gibt an, wie viele der Vorhersagen des Modells korrekt sind.\n",
    "- **Intercept**: Das Intercept (oder Bias) ist ein Array mit den Abfangwerten für die verschiedenen Klassen. Es verschiebt die Entscheidungsgrenze.\n",
    "- **Class Weight**: Gibt an, ob Klassen unterschiedlich gewichtet werden sollen. `None` bedeutet, dass alle Klassen gleich gewichtet werden.\n",
    "- **Classes**: Eine Liste der Klassenlabels, die das Modell unterscheiden kann.\n",
    "- **Random State**: Zufallszustand für Reproduzierbarkeit der Ergebnisse.\n",
    "- **C**: Invers der Regularisierungsstärke; ein kleinerer Wert bedeutet stärkere Regularisierung.\n",
    "- **N Jobs**: Anzahl der CPUs, die verwendet werden sollen. `None` bedeutet 1 CPU.\n",
    "- **Dual**: Gibt an, ob das duale oder das primale Optimierungsproblem gelöst wird. Nur für `liblinear`-Solver relevant.\n",
    "- **Fit intercept**: Ob ein Intercept in das Modell eingebaut wird.\n",
    "- **Intercept Scaling**: Skalierung des Intercepts, nur relevant wenn `fit_intercept` und `solver='liblinear'`.\n",
    "- **L1 Ratio**: Verhältnis von L1- und L2-Regularisierung; nur bei `ElasticNet` relevant.\n",
    "- **Max Iter**: Maximale Anzahl der Iterationen bei der Optimierung.\n",
    "- **N Iter**: Anzahl der Iterationen, die der Solver benötigt hat, um zu konvergieren.\n",
    "- **Penalty**: Die Norm der Regularisierung (`'l2'`, `'l1'`, `'elasticnet'` oder `'none'`).\n",
    "- **Solver**: Der Algorithmus, der zur Optimierung verwendet wird. Verschiedene Solver haben unterschiedliche Eigenschaften und Anforderungen.\n",
    "- **Tol**: Toleranz für das Abbruchkriterium.\n",
    "- **Verbose**: Gibt an, ob während der Ausführung des Solvers Informationen ausgegeben werden.\n",
    "- **Warm Start**: Wenn `True`, werden die Ergebnisse der vorherigen Aufrufe von `fit` verwendet, um das Modell zu initialisieren.\n",
    "- **Coef**: Die gelernten Koeffizienten für das Modell, ein Array der Form (n_classes, n_features). Diese Koeffizienten bestimmen die Entscheidungsgrenzen.\n"
   ],
   "metadata": {
    "collapsed": false
   },
   "id": "f9e4f3e579bd29d"
  },
  {
   "metadata": {
    "ExecuteTime": {
     "end_time": "2024-06-24T10:53:24.498911Z",
     "start_time": "2024-06-24T10:52:41.916147Z"
    }
   },
   "cell_type": "code",
   "source": [
    "from sklearn.linear_model import LogisticRegression\n",
    "\n",
    "# Erstelle Logistic Regression Classifier\n",
    "clf_lr = LogisticRegression(max_iter=1000, random_state=0)\n",
    "\n",
    "# Starte die Zeitmessung für das Training\n",
    "start_time_lr = time()\n",
    "\n",
    "# Trainiere das Modell\n",
    "clf_lr.fit(X_train_scaled, y_train)\n",
    "\n",
    "# Beende die Zeitmessung und berechne die Dauer\n",
    "training_time_lr = time() - start_time_lr"
   ],
   "id": "526e5642ed3a60bc",
   "outputs": [],
   "execution_count": 11
  },
  {
   "cell_type": "code",
   "source": [
    "from sklearn.metrics import accuracy_score\n",
    "\n",
    "# Starte Inferenz mit Zeitmessung\n",
    "start_time_inference_lr = time()\n",
    "y_pred_lr = clf_lr.predict(X_test_scaled)\n",
    "inference_time_lr = time() - start_time_inference_lr\n",
    "\n",
    "# Evaluiere das Modell\n",
    "accuracy_lr = accuracy_score(y_test, y_pred_lr)\n",
    "\n",
    "print(f\"\"\"\n",
    "Modellinformationen:\n",
    "----------------------------------------------------------------------------------\n",
    "Training Time:              {format_time(training_time_lr)}\n",
    "Inference Time:             {format_time(inference_time_lr)}\n",
    "Accuracy:                   {accuracy_lr:.4f}\n",
    "Intercept:                  {clf_lr.intercept_}\n",
    "Class Weight:               {clf_lr.class_weight}\n",
    "Classes:                    {clf_lr.classes_}\n",
    "Random State:               {clf_lr.random_state}\n",
    "C:                          {clf_lr.C}\n",
    "N Jobs:                     {clf_lr.n_jobs}\n",
    "Dual:                       {clf_lr.dual}\n",
    "Fit intercept:              {clf_lr.fit_intercept}\n",
    "Intercept Scaling:          {clf_lr.intercept_scaling}\n",
    "L1 Ratio:                   {clf_lr.l1_ratio}\n",
    "Max Iter:                   {clf_lr.max_iter}\n",
    "N Iter:                     {clf_lr.n_iter_}\n",
    "Penalty:                    {clf_lr.penalty}\n",
    "Solver:                     {clf_lr.solver}\n",
    "Tol:                        {clf_lr.tol}\n",
    "Verbose:                    {clf_lr.verbose}\n",
    "Warm Start:                 {clf_lr.warm_start}\n",
    "Coef:                       {clf_lr.coef_}\n",
    "\"\"\")"
   ],
   "metadata": {
    "collapsed": false,
    "ExecuteTime": {
     "end_time": "2024-06-24T10:53:24.637271Z",
     "start_time": "2024-06-24T10:53:24.499907Z"
    }
   },
   "id": "f07d2c77c7034876",
   "outputs": [
    {
     "name": "stdout",
     "output_type": "stream",
     "text": [
      "\n",
      "Modellinformationen:\n",
      "----------------------------------------------------------------------------------\n",
      "Training Time:              42.53 s\n",
      "Inference Time:             99.00 ms\n",
      "Accuracy:                   0.9176\n",
      "Intercept:                  [-1.14023644  1.51324601  0.18178715 -0.91429774  0.15114695  2.0304898\n",
      " -0.35311116  1.44370957 -2.41653289 -0.49620124]\n",
      "Class Weight:               None\n",
      "Classes:                    [0 1 2 3 4 5 6 7 8 9]\n",
      "Random State:               0\n",
      "C:                          1.0\n",
      "N Jobs:                     None\n",
      "Dual:                       False\n",
      "Fit intercept:              True\n",
      "Intercept Scaling:          1\n",
      "L1 Ratio:                   None\n",
      "Max Iter:                   1000\n",
      "N Iter:                     [237]\n",
      "Penalty:                    l2\n",
      "Solver:                     lbfgs\n",
      "Tol:                        0.0001\n",
      "Verbose:                    0\n",
      "Warm Start:                 False\n",
      "Coef:                       [[0. 0. 0. ... 0. 0. 0.]\n",
      " [0. 0. 0. ... 0. 0. 0.]\n",
      " [0. 0. 0. ... 0. 0. 0.]\n",
      " ...\n",
      " [0. 0. 0. ... 0. 0. 0.]\n",
      " [0. 0. 0. ... 0. 0. 0.]\n",
      " [0. 0. 0. ... 0. 0. 0.]]\n"
     ]
    }
   ],
   "execution_count": 12
  },
  {
   "metadata": {},
   "cell_type": "markdown",
   "source": [
    "### Decision Tree"
   ],
   "id": "14b08b4dbac58583"
  },
  {
   "cell_type": "markdown",
   "source": [
    "- **Accuracy**: Die Genauigkeit des Modells auf den Testdaten. Sie gibt an, wie viele der Vorhersagen des Modells korrekt sind.\n",
    "- **Criterion**: Das Kriterium, das verwendet wird, um die Qualität eines Splits zu messen (z. B. `gini` oder `entropy`).\n",
    "- **Tree**: Das zugrundeliegende Baumobjekt, das die Baumstruktur des Modells speichert.\n",
    "- **CCP Alpha**: Der Komplexität-Parameter (Cost-Complexity Pruning Alpha) zur Minimal-Reduktion der Komplexität des Baums.\n",
    "- **Class Weight**: Gibt an, ob Klassen unterschiedlich gewichtet werden sollen. `None` bedeutet, dass alle Klassen gleich gewichtet werden.\n",
    "- **Classes**: Eine Liste der Klassenlabels, die das Modell unterscheiden kann.\n",
    "- **Max Depth**: Die maximale Tiefe des Baumes. `None` bedeutet, dass der Baum so lange wächst, bis alle Blätter rein sind oder weniger als `min_samples_split` Samples enthalten.\n",
    "- **Max Features**: Die maximale Anzahl von Features, die für die besten Splits berücksichtigt werden. `None` bedeutet, dass alle Features verwendet werden.\n",
    "- **Max Leaf Nodes**: Die maximale Anzahl der Blätter. `None` bedeutet, dass unbegrenzt viele Blätter erzeugt werden können.\n",
    "- **Min Samples Leaf**: Die minimale Anzahl von Samples, die in einem Blatt-Knoten vorhanden sein müssen.\n",
    "- **Min Samples Split**: Die minimale Anzahl von Samples, die benötigt werden, um einen internen Knoten zu splitten.\n",
    "- **Min Impurity Decrease**: Die minimale Verringerung der Ungleichheit, die ein Split verursachen muss, um als solcher akzeptiert zu werden.\n",
    "- **Splitter**: Die Strategie, die verwendet wird, um den Split an jeder Knotenstelle zu wählen. Mögliche Werte sind `best` oder `random`.\n",
    "- **Monotonic cst**: Einschränkungen für die Monotonie, die das Wachstum des Baumes steuern.\n",
    "- **Random State**: Zufallszustand für Reproduzierbarkeit der Ergebnisse.\n"
   ],
   "metadata": {
    "collapsed": false
   },
   "id": "a2223f487f202a9f"
  },
  {
   "metadata": {
    "ExecuteTime": {
     "end_time": "2024-06-24T10:57:32.702872Z",
     "start_time": "2024-06-24T10:53:24.639267Z"
    }
   },
   "cell_type": "code",
   "source": [
    "from sklearn.tree import DecisionTreeClassifier\n",
    "from sklearn.model_selection import cross_val_score\n",
    "\n",
    "clf_dt = DecisionTreeClassifier(random_state=0)\n",
    "\n",
    "# Starte die Zeitmessung für das Training\n",
    "start_time_dt = time()\n",
    "\n",
    "# Trainieren des Modells\n",
    "clf_dt.fit(X_train_scaled, y_train)\n",
    "\n",
    "# Beende die Zeitmessung und berechne die Dauer\n",
    "training_time_dt = time() - start_time_dt\n",
    "\n",
    "cross_val_score(clf_dt, X_train_scaled, y_train, cv=10)"
   ],
   "id": "278495ebbd240a05",
   "outputs": [
    {
     "data": {
      "text/plain": [
       "array([0.87107143, 0.86482143, 0.86178571, 0.86625   , 0.87660714,\n",
       "       0.86089286, 0.87357143, 0.87214286, 0.87142857, 0.87017857])"
      ]
     },
     "execution_count": 13,
     "metadata": {},
     "output_type": "execute_result"
    }
   ],
   "execution_count": 13
  },
  {
   "cell_type": "code",
   "source": [
    "# Starte Inferenz mit Zeitmessung\n",
    "start_time_inference_dt = time()\n",
    "y_pred_dt = clf_dt.predict(X_test_scaled)\n",
    "inference_time_dt = time() - start_time_inference_dt\n",
    "\n",
    "# Evaluiere das Modell\n",
    "accuracy_dt = accuracy_score(y_test, y_pred_dt)\n",
    "\n",
    "print(f\"\"\"\n",
    "Modellinformationen:\n",
    "----------------------------------------------------------------------------------\n",
    "Training Time:              {format_time(training_time_dt)}\n",
    "Inference Time:             {format_time(inference_time_dt)}\n",
    "Accuracy:                   {accuracy_dt:.4f}\n",
    "Criterion:                  {clf_dt.criterion}\n",
    "Tree:                       {clf_dt.tree_}\n",
    "CCP Alpha:                  {clf_dt.ccp_alpha}\n",
    "Class Weight:               {clf_dt.class_weight}\n",
    "Classes:                    {clf_dt.classes_}\n",
    "Max Depth:                  {clf_dt.max_depth}\n",
    "Max Features:               {clf_dt.max_features}\n",
    "Max Leaf Nodes:             {clf_dt.max_leaf_nodes}\n",
    "Min Samples Leaf:           {clf_dt.min_samples_leaf}\n",
    "Min Samples Split:          {clf_dt.min_samples_split}\n",
    "Min Impurity Decrease:      {clf_dt.min_impurity_decrease}\n",
    "Splitter:                   {clf_dt.splitter}\n",
    "Monotonic cst:              {clf_dt.monotonic_cst}\n",
    "Random State:               {clf_dt.random_state}\n",
    "\"\"\")"
   ],
   "metadata": {
    "collapsed": false,
    "ExecuteTime": {
     "end_time": "2024-06-24T10:57:32.733350Z",
     "start_time": "2024-06-24T10:57:32.703880Z"
    }
   },
   "id": "25a6e86149323108",
   "outputs": [
    {
     "name": "stdout",
     "output_type": "stream",
     "text": [
      "\n",
      "Modellinformationen:\n",
      "----------------------------------------------------------------------------------\n",
      "Training Time:              17.67 s\n",
      "Inference Time:             19.97 ms\n",
      "Accuracy:                   0.8680\n",
      "Criterion:                  gini\n",
      "Tree:                       <sklearn.tree._tree.Tree object at 0x00000276C5ED7440>\n",
      "CCP Alpha:                  0.0\n",
      "Class Weight:               None\n",
      "Classes:                    [0 1 2 3 4 5 6 7 8 9]\n",
      "Max Depth:                  None\n",
      "Max Features:               None\n",
      "Max Leaf Nodes:             None\n",
      "Min Samples Leaf:           1\n",
      "Min Samples Split:          2\n",
      "Min Impurity Decrease:      0.0\n",
      "Splitter:                   best\n",
      "Monotonic cst:              None\n",
      "Random State:               0\n"
     ]
    }
   ],
   "execution_count": 14
  },
  {
   "metadata": {},
   "cell_type": "markdown",
   "source": [
    "### Random Forest"
   ],
   "id": "86d636ba7a6a544"
  },
  {
   "cell_type": "markdown",
   "source": [
    "- **Accuracy**: Die Genauigkeit des Modells auf den Testdaten. Sie gibt an, wie viele der Vorhersagen des Modells korrekt sind.\n",
    "- **Criterion**: Das Kriterium, das verwendet wird, um die Qualität eines Splits zu messen (z. B. `gini` oder `entropy`).\n",
    "- **Tree**: Das zugrundeliegende Baumobjekt, das die Baumstruktur des Modells speichert.\n",
    "- **CCP Alpha**: Der Komplexität-Parameter (Cost-Complexity Pruning Alpha) zur Minimal-Reduktion der Komplexität des Baums.\n",
    "- **Class Weight**: Gibt an, ob Klassen unterschiedlich gewichtet werden sollen. `None` bedeutet, dass alle Klassen gleich gewichtet werden.\n",
    "- **Classes**: Eine Liste der Klassenlabels, die das Modell unterscheiden kann.\n",
    "- **Max Depth**: Die maximale Tiefe des Baumes. `None` bedeutet, dass der Baum so lange wächst, bis alle Blätter rein sind oder weniger als `min_samples_split` Samples enthalten.\n",
    "- **Max Features**: Die maximale Anzahl von Features, die für die besten Splits berücksichtigt werden. `None` bedeutet, dass alle Features verwendet werden.\n",
    "- **Max Leaf Nodes**: Die maximale Anzahl der Blätter. `None` bedeutet, dass unbegrenzt viele Blätter erzeugt werden können.\n",
    "- **Min Samples Leaf**: Die minimale Anzahl von Samples, die in einem Blatt-Knoten vorhanden sein müssen.\n",
    "- **Min Samples Split**: Die minimale Anzahl von Samples, die benötigt werden, um einen internen Knoten zu splitten.\n",
    "- **Min Impurity Decrease**: Die minimale Verringerung der Ungleichheit, die ein Split verursachen muss, um als solcher akzeptiert zu werden.\n",
    "- **Splitter**: Die Strategie, die verwendet wird, um den Split an jeder Knotenstelle zu wählen. Mögliche Werte sind `best` oder `random`.\n",
    "- **Monotonic cst**: Einschränkungen für die Monotonie, die das Wachstum des Baumes steuern.\n",
    "- **Random State**: Zufallszustand für Reproduzierbarkeit der Ergebnisse."
   ],
   "metadata": {
    "collapsed": false
   },
   "id": "d521e5486a73f344"
  },
  {
   "metadata": {
    "ExecuteTime": {
     "end_time": "2024-06-24T10:57:36.404991Z",
     "start_time": "2024-06-24T10:57:32.734358Z"
    }
   },
   "cell_type": "code",
   "source": [
    "from sklearn.ensemble import RandomForestClassifier\n",
    "\n",
    "clf_rf = RandomForestClassifier(max_depth=2, random_state=0)\n",
    "\n",
    "# Starte die Zeitmessung für das Training\n",
    "start_time_rf = time()\n",
    "\n",
    "# Trainieren des Modells\n",
    "clf_rf.fit(X_train_scaled, y_train)\n",
    "\n",
    "# Beende die Zeitmessung und berechne die Dauer\n",
    "training_time_rf = time() - start_time_rf"
   ],
   "id": "f19bd21bfc94dbdf",
   "outputs": [],
   "execution_count": 15
  },
  {
   "cell_type": "code",
   "source": [
    "# Starte Inferenz mit Zeitmessung\n",
    "start_time_inference_rf = time()\n",
    "y_pred_rf = clf_rf.predict(X_test_scaled)\n",
    "inference_time_rf = time() - start_time_inference_rf\n",
    "\n",
    "# Evaluiere das Modell\n",
    "accuracy_rf = accuracy_score(y_test, y_pred_rf)\n",
    "\n",
    "print(f\"\"\"\n",
    "Modellinformationen:\n",
    "----------------------------------------------------------------------------------\n",
    "Training Time:              {format_time(training_time_rf)}\n",
    "Inference Time:             {format_time(inference_time_rf)}\n",
    "Accuracy:                   {accuracy_rf:.4f}\n",
    "Criterion:                  {clf_rf.criterion}\n",
    "CCP Alpha:                  {clf_rf.ccp_alpha}\n",
    "Class Weight:               {clf_rf.class_weight}\n",
    "Classes:                    {clf_rf.classes_}\n",
    "Max Depth:                  {clf_rf.max_depth}\n",
    "Max Features:               {clf_rf.max_features}\n",
    "Max Leaf Nodes:             {clf_rf.max_leaf_nodes}\n",
    "Min Samples Leaf:           {clf_rf.min_samples_leaf}\n",
    "Min Samples Split:          {clf_rf.min_samples_split}\n",
    "Min Impurity Decrease:      {clf_rf.min_impurity_decrease}\n",
    "Monotonic cst:              {clf_rf.monotonic_cst}\n",
    "Random State:               {clf_rf.random_state}\n",
    "\"\"\")"
   ],
   "metadata": {
    "collapsed": false,
    "ExecuteTime": {
     "end_time": "2024-06-24T10:57:36.511713Z",
     "start_time": "2024-06-24T10:57:36.407004Z"
    }
   },
   "id": "b847d4890de7ac",
   "outputs": [
    {
     "name": "stdout",
     "output_type": "stream",
     "text": [
      "\n",
      "Modellinformationen:\n",
      "----------------------------------------------------------------------------------\n",
      "Training Time:              3.46 s\n",
      "Inference Time:             98.00 ms\n",
      "Accuracy:                   0.6533\n",
      "Criterion:                  gini\n",
      "CCP Alpha:                  0.0\n",
      "Class Weight:               None\n",
      "Classes:                    [0 1 2 3 4 5 6 7 8 9]\n",
      "Max Depth:                  2\n",
      "Max Features:               sqrt\n",
      "Max Leaf Nodes:             None\n",
      "Min Samples Leaf:           1\n",
      "Min Samples Split:          2\n",
      "Min Impurity Decrease:      0.0\n",
      "Monotonic cst:              None\n",
      "Random State:               0\n"
     ]
    }
   ],
   "execution_count": 16
  },
  {
   "cell_type": "markdown",
   "source": [
    "### Support Vector Machine"
   ],
   "metadata": {
    "collapsed": false
   },
   "id": "8c35d93e90373801"
  },
  {
   "cell_type": "markdown",
   "source": [
    "- **Training Time**: Zeit, die für das Training des Modells benötigt wurde.\n",
    "- **Accuracy**: Die Genauigkeit des Modells auf den Testdaten. Sie gibt an, wie viele der Vorhersagen des Modells korrekt sind.\n",
    "- **Class Weight**: Gibt an, ob Klassen unterschiedlich gewichtet werden sollen. `None` bedeutet, dass alle Klassen gleich gewichtet werden.\n",
    "- **Classes**: Eine Liste der Klassenlabels, die das Modell unterscheiden kann.\n",
    "- **Random State**: Zufallszustand für Reproduzierbarkeit der Ergebnisse.\n",
    "- **Tol**: Toleranz für das Abbruchkriterium.\n",
    "- **C**: Der Strafterm C kontrolliert, wie stark das Modell gegenüber Klassifizierungsfehlern der Trainingsdaten penalisiert wird und beeinflusst damit die Komplexität der Entscheidungsgrenze.\n",
    "- **NU**: Unterstützungsvolumen. Obere Grenze für den Bruchteil der Trainingsfehlerpunkte und untere Grenze für den Bruchteil der Support-Vektoren.\n",
    "- **Verbose**: Gibt an, ob während der Ausführung des Solvers Informationen ausgegeben werden.\n",
    "- **Max Iter**: Maximale Anzahl der Iterationen, die bei der Optimierung ausgeführt werden.\n",
    "- **Break Ties**: Gibt an, ob eine Zufallsauswahl zum Brechen von Bindungen verwendet werden soll.\n",
    "- **Cache Size**: Die Größe des Caches (in MB).\n",
    "- **Coef 0**: Unbemerkte Parameter.\n",
    "- **Degree**: Der Grad der Beziehung.\n",
    "- **Epsilon**: Das Maß der Verfahrens.\n",
    "- **Gamma**: Koeffizient für den Kernel.\n",
    "- **Kernel**: Der verwendete Kernel.\n",
    "- **Probability**: Gibt an, ob die Wahrscheinlichkeiten für die Klassenzuordnung berechnet werden sollen.\n",
    "- **Shrinking**: Gibt an, ob die Heuristik zum Schrumpfen verwendet wird.\n",
    "- **Unused Param**: Unbemerkte Parameter.\n",
    "- **Decision Function Shape**: Die Form des Entscheidungsfunktionsausgangs."
   ],
   "metadata": {
    "collapsed": false
   },
   "id": "5dafd1ef2e1751a8"
  },
  {
   "metadata": {
    "ExecuteTime": {
     "end_time": "2024-06-24T11:01:19.473543Z",
     "start_time": "2024-06-24T10:57:36.512725Z"
    }
   },
   "cell_type": "code",
   "source": [
    "from sklearn import svm\n",
    "\n",
    "clf_svm = svm.SVC()\n",
    "\n",
    "# Starte die Zeitmessung für das Training\n",
    "start_time_svm = time()\n",
    "\n",
    "# Trainieren des Modells\n",
    "clf_svm.fit(X_train_scaled, y_train)\n",
    "\n",
    "# Beende die Zeitmessung und berechne die Dauer\n",
    "training_time_svm = time() - start_time_svm"
   ],
   "id": "22af731889e7259e",
   "outputs": [],
   "execution_count": 17
  },
  {
   "cell_type": "code",
   "source": [
    "# Starte Inferenz mit Zeitmessung\n",
    "start_time_inference_svm = time()\n",
    "y_pred_svm = clf_svm.predict(X_test_scaled)\n",
    "inference_time_svm = time() - start_time_inference_svm\n",
    "\n",
    "# Evaluiere das Modell\n",
    "accuracy_svm = accuracy_score(y_test, y_pred_svm)\n",
    "\n",
    "print(f\"\"\"\n",
    "Modellinformationen:\n",
    "----------------------------------------------------------------------------------\n",
    "Training Time:              {format_time(training_time_svm)}\n",
    "Inference Time:             {format_time(inference_time_svm)}\n",
    "Accuracy:                   {accuracy_svm:.4f}\n",
    "Class Weight:               {clf_svm.class_weight}\n",
    "Classes:                    {clf_svm.classes_}\n",
    "Random State:               {clf_svm.random_state}\n",
    "Tol:                        {clf_svm.tol}\n",
    "C:                          {clf_svm.C}\n",
    "NU:                         {clf_svm.nu}\n",
    "Verbose:                    {clf_svm.verbose}\n",
    "Max Iter:                   {clf_svm.max_iter}\n",
    "Break Ties:                 {clf_svm.break_ties}\n",
    "Cache Size:                 {clf_svm.cache_size}\n",
    "Coef 0:                     {clf_svm.coef0}\n",
    "Degree:                     {clf_svm.degree}\n",
    "Epsilon:                    {clf_svm.epsilon}\n",
    "Gamma:                      {clf_svm.gamma}\n",
    "Kernel:                     {clf_svm.kernel}\n",
    "Probability:                {clf_svm.probability}\n",
    "Shrinking:                  {clf_svm.shrinking}\n",
    "Unused Param:               {clf_svm.unused_param}\n",
    "Decision Function Shape:    {clf_svm.decision_function_shape}\n",
    "\"\"\")"
   ],
   "metadata": {
    "collapsed": false,
    "ExecuteTime": {
     "end_time": "2024-06-24T11:03:09.871786Z",
     "start_time": "2024-06-24T11:01:19.474550Z"
    }
   },
   "id": "4af716d4e4a30e7d",
   "outputs": [
    {
     "name": "stdout",
     "output_type": "stream",
     "text": [
      "\n",
      "Modellinformationen:\n",
      "----------------------------------------------------------------------------------\n",
      "Training Time:              222.96 s\n",
      "Inference Time:             110.39 s\n",
      "Accuracy:                   0.9760\n",
      "Class Weight:               None\n",
      "Classes:                    [0 1 2 3 4 5 6 7 8 9]\n",
      "Random State:               None\n",
      "Tol:                        0.001\n",
      "C:                          1.0\n",
      "NU:                         0.0\n",
      "Verbose:                    False\n",
      "Max Iter:                   -1\n",
      "Break Ties:                 False\n",
      "Cache Size:                 200\n",
      "Coef 0:                     0.0\n",
      "Degree:                     3\n",
      "Epsilon:                    0.0\n",
      "Gamma:                      scale\n",
      "Kernel:                     rbf\n",
      "Probability:                False\n",
      "Shrinking:                  True\n",
      "Unused Param:               nu\n",
      "Decision Function Shape:    ovr\n"
     ]
    }
   ],
   "execution_count": 18
  },
  {
   "cell_type": "markdown",
   "source": [
    "### Neural Network"
   ],
   "metadata": {
    "collapsed": false
   },
   "id": "9619ea8d9f6817c7"
  },
  {
   "cell_type": "markdown",
   "source": [
    "- **Name**: Der Name des Modells.\n",
    "- **Training Time**: Die Zeit, die für das Training des Modells benötigt wurde.\n",
    "- **Accuracy**: Die Genauigkeit des Modells auf den Testdaten, auf vier Dezimalstellen genau.\n",
    "- **Loss**: Der Verlustwert des Modells, auf vier Dezimalstellen genau.\n",
    "- **Activity Regularizer**: Ein optionaler Regularisierer für Aktivitäten im Modell.\n",
    "- **Autocast**: Gibt an, ob die automatische Typumwandlung aktiviert ist.\n",
    "- **Compiled**: Gibt an, ob das Modell kompiliert wurde und bereit ist für das Training.\n",
    "- **Stop Training**: Ein Flag, das angibt, ob das Training des Modells gestoppt wurde.\n",
    "- **Stop Evaluating**: Ein Flag, das angibt, ob die Evaluierung des Modells gestoppt wurde.\n",
    "- **Stop Predicting**: Ein Flag, das angibt, ob die Vorhersage des Modells gestoppt wurde.\n",
    "- **Steps per Execution**: Die Anzahl der Schritte pro Ausführung des Modells.\n",
    "- **Built**: Ein Flag, das angibt, ob das Modell gebaut wurde.\n",
    "- **Supports jit**: Gibt an, ob das Modell Just-In-Time (JIT) Kompilierung unterstützt.\n",
    "- **Test Function**: Die Funktion, die für die Testphase des Modells verwendet wird.\n",
    "- **Train Function**: Die Funktion, die für die Trainingsphase des Modells verwendet wird.\n",
    "- **Predict Function**: Die Funktion, die für die Vorhersagephase des Modells verwendet wird.\n",
    "- **Optimizer**: Der Optimierer, der für das Training des Modells verwendet wird.\n"
   ],
   "metadata": {
    "collapsed": false
   },
   "id": "243d71e6022a7e9c"
  },
  {
   "metadata": {
    "ExecuteTime": {
     "end_time": "2024-06-24T11:03:16.998262Z",
     "start_time": "2024-06-24T11:03:09.872806Z"
    }
   },
   "cell_type": "code",
   "source": [
    "import tensorflow as tf\n",
    "from keras.src import Sequential\n",
    "from keras.src.layers import Dense #, Flatten\n",
    "from keras.src.losses import CategoricalCrossentropy\n",
    "from keras.src.optimizers import Adam\n",
    "from keras.src.activations import relu, softmax"
   ],
   "id": "7873c66b5006f07f",
   "outputs": [],
   "execution_count": 19
  },
  {
   "cell_type": "code",
   "source": [
    "# Modell erstellen\n",
    "model = Sequential([\n",
    "    #Flatten(input_shape=(28, 28)),  # Input Layer: Flatten der 28x28 Bilder zu 784-dimensionalen Vektoren\n",
    "    Dense(128, activation=relu),    # Hidden Layer 1: 128 Neuronen, relu Aktivierungsfunktion\n",
    "    Dense(64, activation=relu),     # Hidden Layer 2: 64 Neuronen, relu Aktivierungsfunktion\n",
    "    Dense(10, activation=softmax)   # Output Layer: 10 Neuronen (Anzahl Klassen), softmax Aktivierungsfunktion\n",
    "])\n",
    "\n",
    "# Anzahl der Klassen bestimmen\n",
    "num_classes = len(np.unique(y_train))\n",
    "\n",
    "# Kompilieren des Modells\n",
    "model.compile(optimizer=Adam(),\n",
    "              loss=CategoricalCrossentropy(), #SparseCatCE\n",
    "              metrics=['accuracy'])\n",
    "\n",
    "# Modellzusammenfassung anzeigen\n",
    "model.summary()"
   ],
   "metadata": {
    "collapsed": false,
    "ExecuteTime": {
     "end_time": "2024-06-24T11:03:17.073961Z",
     "start_time": "2024-06-24T11:03:16.999282Z"
    }
   },
   "id": "1ce6759f0e6f6527",
   "outputs": [
    {
     "data": {
      "text/plain": [
       "\u001B[1mModel: \"sequential\"\u001B[0m\n"
      ],
      "text/html": [
       "<pre style=\"white-space:pre;overflow-x:auto;line-height:normal;font-family:Menlo,'DejaVu Sans Mono',consolas,'Courier New',monospace\"><span style=\"font-weight: bold\">Model: \"sequential\"</span>\n",
       "</pre>\n"
      ]
     },
     "metadata": {},
     "output_type": "display_data"
    },
    {
     "data": {
      "text/plain": [
       "┏━━━━━━━━━━━━━━━━━━━━━━━━━━━━━━━━━┳━━━━━━━━━━━━━━━━━━━━━━━━┳━━━━━━━━━━━━━━━┓\n",
       "┃\u001B[1m \u001B[0m\u001B[1mLayer (type)                   \u001B[0m\u001B[1m \u001B[0m┃\u001B[1m \u001B[0m\u001B[1mOutput Shape          \u001B[0m\u001B[1m \u001B[0m┃\u001B[1m \u001B[0m\u001B[1m      Param #\u001B[0m\u001B[1m \u001B[0m┃\n",
       "┡━━━━━━━━━━━━━━━━━━━━━━━━━━━━━━━━━╇━━━━━━━━━━━━━━━━━━━━━━━━╇━━━━━━━━━━━━━━━┩\n",
       "│ dense (\u001B[38;5;33mDense\u001B[0m)                   │ ?                      │   \u001B[38;5;34m0\u001B[0m (unbuilt) │\n",
       "├─────────────────────────────────┼────────────────────────┼───────────────┤\n",
       "│ dense_1 (\u001B[38;5;33mDense\u001B[0m)                 │ ?                      │   \u001B[38;5;34m0\u001B[0m (unbuilt) │\n",
       "├─────────────────────────────────┼────────────────────────┼───────────────┤\n",
       "│ dense_2 (\u001B[38;5;33mDense\u001B[0m)                 │ ?                      │   \u001B[38;5;34m0\u001B[0m (unbuilt) │\n",
       "└─────────────────────────────────┴────────────────────────┴───────────────┘\n"
      ],
      "text/html": [
       "<pre style=\"white-space:pre;overflow-x:auto;line-height:normal;font-family:Menlo,'DejaVu Sans Mono',consolas,'Courier New',monospace\">┏━━━━━━━━━━━━━━━━━━━━━━━━━━━━━━━━━┳━━━━━━━━━━━━━━━━━━━━━━━━┳━━━━━━━━━━━━━━━┓\n",
       "┃<span style=\"font-weight: bold\"> Layer (type)                    </span>┃<span style=\"font-weight: bold\"> Output Shape           </span>┃<span style=\"font-weight: bold\">       Param # </span>┃\n",
       "┡━━━━━━━━━━━━━━━━━━━━━━━━━━━━━━━━━╇━━━━━━━━━━━━━━━━━━━━━━━━╇━━━━━━━━━━━━━━━┩\n",
       "│ dense (<span style=\"color: #0087ff; text-decoration-color: #0087ff\">Dense</span>)                   │ ?                      │   <span style=\"color: #00af00; text-decoration-color: #00af00\">0</span> (unbuilt) │\n",
       "├─────────────────────────────────┼────────────────────────┼───────────────┤\n",
       "│ dense_1 (<span style=\"color: #0087ff; text-decoration-color: #0087ff\">Dense</span>)                 │ ?                      │   <span style=\"color: #00af00; text-decoration-color: #00af00\">0</span> (unbuilt) │\n",
       "├─────────────────────────────────┼────────────────────────┼───────────────┤\n",
       "│ dense_2 (<span style=\"color: #0087ff; text-decoration-color: #0087ff\">Dense</span>)                 │ ?                      │   <span style=\"color: #00af00; text-decoration-color: #00af00\">0</span> (unbuilt) │\n",
       "└─────────────────────────────────┴────────────────────────┴───────────────┘\n",
       "</pre>\n"
      ]
     },
     "metadata": {},
     "output_type": "display_data"
    },
    {
     "data": {
      "text/plain": [
       "\u001B[1m Total params: \u001B[0m\u001B[38;5;34m0\u001B[0m (0.00 B)\n"
      ],
      "text/html": [
       "<pre style=\"white-space:pre;overflow-x:auto;line-height:normal;font-family:Menlo,'DejaVu Sans Mono',consolas,'Courier New',monospace\"><span style=\"font-weight: bold\"> Total params: </span><span style=\"color: #00af00; text-decoration-color: #00af00\">0</span> (0.00 B)\n",
       "</pre>\n"
      ]
     },
     "metadata": {},
     "output_type": "display_data"
    },
    {
     "data": {
      "text/plain": [
       "\u001B[1m Trainable params: \u001B[0m\u001B[38;5;34m0\u001B[0m (0.00 B)\n"
      ],
      "text/html": [
       "<pre style=\"white-space:pre;overflow-x:auto;line-height:normal;font-family:Menlo,'DejaVu Sans Mono',consolas,'Courier New',monospace\"><span style=\"font-weight: bold\"> Trainable params: </span><span style=\"color: #00af00; text-decoration-color: #00af00\">0</span> (0.00 B)\n",
       "</pre>\n"
      ]
     },
     "metadata": {},
     "output_type": "display_data"
    },
    {
     "data": {
      "text/plain": [
       "\u001B[1m Non-trainable params: \u001B[0m\u001B[38;5;34m0\u001B[0m (0.00 B)\n"
      ],
      "text/html": [
       "<pre style=\"white-space:pre;overflow-x:auto;line-height:normal;font-family:Menlo,'DejaVu Sans Mono',consolas,'Courier New',monospace\"><span style=\"font-weight: bold\"> Non-trainable params: </span><span style=\"color: #00af00; text-decoration-color: #00af00\">0</span> (0.00 B)\n",
       "</pre>\n"
      ]
     },
     "metadata": {},
     "output_type": "display_data"
    }
   ],
   "execution_count": 20
  },
  {
   "cell_type": "code",
   "source": [
    "# Starte die Zeitmessung für das Training\n",
    "start_time_nn = time()\n",
    "\n",
    "# Modell trainieren\n",
    "model.fit(X_train_scaled, tf.keras.utils.to_categorical(\n",
    "        y_train, \n",
    "        num_classes=num_classes), \n",
    "        epochs=10, \n",
    "        validation_data=(X_test_scaled, tf.keras.utils.to_categorical(y_test, \n",
    "                                                                        num_classes=num_classes)))\n",
    "\n",
    "# Beende die Zeitmessung und berechne die Dauer\n",
    "training_time_nn = time() - start_time_nn"
   ],
   "metadata": {
    "collapsed": false,
    "ExecuteTime": {
     "end_time": "2024-06-24T11:04:00.813842Z",
     "start_time": "2024-06-24T11:03:17.074975Z"
    }
   },
   "id": "62ade9bdd84dd92f",
   "outputs": [
    {
     "name": "stdout",
     "output_type": "stream",
     "text": [
      "Epoch 1/10\n",
      "\u001B[1m1750/1750\u001B[0m \u001B[32m━━━━━━━━━━━━━━━━━━━━\u001B[0m\u001B[37m\u001B[0m \u001B[1m6s\u001B[0m 2ms/step - accuracy: 0.8724 - loss: 0.4294 - val_accuracy: 0.9583 - val_loss: 0.1391\n",
      "Epoch 2/10\n",
      "\u001B[1m1750/1750\u001B[0m \u001B[32m━━━━━━━━━━━━━━━━━━━━\u001B[0m\u001B[37m\u001B[0m \u001B[1m4s\u001B[0m 2ms/step - accuracy: 0.9687 - loss: 0.1026 - val_accuracy: 0.9639 - val_loss: 0.1211\n",
      "Epoch 3/10\n",
      "\u001B[1m1750/1750\u001B[0m \u001B[32m━━━━━━━━━━━━━━━━━━━━\u001B[0m\u001B[37m\u001B[0m \u001B[1m4s\u001B[0m 2ms/step - accuracy: 0.9788 - loss: 0.0667 - val_accuracy: 0.9728 - val_loss: 0.0949\n",
      "Epoch 4/10\n",
      "\u001B[1m1750/1750\u001B[0m \u001B[32m━━━━━━━━━━━━━━━━━━━━\u001B[0m\u001B[37m\u001B[0m \u001B[1m4s\u001B[0m 2ms/step - accuracy: 0.9837 - loss: 0.0486 - val_accuracy: 0.9713 - val_loss: 0.0969\n",
      "Epoch 5/10\n",
      "\u001B[1m1750/1750\u001B[0m \u001B[32m━━━━━━━━━━━━━━━━━━━━\u001B[0m\u001B[37m\u001B[0m \u001B[1m4s\u001B[0m 2ms/step - accuracy: 0.9877 - loss: 0.0392 - val_accuracy: 0.9757 - val_loss: 0.0886\n",
      "Epoch 6/10\n",
      "\u001B[1m1750/1750\u001B[0m \u001B[32m━━━━━━━━━━━━━━━━━━━━\u001B[0m\u001B[37m\u001B[0m \u001B[1m4s\u001B[0m 2ms/step - accuracy: 0.9905 - loss: 0.0315 - val_accuracy: 0.9706 - val_loss: 0.1100\n",
      "Epoch 7/10\n",
      "\u001B[1m1750/1750\u001B[0m \u001B[32m━━━━━━━━━━━━━━━━━━━━\u001B[0m\u001B[37m\u001B[0m \u001B[1m4s\u001B[0m 2ms/step - accuracy: 0.9922 - loss: 0.0238 - val_accuracy: 0.9741 - val_loss: 0.1008\n",
      "Epoch 8/10\n",
      "\u001B[1m1750/1750\u001B[0m \u001B[32m━━━━━━━━━━━━━━━━━━━━\u001B[0m\u001B[37m\u001B[0m \u001B[1m5s\u001B[0m 3ms/step - accuracy: 0.9923 - loss: 0.0220 - val_accuracy: 0.9739 - val_loss: 0.1044\n",
      "Epoch 9/10\n",
      "\u001B[1m1750/1750\u001B[0m \u001B[32m━━━━━━━━━━━━━━━━━━━━\u001B[0m\u001B[37m\u001B[0m \u001B[1m5s\u001B[0m 3ms/step - accuracy: 0.9944 - loss: 0.0178 - val_accuracy: 0.9724 - val_loss: 0.1187\n",
      "Epoch 10/10\n",
      "\u001B[1m1750/1750\u001B[0m \u001B[32m━━━━━━━━━━━━━━━━━━━━\u001B[0m\u001B[37m\u001B[0m \u001B[1m4s\u001B[0m 2ms/step - accuracy: 0.9944 - loss: 0.0167 - val_accuracy: 0.9729 - val_loss: 0.1226\n"
     ]
    }
   ],
   "execution_count": 21
  },
  {
   "cell_type": "code",
   "source": [
    "# Starte Inferenz mit Zeitmessung\n",
    "start_time_inference_nn = time()\n",
    "y_pred_nn = model.predict(X_test_scaled)\n",
    "inference_time_nn = time() - start_time_inference_nn\n",
    "\n",
    "# ValueError: Classification metrics can't handle a mix of multiclass and continuous-multioutput targets\n",
    "#accuracy_nn = accuracy_score(y_test, y_pred_nn)\n",
    "\n",
    "loss, accuracy_nn = model.evaluate(X_test_scaled, tf.keras.utils.to_categorical(y_test, num_classes=num_classes))\n",
    "\n",
    "print(f\"\"\"\n",
    "Modellinformationen:\n",
    "----------------------------------------------------------------------------------\n",
    "Name:                       {model.name}\n",
    "Training Time:              {format_time(training_time_svm)}\n",
    "Inference Time:             {format_time(inference_time_svm)}\n",
    "Accuracy:                   {accuracy_nn:.4f}\n",
    "Loss:                       {loss:.4f}\n",
    "Activity Regularizer:       {model.activity_regularizer}\n",
    "Autocast:                   {model.autocast}\n",
    "Compiled:                   {model.compiled}\n",
    "Stop Training:              {model.stop_training}\n",
    "Stop Evaluating:            {model.stop_evaluating}\n",
    "Stop Predicting:            {model.stop_predicting}\n",
    "Steps per Execution:        {model.steps_per_execution}\n",
    "Built:                      {model.built}\n",
    "Supports jit:               {model.supports_jit}\n",
    "Test Function:              {model.test_function}\n",
    "Train Function:             {model.train_function}\n",
    "Predict Function:           {model.predict_function}\n",
    "Optimizer:                  {model.optimizer}\n",
    "\"\"\")"
   ],
   "metadata": {
    "collapsed": false,
    "ExecuteTime": {
     "end_time": "2024-06-24T11:04:02.230341Z",
     "start_time": "2024-06-24T11:04:00.814847Z"
    }
   },
   "id": "c1b3876d040712b",
   "outputs": [
    {
     "name": "stdout",
     "output_type": "stream",
     "text": [
      "\u001B[1m438/438\u001B[0m \u001B[32m━━━━━━━━━━━━━━━━━━━━\u001B[0m\u001B[37m\u001B[0m \u001B[1m1s\u001B[0m 1ms/step\n",
      "\u001B[1m438/438\u001B[0m \u001B[32m━━━━━━━━━━━━━━━━━━━━\u001B[0m\u001B[37m\u001B[0m \u001B[1m1s\u001B[0m 1ms/step - accuracy: 0.9741 - loss: 0.1222\n",
      "\n",
      "Modellinformationen:\n",
      "----------------------------------------------------------------------------------\n",
      "Name:                       sequential\n",
      "Training Time:              222.96 s\n",
      "Inference Time:             110.39 s\n",
      "Accuracy:                   0.9729\n",
      "Loss:                       0.1226\n",
      "Activity Regularizer:       None\n",
      "Autocast:                   True\n",
      "Compiled:                   True\n",
      "Stop Training:              False\n",
      "Stop Evaluating:            False\n",
      "Stop Predicting:            False\n",
      "Steps per Execution:        1\n",
      "Built:                      True\n",
      "Supports jit:               True\n",
      "Test Function:              <tensorflow.python.eager.polymorphic_function.polymorphic_function.Function object at 0x00000276948DF530>\n",
      "Train Function:             <tensorflow.python.eager.polymorphic_function.polymorphic_function.Function object at 0x00000276894F1FA0>\n",
      "Predict Function:           <tensorflow.python.eager.polymorphic_function.polymorphic_function.Function object at 0x00000276948DD760>\n",
      "Optimizer:                  <keras.src.optimizers.adam.Adam object at 0x00000276882E67E0>\n"
     ]
    }
   ],
   "execution_count": 22
  },
  {
   "cell_type": "code",
   "source": [
    "metrics_names = model.metrics_names\n",
    "print(metrics_names)"
   ],
   "metadata": {
    "collapsed": false,
    "ExecuteTime": {
     "end_time": "2024-06-24T11:04:02.235946Z",
     "start_time": "2024-06-24T11:04:02.231347Z"
    }
   },
   "id": "4262b5e3fff6e301",
   "outputs": [
    {
     "name": "stdout",
     "output_type": "stream",
     "text": [
      "['loss', 'compile_metrics']\n"
     ]
    }
   ],
   "execution_count": 23
  },
  {
   "metadata": {},
   "cell_type": "markdown",
   "source": [
    "## Evaluierung und Vergleich\n",
    "   - Vergleicht die Leistung der Modelle in einer Pandas-Tabelle hinsichtlich Trainingszeit, Inferenzzeit und Test Accuracy.\n",
    "   - Beschreibt die Ergebnisse kurz in etwa 5 Sätzen."
   ],
   "id": "3634918f570ee09b"
  },
  {
   "metadata": {
    "ExecuteTime": {
     "end_time": "2024-06-24T11:19:10.037650Z",
     "start_time": "2024-06-24T11:19:09.832065Z"
    }
   },
   "cell_type": "code",
   "source": [
    "df_eval = pd.DataFrame({\n",
    "    'Models': ['Logistic Regression', 'Decision Tree', 'Random Forest', 'Support Vector Machine', 'Sequential Neural Net'],\n",
    "    'Accuracy': [accuracy_lr, accuracy_dt, accuracy_rf, accuracy_svm, accuracy_nn],\n",
    "    'Training Time': [training_time_lr, training_time_dt, training_time_rf, training_time_svm, training_time_nn],\n",
    "    'Inference Time': [inference_time_lr, inference_time_dt, inference_time_rf, inference_time_svm, inference_time_nn]\n",
    "})\n",
    "\n",
    "\n",
    "# DataFrame mit formatierten Zeiten für Anzeige\n",
    "df_eval_display = df_eval.copy()\n",
    "df_eval_display['Training Time'] = df_eval['Training Time'].apply(format_time)\n",
    "df_eval_display['Inference Time'] = df_eval['Inference Time'].apply(format_time)\n",
    "\n",
    "# Funktion zum Hervorheben der maximalen Werte in einer Spalte\n",
    "def highlight_max(data, subset=None, color='yellow'):\n",
    "    attr = f'background-color: {color}; font-weight: bold;'\n",
    "    if subset is not None:\n",
    "        data = data.loc[:, subset]\n",
    "    max_values = data.max()\n",
    "    is_max = data == max_values\n",
    "    return pd.DataFrame(np.where(is_max, attr, ''), index=data.index, columns=data.columns)\n",
    "\n",
    "# Style DataFrame\n",
    "# styled_df = df_eval_display.style.apply(highlight_max, subset=['Accuracy', 'Training Time', 'Inference Time'], axis=0)\n",
    "\n",
    "# DataFrame anzeigen\n",
    "# styled_df\n",
    "\n",
    "# Um den gestylten DataFrame als Bild anzuzeigen\n",
    "fig, ax = plt.subplots(figsize=(10, 3))  # Größe anpassen\n",
    "ax.axis('off')\n",
    "\n",
    "# Tabelle in der Matplotlib-Achse anzeigen\n",
    "table = pd.plotting.table(ax, df_eval_display, loc='center', cellLoc='left', colWidths=[0.2]*len(df_eval_display.columns))\n",
    "\n",
    "# Zellen formatieren\n",
    "for (i, j), cell in table.get_celld().items():\n",
    "    if i == 0:\n",
    "        cell.set_text_props(fontweight='bold')  # Header fett\n",
    "        cell.set_facecolor('#d9d9d9')  # Header-Hintergrundfarbe\n",
    "    if i > 0 and j > 0:\n",
    "        if j in [1, 2, 3]:  # Index der Spalten: 1 - Accuracy, 2 - Training Time, 3 - Inference Time\n",
    "            if df_eval.iloc[:, j][i-1] == df_eval.iloc[:, j].max():\n",
    "                cell.set_text_props(fontweight='bold', backgroundcolor='red')\n",
    "     \n",
    "table.auto_set_font_size(False)\n",
    "table.set_fontsize(14)\n",
    "table.scale(2, 2)\n",
    "\n",
    "plt.suptitle('Accuracy Scores verschiedener Modelle')\n",
    "plt.show()"
   ],
   "id": "9fa120b21d361e5e",
   "outputs": [
    {
     "data": {
      "text/plain": [
       "<Figure size 1000x300 with 1 Axes>"
      ],
      "image/png": "[encoded data removed]"
     },
     "metadata": {},
     "output_type": "display_data"
    }
   ],
   "execution_count": 38
  },
  {
   "metadata": {},
   "cell_type": "markdown",
   "source": [
    "# Auswertung\n",
    "\n",
    "### Accuracy Scores verschiedener Modelle\n",
    "\n",
    "Es wurden folgende Modelle erstellt, trainiert und ausgewertet:\n",
    "- Logistic Regression\n",
    "- Decision Tree\n",
    "- Random Forest\n",
    "- Support Vector Machine\n",
    "- Sequential Neural Net\n",
    "\n",
    "### Vorgehen\n",
    "\n",
    "1. Train-Test-Split\n",
    "2. Umwandlung in Vektoren\n",
    "3. Skalierung\n",
    "4. Training\n",
    "5. Inferenz\n",
    "6. Evaluierung\n",
    "\n",
    "### Gesamtauswertung\n",
    "\n",
    "Nach der jeweiligen Evaluierung der verschiedenen Modelle wurden die gemessenen Werte (accuracy, training time, inference time) in einer Tabelle gegenübergestellt.\n",
    "Die jeweils größten Werte wurden farblich hervorgehoben. Es ist anzumerken, dass diese Werte durch die Wahl der jeweiligen Hyperparameter der Modelle stark beeinflusst werden.\n",
    "Insgesamt hat sich in dieser Gesamtauswertung gezeigt, dass die Support Vector Machine die höchste Verlässlichkeit aufweist, jedoch auch deutlich länger trainiert werden muss und in der Inferenz langsamer ist als die anderen Modelle. Auf dem zweiten Platz ist das Sequential Neural Net mit einer ähnlich hohen Genauigkeit, es ist zudem verhältnismäßig das schnellste Modell (bei hoher Genauigkeit). "
   ],
   "id": "c53ab00fa6763b67"
  },
  {
   "metadata": {},
   "cell_type": "code",
   "outputs": [],
   "execution_count": null,
   "source": [],
   "id": "1e880f7d2a5ab0d3"
  }
 ],
 "metadata": {
  "kernelspec": {
   "display_name": "Python 3",
   "language": "python",
   "name": "python3"
  },
  "language_info": {
   "codemirror_mode": {
    "name": "ipython",
    "version": 2
   },
   "file_extension": ".py",
   "mimetype": "text/x-python",
   "name": "python",
   "nbconvert_exporter": "python",
   "pygments_lexer": "ipython2",
   "version": "2.7.6"
  }
 },
 "nbformat": 4,
 "nbformat_minor": 5
}
