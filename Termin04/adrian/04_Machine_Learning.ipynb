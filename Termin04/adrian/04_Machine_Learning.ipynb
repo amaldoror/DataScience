{
 "cells": [
  {
   "cell_type": "markdown",
   "source": [
    "# Praktikum 4: Machine Learning"
   ],
   "metadata": {
    "collapsed": false
   },
   "id": "97009eab61d3d0f7"
  },
  {
   "metadata": {},
   "cell_type": "markdown",
   "source": [
    "## Aufgabe: Vergleich von Machine Learning Algorithmen für die Bildklassifizierung\n",
    "\n",
    "**Ziel**: \n",
    "\n",
    "Ziel dieses Praktikums ist es, verschiedene Machine Learning Methoden zur Klassifikation von handgeschriebenen Ziffern (MNIST-Datensatz) zu erkunden und zu vergleichen. Durch diese Aufgabe sollt ihr ein tieferes Verständnis für die Stärken, Schwächen und Anwendungsgebiete verschiedener Machine Learning Algorithmen erlangen.\n",
    "\n",
    "**Einführung**:\n",
    "\n",
    "Der MNIST-Datensatz ist eine Sammlung von handgeschriebenen Ziffern, der häufig zum Einstieg in die Bilderkennung und Machine Learning genutzt wird. Er besteht aus 70.000 Bildern, wobei jedes Bild eine der Ziffern von 0 bis 9 darstellt. Diese Aufgabe bietet eine praktische Gelegenheit, grundlegende Techniken des Machine Learnings anzuwenden und zu vergleichen.\n",
    " \n",
    "<img src=\"digits_output.png\" alt=\"image\" width=\"300\" height=\"auto\">\n",
    "\n",
    "**Aufgabenübersicht**:\n",
    "\n",
    "1. **Datenvorverarbeitung**:\n",
    "    - Ladet die erste Version des MNIST-Datensatzes über scikit-learn.\n",
    "    - Teilt den Datensatz in Trainings- und Testsets auf. Das Testset soll 20 % der Daten beinhalten.\n",
    "    - Da es sich bei den Bildern um 28 x 28 Matrizen handelt, die ML Algorithmen jedoch Vektoren als Input erwarten, müsst ihr die Daten entsprechend umformen. Nutzt dafür die Funktion `reshape()`.\n",
    "    - Skaliert die Daten auf den Wertebereich [0, 1]. Nutzt dafür den `MinMaxScaler` von scikit-learn.\n",
    "\n",
    "2. **Klassifikation mit verschiedenen Algorithmen**:\n",
    "    - Trainiert die folgenden Algorithmen:\n",
    "        - Logistic Regression (mit `sklearn`)\n",
    "        - Decision Tree (mit`sklearn`)\n",
    "        - Random Forest (mit `sklearn`)\n",
    "        - Support Vector Machine (mit `sklearn`)\n",
    "        - Neural Network (mit `tensorflow.keras` und dem `Sequential`-Package):\n",
    "            - Verwendet mindestens 2 Hidden Layers (Dense).\n",
    "            - Nutzt die Loss Function `Crossentropy` (Achtung: Es gibt verschiedene Arten! Informiert euch darüber).\n",
    "            - Verwendet die Aktivierungsfunktionen `relu` und `softmax` (Achtet darauf, welche für welche Layer geeignet sind).\n",
    "            - Trainiert das Netz für 10 Epochen.\n",
    "            - Nutzt die Funktion `summary()` um euch die Netzarchitektur ausgeben zu lassen.\n",
    "    - Achtet auf eine sinnvolle Wahl der Hyperparameter. Informiert euch bei Bedarf auf den jeweiligen Dokumentationsseiten der Bibliotheken.\n",
    "    - Evaluiert jedes Modell mit der Metrik `accuracy_score` auf dem Testset (Achtung: Das Vorgehen zur Evaluierung des Neural Networks ist etwas anders!).\n",
    "    - Messt die Trainings- und Inferenzzeiten für die verschiedenen Algorithmen mit der Funktion `time()`.\n",
    "\n",
    "3. **Evaluierung und Vergleich**:\n",
    "    - Vergleicht die Leistung der Modelle in einer Pandas-Tabelle hinsichtlich Trainingszeit und Genauigkeit.\n",
    "    - Beschreibt die Ergebnisse kurz in etwa 5 Sätzen."
   ],
   "id": "d7f535781f311413"
  },
  {
   "metadata": {},
   "cell_type": "markdown",
   "source": [
    "## Datenvorverarbeitung"
   ],
   "id": "a4ce6244eb8583"
  },
  {
   "metadata": {},
   "cell_type": "markdown",
   "source": [
    "### Daten laden\n",
    "\n",
    "Ladet die erste Version des MNIST-Datensatzes über scikit-learn."
   ],
   "id": "6394bac89eeb1af3"
  },
  {
   "metadata": {
    "ExecuteTime": {
     "end_time": "2024-06-19T20:53:53.812580100Z",
     "start_time": "2024-06-19T20:53:48.412221600Z"
    }
   },
   "cell_type": "code",
   "source": [
    "import numpy as np\n",
    "from sklearn.datasets import fetch_openml\n",
    "from sklearn.model_selection import train_test_split\n",
    "from sklearn.preprocessing import MinMaxScaler"
   ],
   "id": "aaddc29db1fe55e8",
   "outputs": [],
   "execution_count": 1
  },
  {
   "cell_type": "code",
   "execution_count": 2,
   "outputs": [],
   "source": [
    "# MNIST DataSet laden\n",
    "mnist = fetch_openml('mnist_784', version=1)"
   ],
   "metadata": {
    "collapsed": false,
    "ExecuteTime": {
     "end_time": "2024-06-19T20:54:08.701610900Z",
     "start_time": "2024-06-19T20:53:55.294235700Z"
    }
   },
   "id": "ca1505451ae8e84"
  },
  {
   "cell_type": "code",
   "execution_count": 9,
   "outputs": [],
   "source": [
    "# Extrahieren der Daten und Labels\n",
    "X, y = mnist.data, mnist.target\n",
    "\n",
    "# Konvertieren der Labels zu integer (sie sind als Strings geladen)\n",
    "y = y.astype(np.int8)"
   ],
   "metadata": {
    "collapsed": false,
    "ExecuteTime": {
     "end_time": "2024-06-19T21:12:27.866216100Z",
     "start_time": "2024-06-19T21:12:27.845022200Z"
    }
   },
   "id": "c97814bf5b1c4119"
  },
  {
   "metadata": {},
   "cell_type": "markdown",
   "source": [
    "### Train-Test-Split\n",
    "\n",
    "Teilt den Datensatz in Trainings- und Testsets auf. Nutzt die Funktion `train_test_split()` von scikit-learn. Das Testset soll 20 % der Daten beinhalten."
   ],
   "id": "864c1c1e86e57045"
  },
  {
   "metadata": {
    "ExecuteTime": {
     "end_time": "2024-06-18T08:59:12.490042Z",
     "start_time": "2024-06-18T08:59:12.485879Z"
    }
   },
   "cell_type": "code",
   "source": [],
   "id": "63e6c6122e72eea",
   "outputs": [],
   "execution_count": 2
  },
  {
   "metadata": {},
   "cell_type": "markdown",
   "source": [
    "### Umwandlung in Vektoren\n",
    "\n",
    "Da es sich bei den Bildern um 28 x 28 Matrizen handelt, die ML Algorithmen jedoch Vektoren als Input erwarten, müsst ihr die Daten entsprechend umformen. Nutzt dafür die Funktion `reshape()`.\n"
   ],
   "id": "4b6a7c469b20ef53"
  },
  {
   "metadata": {
    "ExecuteTime": {
     "end_time": "2024-06-18T08:59:12.494475Z",
     "start_time": "2024-06-18T08:59:12.490790Z"
    }
   },
   "cell_type": "code",
   "source": [
    "# TODO: Hier soll euer Code stehen."
   ],
   "id": "bad4d627bfefb869",
   "outputs": [],
   "execution_count": 3
  },
  {
   "metadata": {},
   "cell_type": "markdown",
   "source": [
    "### Skalierung\n",
    "\n",
    "Skaliert die Daten auf den Wertebereich [0, 1]. Nutzt dafür den `MinMaxScaler` von scikit-learn."
   ],
   "id": "3d6b9474743af83c"
  },
  {
   "metadata": {
    "ExecuteTime": {
     "end_time": "2024-06-18T08:59:12.498913Z",
     "start_time": "2024-06-18T08:59:12.495205Z"
    }
   },
   "cell_type": "code",
   "source": [
    "# TODO: Hier soll euer Code stehen."
   ],
   "id": "d2a0e4bea9040ad3",
   "outputs": [],
   "execution_count": 4
  },
  {
   "metadata": {},
   "cell_type": "markdown",
   "source": [
    "## Klassifikation mit verschiedenen Algorithmen\n",
    "   - Trainiert die folgenden Algorithmen:\n",
    "        - Logistic Regression (mit `sklearn`)\n",
    "        - Decision Tree (mit`sklearn`)\n",
    "        - Random Forest (mit `sklearn`)\n",
    "        - Support Vector Machine (mit `sklearn`)\n",
    "        - Neural Network (mit `tensorflow.keras` und dem `Sequential`-Package):\n",
    "            - Verwendet mindestens 2 Hidden Layers (Dense).\n",
    "            - Nutzt die Loss Function `Crossentropy` (Achtung: Es gibt verschiedene Arten! Informiert euch darüber).\n",
    "            - Verwendet die Aktivierungsfunktionen `relu` und `softmax` (Achtet darauf, welche für welche Layer geeignet sind).\n",
    "            - Trainiert das Netz für 10 Epochen.\n",
    "            - Nutzt die Funktion `summary()` um euch die Netzarchitektur ausgeben zu lassen.\n",
    "   - Achtet auf eine sinnvolle Wahl der Hyperparameter. Informiert euch bei Bedarf auf den jeweiligen Dokumentationsseiten der Bibliotheken.\n",
    "   - Messt die Trainings- und Inferenzzeiten für die verschiedenen Algorithmen mit der Funktion `time()`.\n",
    "   - Evaluiert jedes Modell mit der Metrik `accuracy_score` auf dem Testset (Achtung: Das Vorgehen zur Evaluierung des Neural Networks ist etwas anders!)."
   ],
   "id": "a7e875c7f187a4a7"
  },
  {
   "cell_type": "markdown",
   "source": [
    "### Logistic Regression"
   ],
   "metadata": {
    "collapsed": false
   },
   "id": "5232eed478b1f2f0"
  },
  {
   "metadata": {
    "ExecuteTime": {
     "end_time": "2024-06-18T08:59:12.503416Z",
     "start_time": "2024-06-18T08:59:12.500030Z"
    }
   },
   "cell_type": "code",
   "source": [
    "# TODO: Hier soll euer Code stehen."
   ],
   "id": "526e5642ed3a60bc",
   "outputs": [],
   "execution_count": 5
  },
  {
   "metadata": {},
   "cell_type": "markdown",
   "source": [
    "### Decision Tree"
   ],
   "id": "14b08b4dbac58583"
  },
  {
   "metadata": {
    "ExecuteTime": {
     "end_time": "2024-06-18T08:59:12.507851Z",
     "start_time": "2024-06-18T08:59:12.504131Z"
    }
   },
   "cell_type": "code",
   "source": [
    "# TODO: Hier soll euer Code stehen."
   ],
   "id": "278495ebbd240a05",
   "outputs": [],
   "execution_count": 6
  },
  {
   "metadata": {},
   "cell_type": "markdown",
   "source": [
    "### Random Forest"
   ],
   "id": "86d636ba7a6a544"
  },
  {
   "metadata": {
    "ExecuteTime": {
     "end_time": "2024-06-18T08:59:12.512295Z",
     "start_time": "2024-06-18T08:59:12.508570Z"
    }
   },
   "cell_type": "code",
   "source": [
    "# TODO: Hier soll euer Code stehen."
   ],
   "id": "f19bd21bfc94dbdf",
   "outputs": [],
   "execution_count": 7
  },
  {
   "cell_type": "markdown",
   "source": [
    "### Support Vector Machine"
   ],
   "metadata": {
    "collapsed": false
   },
   "id": "8c35d93e90373801"
  },
  {
   "metadata": {
    "ExecuteTime": {
     "end_time": "2024-06-18T08:59:12.516788Z",
     "start_time": "2024-06-18T08:59:12.513064Z"
    }
   },
   "cell_type": "code",
   "source": [
    "# TODO: Hier soll euer Code stehen."
   ],
   "id": "22af731889e7259e",
   "outputs": [],
   "execution_count": 8
  },
  {
   "cell_type": "markdown",
   "source": [
    "### Neural Network"
   ],
   "metadata": {
    "collapsed": false
   },
   "id": "9619ea8d9f6817c7"
  },
  {
   "metadata": {
    "ExecuteTime": {
     "end_time": "2024-06-18T08:59:12.521251Z",
     "start_time": "2024-06-18T08:59:12.517598Z"
    }
   },
   "cell_type": "code",
   "source": [
    "# TODO: Hier soll euer Code stehen."
   ],
   "id": "7873c66b5006f07f",
   "outputs": [],
   "execution_count": 9
  },
  {
   "metadata": {},
   "cell_type": "markdown",
   "source": [
    "## Evaluierung und Vergleich\n",
    "   - Vergleicht die Leistung der Modelle in einer Pandas-Tabelle hinsichtlich Trainingszeit, Inferenzzeit und Test Accuracy.\n",
    "   - Beschreibt die Ergebnisse kurz in etwa 5 Sätzen."
   ],
   "id": "3634918f570ee09b"
  },
  {
   "metadata": {
    "ExecuteTime": {
     "end_time": "2024-06-18T08:59:12.529404Z",
     "start_time": "2024-06-18T08:59:12.522074Z"
    }
   },
   "cell_type": "code",
   "source": [
    "# TODO: Hier soll euer Code stehen."
   ],
   "id": "9fa120b21d361e5e",
   "outputs": [],
   "execution_count": 10
  }
 ],
 "metadata": {
  "kernelspec": {
   "display_name": "Python 3",
   "language": "python",
   "name": "python3"
  },
  "language_info": {
   "codemirror_mode": {
    "name": "ipython",
    "version": 2
   },
   "file_extension": ".py",
   "mimetype": "text/x-python",
   "name": "python",
   "nbconvert_exporter": "python",
   "pygments_lexer": "ipython2",
   "version": "2.7.6"
  }
 },
 "nbformat": 4,
 "nbformat_minor": 5
}
