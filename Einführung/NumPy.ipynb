{
 "cells": [
  {
   "cell_type": "code",
   "execution_count": 1,
   "metadata": {},
   "outputs": [],
   "source": [
    "import numpy as np\n",
    "%matplotlib inline"
   ]
  },
  {
   "cell_type": "code",
   "execution_count": 2,
   "metadata": {},
   "outputs": [
    {
     "name": "stdout",
     "output_type": "stream",
     "text": [
      "int64\n",
      "float64\n"
     ]
    }
   ],
   "source": [
    "a_int = np.array([10,2,3,4,5]) \n",
    "#type(a_int) \n",
    "print(a_int.dtype) # setzt man statt 10 1000000000000000 so wird es int64\n",
    "a_float = np.array([1.0,2,3,4, 5])\n",
    "print(a_float.dtype)"
   ]
  },
  {
   "cell_type": "code",
   "execution_count": 3,
   "metadata": {},
   "outputs": [
    {
     "data": {
      "text/plain": [
       "array([11.,  4.,  6.,  8., 10.])"
      ]
     },
     "execution_count": 3,
     "metadata": {},
     "output_type": "execute_result"
    }
   ],
   "source": [
    "#a_int += a_float #error \n",
    "#a_int\n",
    "a_float += a_int # inplace modifications\n",
    "a_float"
   ]
  },
  {
   "cell_type": "code",
   "execution_count": 4,
   "metadata": {},
   "outputs": [
    {
     "name": "stdout",
     "output_type": "stream",
     "text": [
      "(4,)\n"
     ]
    }
   ],
   "source": [
    "a = np.array((1,2,3,4))\n",
    "print(a.shape) # form des arrays (dimension)"
   ]
  },
  {
   "cell_type": "code",
   "execution_count": 5,
   "metadata": {},
   "outputs": [
    {
     "name": "stdout",
     "output_type": "stream",
     "text": [
      "(2, 4)\n"
     ]
    }
   ],
   "source": [
    "a = np.array([(1,2,3,4),(4,5,6,7)])\n",
    "print(a.shape) # form des arrays (dimension)"
   ]
  },
  {
   "cell_type": "code",
   "execution_count": 6,
   "metadata": {},
   "outputs": [
    {
     "data": {
      "text/plain": [
       "array([[0., 0., 0., 0.],\n",
       "       [0., 0., 0., 0.],\n",
       "       [0., 0., 0., 0.]])"
      ]
     },
     "execution_count": 6,
     "metadata": {},
     "output_type": "execute_result"
    }
   ],
   "source": [
    "np.zeros( (3,4) )"
   ]
  },
  {
   "cell_type": "code",
   "execution_count": 7,
   "metadata": {},
   "outputs": [
    {
     "data": {
      "text/plain": [
       "array([10, 15, 20, 25])"
      ]
     },
     "execution_count": 7,
     "metadata": {},
     "output_type": "execute_result"
    }
   ],
   "source": [
    "np.arange( 10, 30, 5 ) # von 10 bis 30 mit schritt 5"
   ]
  },
  {
   "cell_type": "code",
   "execution_count": 8,
   "metadata": {},
   "outputs": [
    {
     "data": {
      "text/plain": [
       "array([0.        , 0.06343434, 0.12686869, 0.19030303, 0.25373737,\n",
       "       0.31717172, 0.38060606, 0.4440404 , 0.50747475, 0.57090909,\n",
       "       0.63434343, 0.69777778, 0.76121212, 0.82464646, 0.88808081,\n",
       "       0.95151515, 1.01494949, 1.07838384, 1.14181818, 1.20525253,\n",
       "       1.26868687, 1.33212121, 1.39555556, 1.4589899 , 1.52242424,\n",
       "       1.58585859, 1.64929293, 1.71272727, 1.77616162, 1.83959596,\n",
       "       1.9030303 , 1.96646465, 2.02989899, 2.09333333, 2.15676768,\n",
       "       2.22020202, 2.28363636, 2.34707071, 2.41050505, 2.47393939,\n",
       "       2.53737374, 2.60080808, 2.66424242, 2.72767677, 2.79111111,\n",
       "       2.85454545, 2.9179798 , 2.98141414, 3.04484848, 3.10828283,\n",
       "       3.17171717, 3.23515152, 3.29858586, 3.3620202 , 3.42545455,\n",
       "       3.48888889, 3.55232323, 3.61575758, 3.67919192, 3.74262626,\n",
       "       3.80606061, 3.86949495, 3.93292929, 3.99636364, 4.05979798,\n",
       "       4.12323232, 4.18666667, 4.25010101, 4.31353535, 4.3769697 ,\n",
       "       4.44040404, 4.50383838, 4.56727273, 4.63070707, 4.69414141,\n",
       "       4.75757576, 4.8210101 , 4.88444444, 4.94787879, 5.01131313,\n",
       "       5.07474747, 5.13818182, 5.20161616, 5.26505051, 5.32848485,\n",
       "       5.39191919, 5.45535354, 5.51878788, 5.58222222, 5.64565657,\n",
       "       5.70909091, 5.77252525, 5.8359596 , 5.89939394, 5.96282828,\n",
       "       6.02626263, 6.08969697, 6.15313131, 6.21656566, 6.28      ])"
      ]
     },
     "execution_count": 8,
     "metadata": {},
     "output_type": "execute_result"
    }
   ],
   "source": [
    "np.linspace( 0, 2*3.14, 100 ) # von bis mit anzahl elemente"
   ]
  },
  {
   "cell_type": "code",
   "execution_count": 9,
   "metadata": {},
   "outputs": [
    {
     "data": {
      "text/plain": [
       "array([[0.        , 0.06343434, 0.12686869, 0.19030303, 0.25373737,\n",
       "        0.31717172, 0.38060606, 0.4440404 , 0.50747475, 0.57090909],\n",
       "       [0.63434343, 0.69777778, 0.76121212, 0.82464646, 0.88808081,\n",
       "        0.95151515, 1.01494949, 1.07838384, 1.14181818, 1.20525253],\n",
       "       [1.26868687, 1.33212121, 1.39555556, 1.4589899 , 1.52242424,\n",
       "        1.58585859, 1.64929293, 1.71272727, 1.77616162, 1.83959596],\n",
       "       [1.9030303 , 1.96646465, 2.02989899, 2.09333333, 2.15676768,\n",
       "        2.22020202, 2.28363636, 2.34707071, 2.41050505, 2.47393939],\n",
       "       [2.53737374, 2.60080808, 2.66424242, 2.72767677, 2.79111111,\n",
       "        2.85454545, 2.9179798 , 2.98141414, 3.04484848, 3.10828283],\n",
       "       [3.17171717, 3.23515152, 3.29858586, 3.3620202 , 3.42545455,\n",
       "        3.48888889, 3.55232323, 3.61575758, 3.67919192, 3.74262626],\n",
       "       [3.80606061, 3.86949495, 3.93292929, 3.99636364, 4.05979798,\n",
       "        4.12323232, 4.18666667, 4.25010101, 4.31353535, 4.3769697 ],\n",
       "       [4.44040404, 4.50383838, 4.56727273, 4.63070707, 4.69414141,\n",
       "        4.75757576, 4.8210101 , 4.88444444, 4.94787879, 5.01131313],\n",
       "       [5.07474747, 5.13818182, 5.20161616, 5.26505051, 5.32848485,\n",
       "        5.39191919, 5.45535354, 5.51878788, 5.58222222, 5.64565657],\n",
       "       [5.70909091, 5.77252525, 5.8359596 , 5.89939394, 5.96282828,\n",
       "        6.02626263, 6.08969697, 6.15313131, 6.21656566, 6.28      ]])"
      ]
     },
     "execution_count": 9,
     "metadata": {},
     "output_type": "execute_result"
    }
   ],
   "source": [
    "np.linspace( 0, 2*3.14, 100 ).reshape(10,10) # matrix 10x10"
   ]
  },
  {
   "cell_type": "code",
   "execution_count": 10,
   "metadata": {},
   "outputs": [
    {
     "name": "stdout",
     "output_type": "stream",
     "text": [
      "[[1 1]\n",
      " [0 1]]\n",
      "--------------\n",
      "[[2 0]\n",
      " [3 4]]\n"
     ]
    }
   ],
   "source": [
    "A = np.array( [[1,1],[0,1]] )\n",
    "B = np.array( [[2,0],[3,4]] )\n",
    "print(A)\n",
    "print(\"--------------\")\n",
    "print(B)"
   ]
  },
  {
   "cell_type": "code",
   "execution_count": 11,
   "metadata": {},
   "outputs": [
    {
     "data": {
      "text/plain": [
       "array([[2, 0],\n",
       "       [0, 4]])"
      ]
     },
     "execution_count": 11,
     "metadata": {},
     "output_type": "execute_result"
    }
   ],
   "source": [
    "A*B # komponentenweise mult"
   ]
  },
  {
   "cell_type": "code",
   "execution_count": 12,
   "metadata": {},
   "outputs": [
    {
     "data": {
      "text/plain": [
       "array([[5, 4],\n",
       "       [3, 4]])"
      ]
     },
     "execution_count": 12,
     "metadata": {},
     "output_type": "execute_result"
    }
   ],
   "source": [
    "A@B # matrix multiplikation"
   ]
  },
  {
   "cell_type": "code",
   "execution_count": 13,
   "metadata": {},
   "outputs": [
    {
     "data": {
      "text/plain": [
       "array([[5, 4],\n",
       "       [3, 4]])"
      ]
     },
     "execution_count": 13,
     "metadata": {},
     "output_type": "execute_result"
    }
   ],
   "source": [
    "A.dot(B) # matrix multiplikation"
   ]
  },
  {
   "cell_type": "code",
   "execution_count": 14,
   "metadata": {},
   "outputs": [
    {
     "name": "stdout",
     "output_type": "stream",
     "text": [
      "9\n",
      "4\n",
      "2.25\n"
     ]
    }
   ],
   "source": [
    "print(B.sum())\n",
    "print(B.max())\n",
    "print(B.mean())"
   ]
  },
  {
   "cell_type": "code",
   "execution_count": 15,
   "metadata": {},
   "outputs": [
    {
     "data": {
      "text/plain": [
       "array([[ True, False, False, False],\n",
       "       [False,  True, False, False],\n",
       "       [False, False,  True, False],\n",
       "       [False, False, False,  True]])"
      ]
     },
     "execution_count": 15,
     "metadata": {},
     "output_type": "execute_result"
    }
   ],
   "source": [
    "def f(rows,cols):\n",
    "    return rows == cols\n",
    "    #return rows\n",
    "\n",
    "b = np.fromfunction(f,(4,4))\n",
    "b"
   ]
  },
  {
   "cell_type": "code",
   "execution_count": 16,
   "metadata": {},
   "outputs": [
    {
     "name": "stdout",
     "output_type": "stream",
     "text": [
      "[ True False False False]\n",
      "<class 'numpy.ndarray'>\n",
      "[False  True False False]\n",
      "<class 'numpy.ndarray'>\n",
      "[False False  True False]\n",
      "<class 'numpy.ndarray'>\n",
      "[False False False  True]\n",
      "<class 'numpy.ndarray'>\n"
     ]
    }
   ],
   "source": [
    "for row in b:\n",
    "    print(row)\n",
    "    print(type(row))"
   ]
  },
  {
   "cell_type": "code",
   "execution_count": 17,
   "metadata": {},
   "outputs": [
    {
     "name": "stdout",
     "output_type": "stream",
     "text": [
      "True\n",
      "False\n",
      "False\n",
      "False\n",
      "False\n",
      "True\n",
      "False\n",
      "False\n",
      "False\n",
      "False\n",
      "True\n",
      "False\n",
      "False\n",
      "False\n",
      "False\n",
      "True\n"
     ]
    }
   ],
   "source": [
    "for element in b.flat:\n",
    "    print(element)"
   ]
  },
  {
   "cell_type": "code",
   "execution_count": 18,
   "metadata": {},
   "outputs": [
    {
     "data": {
      "text/plain": [
       "array([[0.43961119, 0.49058855, 0.04858313, 0.78976912],\n",
       "       [0.90638723, 0.16238597, 0.34109173, 0.21663143],\n",
       "       [0.20259889, 0.40272004, 0.3925812 , 0.99833806]])"
      ]
     },
     "execution_count": 18,
     "metadata": {},
     "output_type": "execute_result"
    }
   ],
   "source": [
    "np.random.random((3,4))"
   ]
  },
  {
   "cell_type": "code",
   "execution_count": 19,
   "metadata": {},
   "outputs": [
    {
     "data": {
      "text/plain": [
       "array([[ True, False],\n",
       "       [False, False],\n",
       "       [False,  True],\n",
       "       [False, False],\n",
       "       [False, False],\n",
       "       [ True, False],\n",
       "       [False, False],\n",
       "       [False,  True]])"
      ]
     },
     "execution_count": 19,
     "metadata": {},
     "output_type": "execute_result"
    }
   ],
   "source": [
    "b.reshape(8,2)"
   ]
  },
  {
   "cell_type": "code",
   "execution_count": 20,
   "metadata": {},
   "outputs": [
    {
     "name": "stdout",
     "output_type": "stream",
     "text": [
      "A:\n",
      "[[1 1]\n",
      " [0 1]]\n",
      "B:\n",
      "[[2 0]\n",
      " [3 4]]\n",
      "----------------------\n",
      "[[1 1]\n",
      " [0 1]\n",
      " [2 0]\n",
      " [3 4]]\n",
      "----------------------\n",
      "[[1 1 2 0]\n",
      " [0 1 3 4]]\n"
     ]
    }
   ],
   "source": [
    "print('A:')\n",
    "print(A)\n",
    "print('B:')\n",
    "print(B)\n",
    "print(\"----------------------\")\n",
    "print(np.vstack((A,B))) # vertikale Zusammenführung zu einer Matrix\n",
    "print(\"----------------------\")\n",
    "print(np.hstack((A,B))) # horizontale Zusammenführung zu einer Matrix"
   ]
  },
  {
   "cell_type": "code",
   "execution_count": 21,
   "metadata": {},
   "outputs": [
    {
     "name": "stdout",
     "output_type": "stream",
     "text": [
      "A:\n",
      "[[1 1]\n",
      " [0 4]]\n",
      "B:\n",
      "[[2 0]\n",
      " [3 4]]\n",
      "--------------------\n",
      "C==A?\n",
      "[[ True  True]\n",
      " [ True  True]]\n",
      "C==B?\n",
      "[[False False]\n",
      " [False  True]]\n",
      "C is A? True\n",
      "True\n",
      "A:\n",
      "[[  1 100]\n",
      " [  0   4]]\n",
      "C:\n",
      "[[  1 100]\n",
      " [  0   4]]\n",
      "--------------------\n",
      "[[ True  True]\n",
      " [ True  True]]\n",
      "False\n",
      "False\n",
      "[[  1 200]\n",
      " [  0   4]]\n",
      "[[  1 100]\n",
      " [  0   4]]\n"
     ]
    }
   ],
   "source": [
    "A = np.array( [[1,1],[0,4]] )\n",
    "B = np.array( [[2,0],[3,4]] )\n",
    "print('A:')\n",
    "print(A)\n",
    "print('B:')\n",
    "print(B)\n",
    "print(\"--------------------\")\n",
    "C = A # reference assignment\n",
    "print('C==A?') \n",
    "print(C==A)\n",
    "print('C==B?') \n",
    "print(C==B)\n",
    "print('C is A?',C is A) # dasselbe objekt\n",
    "print(id(C)==id(A)) # dasselbe objekt\n",
    "A[0][1] = 100 \n",
    "print('A:')\n",
    "print(A)\n",
    "print('C:')\n",
    "print(C) \n",
    "print(\"--------------------\")\n",
    "C = A.copy() # unterschiedliche objekte\n",
    "print(C==A)\n",
    "print(C is A)\n",
    "print(id(C)==id(A))\n",
    "A[0][1] = 200 \n",
    "print(A)\n",
    "print(C) "
   ]
  },
  {
   "cell_type": "code",
   "execution_count": 22,
   "metadata": {},
   "outputs": [
    {
     "data": {
      "text/plain": [
       "array([ 0,  1,  2,  3,  4,  5,  6,  7,  8,  9, 10, 11])"
      ]
     },
     "execution_count": 22,
     "metadata": {},
     "output_type": "execute_result"
    }
   ],
   "source": [
    "np.arange(12)"
   ]
  },
  {
   "cell_type": "code",
   "execution_count": 23,
   "metadata": {},
   "outputs": [
    {
     "name": "stdout",
     "output_type": "stream",
     "text": [
      "[[ 0  1  2  3]\n",
      " [ 4  5  6  7]\n",
      " [ 8  9 10 11]]\n",
      "----------------\n",
      "[[ 1  2]\n",
      " [ 5  6]\n",
      " [ 9 10]]\n",
      "----------------\n",
      "[[10 10]\n",
      " [10 10]\n",
      " [10 10]]\n",
      "[[ 0 10 10  3]\n",
      " [ 4 10 10  7]\n",
      " [ 8 10 10 11]]\n"
     ]
    }
   ],
   "source": [
    "a = np.arange(12).reshape(3,4)\n",
    "print(a)\n",
    "print(\"----------------\")\n",
    "s = a[:,1:3] # slicing s is not a copy, its a view\n",
    "print(s)\n",
    "print(\"----------------\")\n",
    "s[:] = 10 # set all elements of s = 10\n",
    "print(s)\n",
    "print(a)"
   ]
  },
  {
   "cell_type": "code",
   "execution_count": 24,
   "metadata": {},
   "outputs": [
    {
     "data": {
      "text/plain": [
       "array([[1., 2.],\n",
       "       [3., 4.]])"
      ]
     },
     "execution_count": 24,
     "metadata": {},
     "output_type": "execute_result"
    }
   ],
   "source": [
    "import numpy as np\n",
    "a = np.array([[1.0, 2.0], [3.0, 4.0]])\n",
    "a"
   ]
  },
  {
   "cell_type": "code",
   "execution_count": 25,
   "metadata": {
    "scrolled": true
   },
   "outputs": [
    {
     "data": {
      "text/plain": [
       "array([[-2. ,  1. ],\n",
       "       [ 1.5, -0.5]])"
      ]
     },
     "execution_count": 25,
     "metadata": {},
     "output_type": "execute_result"
    }
   ],
   "source": [
    "a_inv = np.linalg.inv(a) # inverse\n",
    "a_inv"
   ]
  },
  {
   "cell_type": "code",
   "execution_count": 26,
   "metadata": {},
   "outputs": [
    {
     "data": {
      "text/plain": [
       "array([[1.00000000e+00, 1.11022302e-16],\n",
       "       [0.00000000e+00, 1.00000000e+00]])"
      ]
     },
     "execution_count": 26,
     "metadata": {},
     "output_type": "execute_result"
    }
   ],
   "source": [
    "a@a_inv # einheitsmatrix numerisch"
   ]
  },
  {
   "cell_type": "code",
   "execution_count": 27,
   "metadata": {},
   "outputs": [
    {
     "data": {
      "text/plain": [
       "array([[-3.],\n",
       "       [ 4.]])"
      ]
     },
     "execution_count": 27,
     "metadata": {},
     "output_type": "execute_result"
    }
   ],
   "source": [
    "y = np.array([[5.], [7.]])\n",
    "np.linalg.solve(a, y) # a*x = y, output Lösung x"
   ]
  },
  {
   "cell_type": "code",
   "execution_count": 28,
   "metadata": {},
   "outputs": [],
   "source": [
    "#e=np.linalg.eig(a) # dont use !!!! Eigenwerte\n",
    "#e"
   ]
  },
  {
   "cell_type": "code",
   "execution_count": 29,
   "metadata": {},
   "outputs": [],
   "source": [
    "import matplotlib.pyplot as plt\n",
    "mu, sigma = 2, 0.5\n",
    "v = np.random.normal(mu,sigma,10000) # normal verteilung\n"
   ]
  },
  {
   "cell_type": "code",
   "execution_count": 30,
   "metadata": {},
   "outputs": [
    {
     "data": {
      "image/png": "[encoded data removed]",
      "text/plain": [
       "<Figure size 432x288 with 1 Axes>"
      ]
     },
     "metadata": {
      "needs_background": "light"
     },
     "output_type": "display_data"
    }
   ],
   "source": [
    "plt.hist(v, bins='auto')  # arguments are passed to np.histogram\n",
    "plt.title(\"Histogram with 'auto' bins\")\n",
    "plt.show()"
   ]
  },
  {
   "cell_type": "code",
   "execution_count": 35,
   "metadata": {},
   "outputs": [
    {
     "name": "stdout",
     "output_type": "stream",
     "text": [
      "(51,)\n",
      "(50,)\n"
     ]
    },
    {
     "data": {
      "image/png": "[encoded data removed]",
      "text/plain": [
       "<Figure size 432x288 with 1 Axes>"
      ]
     },
     "metadata": {
      "needs_background": "light"
     },
     "output_type": "display_data"
    }
   ],
   "source": [
    "# n sind values also y-Werte, bins sind edges also x-Werte \n",
    "(n, bins) = np.histogram(v, bins=50, density=True)  # NumPy version (no plot) Density = True (Dichte) / Density = False ( Häufigkeit)\n",
    "#plt.plot(.5*(bins[1:]+bins[:-1]), n) # es werden zentren von bins genommen\n",
    "print(bins.shape)\n",
    "print(n.shape)\n",
    "plt.plot(bins[:-1], n)\n",
    "plt.show()"
   ]
  },
  {
   "cell_type": "code",
   "execution_count": 32,
   "metadata": {},
   "outputs": [
    {
     "data": {
      "text/plain": [
       "(array([0, 2, 1]), array([0, 1, 2, 3]))"
      ]
     },
     "execution_count": 32,
     "metadata": {},
     "output_type": "execute_result"
    }
   ],
   "source": [
    "np.histogram([1, 2, 1], bins=[0, 1, 2, 3])"
   ]
  },
  {
   "cell_type": "code",
   "execution_count": 33,
   "metadata": {},
   "outputs": [
    {
     "data": {
      "text/plain": [
       "array([-0.73645583,  0.16518197, -1.31874232,  0.91358289,  0.47694684])"
      ]
     },
     "execution_count": 33,
     "metadata": {},
     "output_type": "execute_result"
    }
   ],
   "source": [
    "np.random.randn(5) # gleichverteilung"
   ]
  },
  {
   "cell_type": "markdown",
   "metadata": {},
   "source": [
    "# scipy\n",
    "Subpackage | Description \n",
    "-------------|---------------\n",
    "    **cluster**|Clustering algorithms \n",
    "    **constants** |Physical and mathematical constants\n",
    "    **fftpack** | Fast Fourier Transform routines \n",
    "    **integrate** | Integration and ordinary differential equation solvers \n",
    "    **interpolate** | Interpolation and smoothing splines \n",
    "    **io** | Input and Output \n",
    "    **linalg** | Linear algebra \n",
    "   **ndimage** | N-dimensional image processing \n",
    "    **odr** | Orthogonal distance regression \n",
    "    **optimize** | Optimization and root-finding routines \n",
    "    **signal** | Signal processing \n",
    "    **sparse**| Sparse matrices and associated routines \n",
    "    **spatial** | Spatial data structures and algorithms \n",
    "    **special** | Special functions \n",
    "    **stats** | Statistical distributions and functions"
   ]
  },
  {
   "cell_type": "code",
   "execution_count": null,
   "metadata": {},
   "outputs": [],
   "source": []
  }
 ],
 "metadata": {
  "kernelspec": {
   "display_name": "Python 3 (ipykernel)",
   "language": "python",
   "name": "python3"
  },
  "language_info": {
   "codemirror_mode": {
    "name": "ipython",
    "version": 3
   },
   "file_extension": ".py",
   "mimetype": "text/x-python",
   "name": "python",
   "nbconvert_exporter": "python",
   "pygments_lexer": "ipython3",
   "version": "3.11.5"
  }
 },
 "nbformat": 4,
 "nbformat_minor": 2
}
