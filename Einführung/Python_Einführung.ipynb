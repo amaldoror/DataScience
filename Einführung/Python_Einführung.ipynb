{
 "cells": [
  {
   "cell_type": "markdown",
   "source": [
    "# Python Einführung\n",
    "\n",
    "Im Normalfall enthält jede Zeile genau eine Anweisung. Wenn eine Zeile mit einem Backslash endet, wird die Anweisung fortgesetzt:"
   ],
   "metadata": {
    "collapsed": false
   },
   "id": "f4bf8ee8a294544"
  },
  {
   "cell_type": "code",
   "outputs": [],
   "source": [
    "year, month, day, hour, minute, second = 2024, 4, 8, 12, 45, 0\n",
    "\n",
    "if 1900 < year < 2100 and 1 <= month <= 12 \\\n",
    "        and 1 <= day <= 31 and 0 <= hour < 24 \\\n",
    "        and 0 <= minute < 60 and 0 <= second < 60:\n",
    "    date_valid = True"
   ],
   "metadata": {
    "collapsed": false,
    "ExecuteTime": {
     "end_time": "2024-04-07T19:01:33.772989Z",
     "start_time": "2024-04-07T19:01:33.768502Z"
    }
   },
   "id": "4a58e02b85859e0c",
   "execution_count": 1
  },
  {
   "cell_type": "markdown",
   "source": [
    "Bei einer offenen Klammer (), [], {} kann der Backslash entfallen:"
   ],
   "metadata": {
    "collapsed": false
   },
   "id": "cfcca1940b3a6966"
  },
  {
   "cell_type": "code",
   "outputs": [],
   "source": [
    "monatsnamen = ['Januar', 'Februar', 'März', 'April',\n",
    "               'Mai', 'Juni', 'Juli', 'August',\n",
    "               'September', 'Oktober', 'November', 'Dezember']"
   ],
   "metadata": {
    "collapsed": false,
    "ExecuteTime": {
     "end_time": "2024-04-07T19:01:33.778297Z",
     "start_time": "2024-04-07T19:01:33.776440Z"
    }
   },
   "id": "4c75fde71730ac77",
   "execution_count": 2
  },
  {
   "cell_type": "markdown",
   "source": [
    "Mehrere Anweisungen pro Zeile können durch ein Semikolon getrennt werden:"
   ],
   "metadata": {
    "collapsed": false
   },
   "id": "76643277e492746b"
  },
  {
   "cell_type": "code",
   "outputs": [
    {
     "name": "stdout",
     "output_type": "stream",
     "text": [
      "3\n"
     ]
    }
   ],
   "source": [
    "x = 1; x += 2; print(x)"
   ],
   "metadata": {
    "collapsed": false,
    "ExecuteTime": {
     "end_time": "2024-04-07T19:01:33.784069Z",
     "start_time": "2024-04-07T19:01:33.781710Z"
    }
   },
   "id": "f1cdd44d8a2403c6",
   "execution_count": 3
  },
  {
   "cell_type": "markdown",
   "source": [
    "Dies ist aber schlechter Stil und sollte vermieden werden."
   ],
   "metadata": {
    "collapsed": false
   },
   "id": "12cbfc8d48dd5fcb"
  },
  {
   "cell_type": "markdown",
   "source": [
    "## Namen\n",
    "\n",
    "Namen von Variablen, Funktionen, Klassen etc.\n",
    "\n",
    "* Beliebig lang, aus Buchstaben, Ziffern und Unterstrich _\n",
    "* Erstes Zeichen muss Buchstabe sein\n",
    "* Case sensitive → Groß- und Kleinbuchstaben werden unterschieden: **Nmax** und **NMAX** sind verschiedene Variablen\n",
    "* Zeichensatz: Unicode in UTF-8 Kodierung\n",
    "* 33 reservierte keywords: `False, None, True, and, as, assert, break, class, continue, def, del, elif, else, except, finally, for, from, global, if, import, in, is, lambda, nonlocal, not, or, pass, raise, return, try, while, with, yield`\n",
    "* Zulässig: `i, x, π, x23, DieUnbekannteZahl, neuer_Wert, Zähler,delta, δ`\n",
    "* Unzulässig: `3achsen, A#b, $this_is_not_Perl, del`\n",
    "\n",
    "Konventionen:\n",
    "\n",
    "* Variablen und Funktionen: Kleinbuchstaben, Worte durch Unterstrich getrennt: `mein_wert`, `meine_funktion()`\n",
    "* Klassen: Großbuchstaben, Worte zusammengefasst (CamelCase): `MeineKlasse`\n",
    "* Konstanten: Großbuchstaben, Worte durch Unterstrich getrennt: `MEIN_WERT`\n",
    "* An Konventionen halten, um Code lesbar zu halten!"
   ],
   "metadata": {
    "collapsed": false
   },
   "id": "a368e038f824e86"
  },
  {
   "cell_type": "markdown",
   "source": [
    "## Blöcke\n",
    "\n",
    "* Python verwendet Einrückungen, um Blöcke zu definieren.\n",
    "* Einrückungen können mit Leerzeichen oder Tabulatoren erstellt werden, aber es wird empfohlen, Leerzeichen zu verwenden.\n",
    "* Die Anzahl der Leerzeichen ist nicht festgelegt, aber es muss konsistent sein.\n",
    "* Es wird empfohlen, 4 Leerzeichen zu verwenden.\n",
    "* Anweisungen, die einen Block einleiten, enden in der Regel mit einem Doppelpunkt.\n",
    "    ```\n",
    "    if x > 0:\n",
    "    ```\n",
    "* Rücke ein, um einen Block zu beginnen.\n",
    "    ```\n",
    "    if x > 0:\n",
    "        print('x ist positiv')\n",
    "    ```\n",
    "* Rücke die nächste Zeile wieder aus bis zum vorherigen Einrücklevel, um den Block zu beenden.\n",
    "    ```\n",
    "    if x > 0:\n",
    "        print('x ist positiv')\n",
    "    print('Diese Zeile gehört nicht mehr zum Block')\n",
    "    ```\n",
    "* Vgl. Java und Python:\n",
    "    ```\n",
    "    // Java\n",
    "    if (x > 0) {\n",
    "        System.out.println(\"x ist positiv\");\n",
    "    }\n",
    "    System.out.println(\"Diese Zeile gehört nicht mehr zum Block\");\n",
    "    ```\n",
    "  \n",
    "    ```\n",
    "    # Python\n",
    "    if x > 0:\n",
    "        print('x ist positiv')\n",
    "    print('Diese Zeile gehört nicht mehr zum Block')\n",
    "    ```"
   ],
   "metadata": {
    "collapsed": false
   },
   "id": "f9f22950893e4910"
  },
  {
   "cell_type": "markdown",
   "source": [
    "## Print"
   ],
   "metadata": {
    "collapsed": false
   },
   "id": "4cf87380695ca67a"
  },
  {
   "cell_type": "code",
   "outputs": [
    {
     "name": "stdout",
     "output_type": "stream",
     "text": [
      "Hallo Welt\n",
      "Hallo Welt\n",
      "Hallo Welt\n",
      "\n",
      "Hallo\n",
      "Welt\n"
     ]
    }
   ],
   "source": [
    "print('Hallo Welt')  # Normales print\n",
    "print('Hallo', 'Welt')  # Mehrere Argumente (Leerzeichen werden automatisch hinzugefügt)\n",
    "print('Hallo ' + 'Welt')  # Verkettung (Leerzeichen müssen explizit hinzugefügt werden)\n",
    "print()  # Leerzeile\n",
    "print('Hallo\\nWelt')  # Zeilenumbruch"
   ],
   "metadata": {
    "collapsed": false,
    "ExecuteTime": {
     "end_time": "2024-04-07T19:01:33.799678Z",
     "start_time": "2024-04-07T19:01:33.797338Z"
    }
   },
   "id": "a7fd8a1cc211f6f3",
   "execution_count": 4
  },
  {
   "cell_type": "code",
   "outputs": [
    {
     "name": "stdout",
     "output_type": "stream",
     "text": [
      "C:\\new\\text.txt\n",
      "C:\\new\\text.txt\n",
      "1 + 2 = 3\n"
     ]
    }
   ],
   "source": [
    "print(r'C:\\new\\text.txt')  # Raw-String (keine Escape-Sequenzen)\n",
    "# Vgl. mit:\n",
    "print('C:\\\\new\\\\text.txt')\n",
    "a = 1\n",
    "b = 2\n",
    "c = 1 + 2\n",
    "print(f'{a} + {b} = {c}')  # Formatierter String mit mehreren Variablen"
   ],
   "metadata": {
    "collapsed": false,
    "ExecuteTime": {
     "end_time": "2024-04-07T19:01:33.913549Z",
     "start_time": "2024-04-07T19:01:33.907349Z"
    }
   },
   "id": "1a2ba1df6285f7",
   "execution_count": 5
  },
  {
   "cell_type": "markdown",
   "source": [
    "**Aufgabe**: Liefert die Ausgabe für ein Dreieck mit Sternchen der Höhe 4:"
   ],
   "metadata": {
    "collapsed": false
   },
   "id": "3028239f8dc9cfeb"
  },
  {
   "cell_type": "code",
   "outputs": [
    {
     "name": "stdout",
     "output_type": "stream",
     "text": [
      "        *\n",
      "      ***\n",
      "    *****\n",
      "  *******\n"
     ]
    }
   ],
   "source": [
    "def print_triangle(height):\n",
    "    for i in range(0, height):\n",
    "        space = f'  ' * (height-i)\n",
    "        stars = '*' * (2*i+1)\n",
    "        print(space+stars)\n",
    "        \n",
    "print_triangle(4)"
   ],
   "metadata": {
    "collapsed": false,
    "ExecuteTime": {
     "end_time": "2024-04-09T06:34:33.467207700Z",
     "start_time": "2024-04-09T06:34:33.211528900Z"
    }
   },
   "id": "bd0dadb70d1f15f4",
   "execution_count": 52
  },
  {
   "cell_type": "markdown",
   "source": [
    "## Variablenzuweisung"
   ],
   "metadata": {
    "collapsed": false
   },
   "id": "66bb2313598ffd9d"
  },
  {
   "cell_type": "code",
   "outputs": [
    {
     "name": "stdout",
     "output_type": "stream",
     "text": [
      "a >>> 1\n",
      "b >>> (1, 2)\n",
      "c >>> 1\n",
      "d >>> 2\n"
     ]
    }
   ],
   "source": [
    "a = 1  # Normale Zuweisung\n",
    "b = 1, 2  # Mehrfachzuweisung, erzeugt ein Tupel (siehe Abschnitt Sequenzen)\n",
    "c, d = 1, 2  # Mehrfachzuweisung\n",
    "\n",
    "print(f'a >>> {a}')\n",
    "print(f'b >>> {b}')\n",
    "print(f'c >>> {c}')\n",
    "print(f'd >>> {d}')"
   ],
   "metadata": {
    "collapsed": false,
    "ExecuteTime": {
     "end_time": "2024-04-09T03:54:23.991681200Z",
     "start_time": "2024-04-09T03:54:23.968263900Z"
    }
   },
   "id": "7d7b018e41531e03",
   "execution_count": 8
  },
  {
   "cell_type": "markdown",
   "source": [
    "## Datentypen\n",
    "\n",
    "* Python ist stark typisiert: Alle Objekte haben einen Typ.\n",
    "* Ein String ist etwas anderes als eine Zahl\n",
    "* Ein Integer int ist etwas anderes als eine Fließkommazahl float, etc.\n",
    "* Aber: Variablen sind nur typlose Referenzen auf Objekte.\n",
    "* Sie werden nicht deklariert und können verschiedene Typen referenzieren.\n",
    "* Python hat ein dynamisches Typsystem: Der Typ eines Objekts wird erst geprüft, wenn das Objekt verwendet wird.\n",
    "\n",
    "Der Typ eines Objekts kann mit der Funktion `type()` ermittelt werden:"
   ],
   "metadata": {
    "collapsed": false
   },
   "id": "3712bd7c11bebc93"
  },
  {
   "cell_type": "code",
   "outputs": [
    {
     "name": "stdout",
     "output_type": "stream",
     "text": [
      "type(a) >>> <class 'int'>\n",
      "type(b) >>> <class 'float'>\n",
      "type(c) >>> <class 'str'>\n"
     ]
    }
   ],
   "source": [
    "a = 1\n",
    "b = 1.0\n",
    "c = 'Hallo'\n",
    "\n",
    "print(f'type(a) >>> {type(a)}')\n",
    "print(f'type(b) >>> {type(b)}')\n",
    "print(f'type(c) >>> {type(c)}')"
   ],
   "metadata": {
    "collapsed": false,
    "ExecuteTime": {
     "end_time": "2024-04-07T19:01:34.124522Z",
     "start_time": "2024-04-07T19:01:34.120845Z"
    }
   },
   "id": "1808d2dfbc3d2400",
   "execution_count": 8
  },
  {
   "cell_type": "markdown",
   "source": [
    "### Numerische Datentypen"
   ],
   "metadata": {
    "collapsed": false
   },
   "id": "1cef9776cb768ddd"
  },
  {
   "cell_type": "code",
   "outputs": [],
   "source": [
    "a = 42  # int (Ganzzahl)\n",
    "b = 42.0  # float (Fließkommazahl)\n",
    "c = 42 + 0j  # complex (komplexe Zahl)"
   ],
   "metadata": {
    "collapsed": false,
    "ExecuteTime": {
     "end_time": "2024-04-07T19:01:34.222362Z",
     "start_time": "2024-04-07T19:01:34.219300Z"
    }
   },
   "id": "350ad7a3f0e285f9",
   "execution_count": 9
  },
  {
   "cell_type": "markdown",
   "source": [
    "### Boolean"
   ],
   "metadata": {
    "collapsed": false
   },
   "id": "5ee6ceca389f80bd"
  },
  {
   "cell_type": "code",
   "outputs": [],
   "source": [
    "a = True\n",
    "b = False"
   ],
   "metadata": {
    "collapsed": false,
    "ExecuteTime": {
     "end_time": "2024-04-07T19:01:34.297253Z",
     "start_time": "2024-04-07T19:01:34.294346Z"
    }
   },
   "id": "6049a76f7a1e6f1b",
   "execution_count": 10
  },
  {
   "cell_type": "markdown",
   "source": [
    "### Zeichenketten"
   ],
   "metadata": {
    "collapsed": false
   },
   "id": "c7f98aeff4619bf8"
  },
  {
   "cell_type": "code",
   "outputs": [
    {
     "name": "stdout",
     "output_type": "stream",
     "text": [
      "a >>> Hallo\n",
      "b >>> Welt\n",
      "c >>> Hallo\n",
      "Welt\n",
      "d >>> Hallo\n",
      "Welt\n"
     ]
    }
   ],
   "source": [
    "a = 'Hallo'  # str (Zeichenkette)\n",
    "b = \"Welt\"  # str (Zeichenkette, Alternative)\n",
    "c = '''Hallo\n",
    "Welt'''  # Mehrzeilige Zeichenkette\n",
    "d = \"\"\"Hallo\n",
    "Welt\"\"\"  # Mehrzeilige Zeichenkette (Alternative)\n",
    "\n",
    "print(f'a >>> {a}')\n",
    "print(f'b >>> {b}')\n",
    "print(f'c >>> {c}')\n",
    "print(f'd >>> {d}')"
   ],
   "metadata": {
    "collapsed": false,
    "ExecuteTime": {
     "end_time": "2024-04-07T19:01:34.377466Z",
     "start_time": "2024-04-07T19:01:34.372903Z"
    }
   },
   "id": "53005a3da6357076",
   "execution_count": 11
  },
  {
   "cell_type": "markdown",
   "source": [
    "## Operatoren"
   ],
   "metadata": {
    "collapsed": false
   },
   "id": "882d8f40ae512b63"
  },
  {
   "cell_type": "markdown",
   "source": [
    "### Arithmetische Operatoren"
   ],
   "metadata": {
    "collapsed": false
   },
   "id": "8478053a3ef87837"
  },
  {
   "cell_type": "code",
   "outputs": [
    {
     "name": "stdout",
     "output_type": "stream",
     "text": [
      "Addition:         1 + 2  >>> 3\n",
      "Subtraktion:      1 - 2  >>> -1\n",
      "Multiplikation:   1 * 2  >>> 2\n",
      "Division:         1 / 2  >>> 0.5\n",
      "Ganzzahldivision: 1 // 2 >>> 0\n",
      "Modulo:           1 % 2  >>> 1\n",
      "Potenz:           2 ** 3 >>> 8\n"
     ]
    }
   ],
   "source": [
    "a = 1 + 2  # Addition\n",
    "b = 1 - 2  # Subtraktion\n",
    "c = 1 * 2  # Multiplikation\n",
    "d = 1 / 2  # Division\n",
    "e = 1 // 2  # Ganzzahldivision\n",
    "f = 1 % 2  # Modulo\n",
    "g = 2 ** 3  # Potenz\n",
    "\n",
    "# Weitere arithmetische Operatoren finden sich in der Bibliothek `math`\n",
    "\n",
    "print(f'Addition:         1 + 2  >>> {a}')\n",
    "print(f'Subtraktion:      1 - 2  >>> {b}')\n",
    "print(f'Multiplikation:   1 * 2  >>> {c}')\n",
    "print(f'Division:         1 / 2  >>> {d}')\n",
    "print(f'Ganzzahldivision: 1 // 2 >>> {e}')\n",
    "print(f'Modulo:           1 % 2  >>> {f}')\n",
    "print(f'Potenz:           2 ** 3 >>> {g}')"
   ],
   "metadata": {
    "collapsed": false,
    "ExecuteTime": {
     "end_time": "2024-04-07T19:01:34.419437Z",
     "start_time": "2024-04-07T19:01:34.413957Z"
    }
   },
   "id": "1d9099871d3a575",
   "execution_count": 12
  },
  {
   "cell_type": "markdown",
   "source": [
    "Arithmetische Operatoren können auch auf Strings angewendet werden:"
   ],
   "metadata": {
    "collapsed": false
   },
   "id": "ca12af30a7b42d27"
  },
  {
   "cell_type": "code",
   "outputs": [
    {
     "name": "stdout",
     "output_type": "stream",
     "text": [
      "a >>> HalloWelt\n",
      "b >>> HalloHalloHallo\n"
     ]
    }
   ],
   "source": [
    "a = 'Hallo' + 'Welt'  # Verkettung\n",
    "b = 'Hallo' * 3  # Wiederholung\n",
    "\n",
    "print(f'a >>> {a}')\n",
    "print(f'b >>> {b}')"
   ],
   "metadata": {
    "collapsed": false,
    "ExecuteTime": {
     "end_time": "2024-04-07T19:01:34.505087Z",
     "start_time": "2024-04-07T19:01:34.501787Z"
    }
   },
   "id": "440b90ef9cdf6ada",
   "execution_count": 13
  },
  {
   "cell_type": "markdown",
   "source": [
    "### Vergleichsoperatoren"
   ],
   "metadata": {
    "collapsed": false
   },
   "id": "5a328db17fa19e4f"
  },
  {
   "cell_type": "code",
   "outputs": [
    {
     "name": "stdout",
     "output_type": "stream",
     "text": [
      "Gleich:         1 == 2 >>> False\n",
      "Ungleich:       1 != 2 >>> True\n",
      "Kleiner:        1 < 2  >>> True\n",
      "Kleiner gleich: 1 <= 2 >>> True\n",
      "Größer:         1 > 2  >>> False\n",
      "Größer gleich:  1 >= 2 >>> False\n"
     ]
    }
   ],
   "source": [
    "a = 1 == 2  # Gleich\n",
    "b = 1 != 2  # Ungleich\n",
    "c = 1 < 2  # Kleiner\n",
    "d = 1 <= 2  # Kleiner gleich\n",
    "e = 1 > 2  # Größer\n",
    "f = 1 >= 2  # Größer gleich\n",
    "\n",
    "print(f'Gleich:         1 == 2 >>> {a}')\n",
    "print(f'Ungleich:       1 != 2 >>> {b}')\n",
    "print(f'Kleiner:        1 < 2  >>> {c}')\n",
    "print(f'Kleiner gleich: 1 <= 2 >>> {d}')\n",
    "print(f'Größer:         1 > 2  >>> {e}')\n",
    "print(f'Größer gleich:  1 >= 2 >>> {f}')"
   ],
   "metadata": {
    "collapsed": false,
    "ExecuteTime": {
     "end_time": "2024-04-07T19:01:34.531829Z",
     "start_time": "2024-04-07T19:01:34.528191Z"
    }
   },
   "id": "97b0440f04dd78b5",
   "execution_count": 14
  },
  {
   "cell_type": "markdown",
   "source": [
    "### Logische Operatoren"
   ],
   "metadata": {
    "collapsed": false
   },
   "id": "26f229404d671e38"
  },
  {
   "cell_type": "code",
   "outputs": [
    {
     "name": "stdout",
     "output_type": "stream",
     "text": [
      "Logisches UND:   True and False >>> False\n",
      "Logisches ODER:  True or False  >>> True\n",
      "Logisches NICHT: not True       >>> False\n"
     ]
    }
   ],
   "source": [
    "a = True and False  # logisches UND\n",
    "b = True or False  # logisches ODER\n",
    "c = not True  # logisches NICHT\n",
    "\n",
    "print(f'Logisches UND:   True and False >>> {a}')\n",
    "print(f'Logisches ODER:  True or False  >>> {b}')\n",
    "print(f'Logisches NICHT: not True       >>> {c}')"
   ],
   "metadata": {
    "collapsed": false,
    "ExecuteTime": {
     "end_time": "2024-04-07T19:01:34.643326Z",
     "start_time": "2024-04-07T19:01:34.638854Z"
    }
   },
   "id": "b077d5ed30b8399a",
   "execution_count": 15
  },
  {
   "cell_type": "markdown",
   "source": [
    "## Sequenzen"
   ],
   "metadata": {
    "collapsed": false
   },
   "id": "8c063f36eb802b2f"
  },
  {
   "cell_type": "markdown",
   "source": [
    "### Listen, Tupel und Mengen"
   ],
   "metadata": {
    "collapsed": false
   },
   "id": "8066c21f29301772"
  },
  {
   "cell_type": "code",
   "outputs": [],
   "source": [
    "a = [1, 2, 3]  # Liste (list), veränderbar\n",
    "b = (1, 2, 3)  # Tupel (tuple), unveränderbar\n",
    "c = {1, 2, 3}  # Menge (Set), keine Duplikate\n",
    "\n",
    "# strings sind auch Sequenzen"
   ],
   "metadata": {
    "collapsed": false,
    "ExecuteTime": {
     "end_time": "2024-04-07T19:01:34.684146Z",
     "start_time": "2024-04-07T19:01:34.680836Z"
    }
   },
   "id": "1370495b84e89d5e",
   "execution_count": 16
  },
  {
   "cell_type": "markdown",
   "source": [
    "### Range"
   ],
   "metadata": {
    "collapsed": false
   },
   "id": "ec989bd96b9ce84"
  },
  {
   "cell_type": "code",
   "outputs": [
    {
     "name": "stdout",
     "output_type": "stream",
     "text": [
      "range(5)       >>> [0, 1, 2, 3, 4]\n",
      "range(1, 5)    >>> [1, 2, 3, 4]\n",
      "range(1, 5, 2) >>> [1, 3]\n"
     ]
    }
   ],
   "source": [
    "a = range(5)  # obere Grenze (exklusive)\n",
    "b = range(1, 5)  # untere und obere Grenze (inklusive, exklusive)\n",
    "c = range(1, 5, 2)  # untere und obere Grenze (inklusive, exklusive), Schrittweite 2\n",
    "\n",
    "print(f'range(5)       >>> {list(a)}')\n",
    "print(f'range(1, 5)    >>> {list(b)}')\n",
    "print(f'range(1, 5, 2) >>> {list(c)}')"
   ],
   "metadata": {
    "collapsed": false,
    "ExecuteTime": {
     "end_time": "2024-04-07T19:01:34.765379Z",
     "start_time": "2024-04-07T19:01:34.761249Z"
    }
   },
   "id": "ec24f872c5fff5ab",
   "execution_count": 17
  },
  {
   "cell_type": "markdown",
   "source": [
    "### Indexierung und Slicing"
   ],
   "metadata": {
    "collapsed": false
   },
   "id": "f148485478b6af2c"
  },
  {
   "cell_type": "code",
   "outputs": [
    {
     "name": "stdout",
     "output_type": "stream",
     "text": [
      "[1, 2, 3, 4, 5]\n",
      "\n",
      "l[0]     >>> 1\n",
      "l[-1]    >>> 5\n",
      "l[1:3]   >>> [2, 3]\n",
      "l[2:]    >>> [3, 4, 5]\n",
      "l[:3]    >>> [1, 2, 3]\n",
      "l[:]     >>> [1, 2, 3, 4, 5]\n",
      "l[1:5:2] >>> [2, 4]\n",
      "l[::]    >>> [1, 2, 3, 4, 5]\n",
      "l[::2]   >>> [1, 3, 5]\n",
      "l[::-1]  >>> [5, 4, 3, 2, 1]\n"
     ]
    }
   ],
   "source": [
    "l = [1, 2, 3, 4, 5]\n",
    "\n",
    "a = l[0]  # Indexierung\n",
    "b = l[-1]  # Negative Indexierung\n",
    "c = l[1:3]  # Slicing (exklusiv)\n",
    "d = l[2:]  # Slicing bis zum Ende\n",
    "e = l[:3]  # Slicing vom Anfang\n",
    "f = l[:]  # Slicing vom Anfang bis zum Ende\n",
    "g = l[1:5:2]  # Slicing in Zweierschritten\n",
    "h = l[::]  # Slicing vom Anfang bis zum Ende\n",
    "i = l[::2]  # Slicing vom Anfang bis zum Ende in Zweierschritten\n",
    "j = l[::-1]  # Slicing in umgekehrter Reihenfolge\n",
    "\n",
    "print(l)\n",
    "print()\n",
    "print(f'l[0]     >>> {a}')\n",
    "print(f'l[-1]    >>> {b}')\n",
    "print(f'l[1:3]   >>> {c}')\n",
    "print(f'l[2:]    >>> {d}')\n",
    "print(f'l[:3]    >>> {e}')\n",
    "print(f'l[:]     >>> {f}')\n",
    "print(f'l[1:5:2] >>> {g}')\n",
    "print(f'l[::]    >>> {h}')\n",
    "print(f'l[::2]   >>> {i}')\n",
    "print(f'l[::-1]  >>> {j}')"
   ],
   "metadata": {
    "collapsed": false,
    "ExecuteTime": {
     "end_time": "2024-04-07T19:01:34.799263Z",
     "start_time": "2024-04-07T19:01:34.793162Z"
    }
   },
   "id": "1a6538da54635d61",
   "execution_count": 18
  },
  {
   "cell_type": "markdown",
   "source": [
    "### Funktionen für Sequenzen"
   ],
   "metadata": {
    "collapsed": false
   },
   "id": "f184569dec8e717e"
  },
  {
   "cell_type": "code",
   "outputs": [
    {
     "name": "stdout",
     "output_type": "stream",
     "text": [
      "l = [1, 2, 3, 4, 5]\n",
      "\n",
      "len(l)      >>> 5\n",
      "min(l)      >>> 1\n",
      "max(l)      >>> 5\n",
      "sum(l)      >>> 15\n",
      "1 in l      >>> True\n",
      "2 not in l  >>> False\n",
      "reversed(l) >>> [5, 4, 3, 2, 1]\n",
      "sorted(l)   >>> [1, 2, 3, 4, 5]\n"
     ]
    }
   ],
   "source": [
    "l = [1, 2, 3, 4, 5]\n",
    "\n",
    "a = len(l)  # Länge\n",
    "b = min(l)  # Minimum\n",
    "c = max(l)  # Maximum\n",
    "d = sum(l)  # Summe\n",
    "e = 1 in l  # Prüfen auf Mitgliedschaft\n",
    "f = 2 not in l  # Prüfen auf Nichtmitgliedschaft\n",
    "g = reversed(l)  # Umkehren\n",
    "h = sorted(reversed(l))  # Sortieren\n",
    "\n",
    "print(f'l = {l}')\n",
    "print()\n",
    "print(f'len(l)      >>> {a}')\n",
    "print(f'min(l)      >>> {b}')\n",
    "print(f'max(l)      >>> {c}')\n",
    "print(f'sum(l)      >>> {d}')\n",
    "print(f'1 in l      >>> {e}')\n",
    "print(f'2 not in l  >>> {f}')\n",
    "print(f'reversed(l) >>> {list(g)}')\n",
    "print(f'sorted(l)   >>> {list(h)}')"
   ],
   "metadata": {
    "collapsed": false,
    "ExecuteTime": {
     "end_time": "2024-04-07T19:01:34.846483Z",
     "start_time": "2024-04-07T19:01:34.840697Z"
    }
   },
   "id": "8cdf2f295811905a",
   "execution_count": 19
  },
  {
   "cell_type": "code",
   "outputs": [
    {
     "name": "stdout",
     "output_type": "stream",
     "text": [
      "[1, 2, 3, 4, 5]\n",
      "\n",
      "l.append(6)    >>> [1, 2, 3, 4, 5, 6]\n",
      "l.insert(0, 0) >>> [0, 1, 2, 3, 4, 5, 6]\n",
      "l.remove(0)    >>> [1, 2, 3, 4, 5, 6]\n",
      "l.pop()        >>> [1, 2, 3, 4, 5]\n",
      "l.clear()      >>> []\n"
     ]
    }
   ],
   "source": [
    "l = [1, 2, 3, 4, 5]\n",
    "print(l)\n",
    "print()\n",
    "a = l.append(6)  # Anhängen\n",
    "print(f'l.append(6)    >>> {l}')\n",
    "b = l.insert(0, 0)  # Einfügen\n",
    "print(f'l.insert(0, 0) >>> {l}')\n",
    "c = l.remove(0)  # Entfernen\n",
    "print(f'l.remove(0)    >>> {l}')\n",
    "d = l.pop()  # Entfernen des letzten Elements\n",
    "print(f'l.pop()        >>> {l}')\n",
    "e = l.clear()  # Leeren\n",
    "print(f'l.clear()      >>> {l}')"
   ],
   "metadata": {
    "collapsed": false,
    "ExecuteTime": {
     "end_time": "2024-04-07T19:01:34.879048Z",
     "start_time": "2024-04-07T19:01:34.872827Z"
    }
   },
   "id": "4d701d2310d36e66",
   "execution_count": 20
  },
  {
   "cell_type": "markdown",
   "source": [
    "### Kopieren von Sequenzen\n",
    "\n",
    "Eine Sequenz speichert nicht die Listenelemente, sondern nur Referenzen auf die Objekte. Daher wird bei einer Zuweisung nur die Referenz kopiert, nicht das Objekt selbst. Das bedeutet, dass Änderungen an einer Kopie auch die Originalsequenz ändern können:"
   ],
   "metadata": {
    "collapsed": false
   },
   "id": "3fd37b4e6ee8d5ed"
  },
  {
   "cell_type": "code",
   "outputs": [
    {
     "name": "stdout",
     "output_type": "stream",
     "text": [
      "l    >>> [1, 2, 3, 4]\n",
      "copy >>> [1, 2, 3, 4]\n"
     ]
    }
   ],
   "source": [
    "l = [1, 2, 3, 4, 5]\n",
    "copy = l\n",
    "copy.pop()\n",
    "print(f'l    >>> {l}')\n",
    "print(f'copy >>> {copy}')"
   ],
   "metadata": {
    "collapsed": false,
    "ExecuteTime": {
     "end_time": "2024-04-07T19:01:34.968876Z",
     "start_time": "2024-04-07T19:01:34.965268Z"
    }
   },
   "id": "e50ecea7bffaffd",
   "execution_count": 21
  },
  {
   "cell_type": "markdown",
   "source": [
    "Um eine Sequenz zu kopieren, kann die Methode `copy()` oder die Funktion `list()` verwendet werden:"
   ],
   "metadata": {
    "collapsed": false
   },
   "id": "7411438705f2d005"
  },
  {
   "cell_type": "code",
   "outputs": [
    {
     "name": "stdout",
     "output_type": "stream",
     "text": [
      "l        >>> [1, 2, 3, 4, 5]\n",
      "l_copy_1 >>> [1, 2, 3, 4]\n",
      "l_copy_2 >>> [1, 2, 3, 4]\n"
     ]
    }
   ],
   "source": [
    "l = [1, 2, 3, 4, 5]\n",
    "\n",
    "l_copy_1 = l.copy()\n",
    "l_copy_2 = list(l)\n",
    "\n",
    "l_copy_1.pop()\n",
    "l_copy_2.pop()\n",
    "\n",
    "print(f'l        >>> {l}')\n",
    "print(f'l_copy_1 >>> {l_copy_1}')\n",
    "print(f'l_copy_2 >>> {l_copy_2}')"
   ],
   "metadata": {
    "collapsed": false,
    "ExecuteTime": {
     "end_time": "2024-04-07T19:01:34.993368Z",
     "start_time": "2024-04-07T19:01:34.990260Z"
    }
   },
   "id": "ab94185de4467ce8",
   "execution_count": 22
  },
  {
   "cell_type": "markdown",
   "source": [
    "## Dictionaries"
   ],
   "metadata": {
    "collapsed": false
   },
   "id": "1549c378a96a9d3d"
  },
  {
   "cell_type": "code",
   "outputs": [
    {
     "name": "stdout",
     "output_type": "stream",
     "text": [
      "{'a': 1, 2: 'Hallo', 'Hi': [1, 2, 3]}\n",
      "\n",
      "d['a']       >>> 1\n",
      "d.get('b')   >>> [1, 2, 3]\n",
      "d.items()    >>> [('a', 1), (2, 'Hallo'), ('Hi', [1, 2, 3])]\n",
      "d.keys()     >>> ['a', 2, 'Hi']\n",
      "d.values()   >>> [1, 'Hallo', [1, 2, 3]]\n"
     ]
    }
   ],
   "source": [
    "d = {\n",
    "    'a': 1,  # Key-Value-Paar\n",
    "    2: 'Hallo',\n",
    "    'Hi': [1, 2, 3]\n",
    "}\n",
    "\n",
    "a = d['a']  # Zugriff auf Wert\n",
    "b = d.get('Hi')  # Zugriff auf Wert\n",
    "c = d.items()  # Schlüssel-Wert-Paare\n",
    "e = d.keys()  # Schlüssel\n",
    "f = d.values()  # Werte\n",
    "\n",
    "print(d)\n",
    "print()\n",
    "print(f\"d['a']       >>> {a}\")\n",
    "print(f\"d.get('b')   >>> {b}\")\n",
    "print(f'd.items()    >>> {list(c)}')\n",
    "print(f'd.keys()     >>> {list(e)}')\n",
    "print(f'd.values()   >>> {list(f)}')"
   ],
   "metadata": {
    "collapsed": false,
    "ExecuteTime": {
     "end_time": "2024-04-07T19:01:35.078572Z",
     "start_time": "2024-04-07T19:01:35.073151Z"
    }
   },
   "id": "5c21cd271d727a25",
   "execution_count": 23
  },
  {
   "cell_type": "code",
   "outputs": [
    {
     "name": "stdout",
     "output_type": "stream",
     "text": [
      "{'a': 1, 2: 'Hallo', 'Hi': [1, 2, 3]}\n",
      "\n",
      "d.pop('a')         >>> {2: 'Hallo', 'Hi': [1, 2, 3]}\n",
      "d.popitem()        >>> {2: 'Hallo'}\n",
      "d.update({'d': 4}) >>> {2: 'Hallo', 'd': 4}\n",
      "d.clear()          >>> {}\n"
     ]
    }
   ],
   "source": [
    "print(d)\n",
    "print()\n",
    "d.pop('a')  # Entfernen eines Schlüssel-Wert-Paares\n",
    "print(f\"d.pop('a')         >>> {d}\")\n",
    "d.popitem()  # Entfernen eines Schlüssel-Wert-Paares\n",
    "print(f'd.popitem()        >>> {d}')\n",
    "d.update({'d': 4})  # Hinzufügen eines Schlüssel-Wert-Paares\n",
    "print(r\"d.update({'d': 4}) >>>\", d)\n",
    "d.clear()  # Leeren\n",
    "print(f'd.clear()          >>> {d}')"
   ],
   "metadata": {
    "collapsed": false,
    "ExecuteTime": {
     "end_time": "2024-04-07T19:01:35.117295Z",
     "start_time": "2024-04-07T19:01:35.112762Z"
    }
   },
   "id": "552c3ff71b55abf4",
   "execution_count": 24
  },
  {
   "cell_type": "markdown",
   "source": [
    "## Kontrollsequenzen"
   ],
   "metadata": {
    "collapsed": false
   },
   "id": "c5289280595005e7"
  },
  {
   "cell_type": "markdown",
   "source": [
    "### Schleifen"
   ],
   "metadata": {
    "collapsed": false
   },
   "id": "8cecc6bcd05de65b"
  },
  {
   "cell_type": "code",
   "outputs": [
    {
     "name": "stdout",
     "output_type": "stream",
     "text": [
      "0\n",
      "1\n",
      "2\n",
      "3\n",
      "4\n"
     ]
    }
   ],
   "source": [
    "# \"Normale\" for-Schleife (ähnlich zu for-Schleife in Java)\n",
    "for i in range(5):\n",
    "    print(i)"
   ],
   "metadata": {
    "collapsed": false,
    "ExecuteTime": {
     "end_time": "2024-04-07T19:01:35.169143Z",
     "start_time": "2024-04-07T19:01:35.165613Z"
    }
   },
   "id": "a9179b50959dc405",
   "execution_count": 25
  },
  {
   "cell_type": "code",
   "outputs": [
    {
     "name": "stdout",
     "output_type": "stream",
     "text": [
      "1\n",
      "2\n",
      "3\n",
      "4\n",
      "5\n"
     ]
    }
   ],
   "source": [
    "# foreach-Schleife (ähnlich zu foreach-Schleife in Java)\n",
    "l = [1, 2, 3, 4, 5]\n",
    "for i in l:\n",
    "    print(i)"
   ],
   "metadata": {
    "collapsed": false,
    "ExecuteTime": {
     "end_time": "2024-04-07T19:01:35.197853Z",
     "start_time": "2024-04-07T19:01:35.194115Z"
    }
   },
   "id": "8fbf9dd70a0f96b9",
   "execution_count": 26
  },
  {
   "cell_type": "code",
   "outputs": [
    {
     "name": "stdout",
     "output_type": "stream",
     "text": [
      "0 a\n",
      "1 b\n",
      "2 c\n",
      "3 d\n",
      "4 e\n"
     ]
    }
   ],
   "source": [
    "# foreach-Schleife mit Index\n",
    "l = ['a', 'b', 'c', 'd', 'e']\n",
    "for i, v in enumerate(l):\n",
    "    print(i, v)"
   ],
   "metadata": {
    "collapsed": false,
    "ExecuteTime": {
     "end_time": "2024-04-07T19:01:35.259177Z",
     "start_time": "2024-04-07T19:01:35.255925Z"
    }
   },
   "id": "9f05c076f46bbb48",
   "execution_count": 27
  },
  {
   "cell_type": "code",
   "outputs": [
    {
     "name": "stdout",
     "output_type": "stream",
     "text": [
      "1 a\n",
      "2 b\n",
      "3 c\n",
      "4 d\n",
      "5 e\n"
     ]
    }
   ],
   "source": [
    "# Über zwei Listen iterieren\n",
    "l1 = [1, 2, 3, 4, 5]\n",
    "l2 = ['a', 'b', 'c', 'd', 'e']\n",
    "for i, j in zip(l1, l2):\n",
    "    print(i, j)"
   ],
   "metadata": {
    "collapsed": false,
    "ExecuteTime": {
     "end_time": "2024-04-07T19:01:35.301982Z",
     "start_time": "2024-04-07T19:01:35.299033Z"
    }
   },
   "id": "16796f03fe99b473",
   "execution_count": 28
  },
  {
   "cell_type": "code",
   "outputs": [
    {
     "name": "stdout",
     "output_type": "stream",
     "text": [
      "0\n",
      "1\n",
      "2\n",
      "3\n",
      "4\n"
     ]
    }
   ],
   "source": [
    "# while-Schleife\n",
    "i = 0\n",
    "while i < 5:\n",
    "    print(i)\n",
    "    i += 1"
   ],
   "metadata": {
    "collapsed": false,
    "ExecuteTime": {
     "end_time": "2024-04-07T19:01:35.364470Z",
     "start_time": "2024-04-07T19:01:35.361421Z"
    }
   },
   "id": "81ef33fa2f4f5167",
   "execution_count": 29
  },
  {
   "cell_type": "markdown",
   "source": [
    "**Aufgabe**: Definiert eine Matrix M (3x4) und einen Vektor v (4x1) mit Hilfe von Sequenzen. Implementiert eine Funktion `matrix_vector_multiplication(M, v)`, die das Produkt aus Matrix und Vektor mit Hilfe von Schleifen berechnet."
   ],
   "metadata": {
    "collapsed": false
   },
   "id": "65608b03ecaf1dba"
  },
  {
   "cell_type": "code",
   "outputs": [
    {
     "data": {
      "text/plain": "[30, 70, 110]"
     },
     "execution_count": 31,
     "metadata": {},
     "output_type": "execute_result"
    }
   ],
   "source": [],
   "metadata": {
    "collapsed": false,
    "ExecuteTime": {
     "end_time": "2024-04-07T19:01:35.436762Z",
     "start_time": "2024-04-07T19:01:35.432378Z"
    }
   },
   "id": "be7cf73068ae7fd5",
   "execution_count": 31
  },
  {
   "cell_type": "markdown",
   "source": [
    "**Aufgabe**: Implementiert eine Funktion `fibunacci(n)`, die die ersten n Fibonacci-Zahlen mit einer while-Schleife berechnet."
   ],
   "metadata": {
    "collapsed": false
   },
   "id": "2dde4fd0bb03086e"
  },
  {
   "cell_type": "code",
   "outputs": [
    {
     "name": "stdout",
     "output_type": "stream",
     "text": [
      "0 1 1 2 3 5 8 13 21 34 "
     ]
    }
   ],
   "source": [],
   "metadata": {
    "collapsed": false,
    "ExecuteTime": {
     "end_time": "2024-04-07T19:01:35.505064Z",
     "start_time": "2024-04-07T19:01:35.501232Z"
    }
   },
   "id": "95635f3869589515",
   "execution_count": 33
  },
  {
   "cell_type": "markdown",
   "source": [
    "**Aufgabe**: Implementiert eine Funktion `triangle(n)`, die ein Dreieck aus Sternchen der Höhe n ausgibt. Nutzt dafür Schleifen. "
   ],
   "metadata": {
    "collapsed": false
   },
   "id": "844ad2d42b81fc"
  },
  {
   "cell_type": "code",
   "outputs": [
    {
     "name": "stdout",
     "output_type": "stream",
     "text": [
      "     *     \n",
      "    ***    \n",
      "   *****   \n",
      "  *******  \n",
      " ********* \n"
     ]
    }
   ],
   "source": [],
   "metadata": {
    "collapsed": false,
    "ExecuteTime": {
     "end_time": "2024-04-07T19:01:35.592333Z",
     "start_time": "2024-04-07T19:01:35.588485Z"
    }
   },
   "id": "4a9803b507f8e125",
   "execution_count": 35
  },
  {
   "cell_type": "markdown",
   "source": [
    "### If-Else"
   ],
   "metadata": {
    "collapsed": false
   },
   "id": "3acd29d8aeb611d"
  },
  {
   "cell_type": "code",
   "outputs": [
    {
     "name": "stdout",
     "output_type": "stream",
     "text": [
      "a ist kleiner als b\n"
     ]
    }
   ],
   "source": [
    "a = 1\n",
    "b = 2\n",
    "\n",
    "if a < b:\n",
    "    print('a ist kleiner als b')\n",
    "elif a == b:\n",
    "    print('a ist gleich b')\n",
    "else:\n",
    "    print('a ist größer als b')"
   ],
   "metadata": {
    "collapsed": false,
    "ExecuteTime": {
     "end_time": "2024-04-07T19:01:35.615347Z",
     "start_time": "2024-04-07T19:01:35.611500Z"
    }
   },
   "id": "2d14c1bf1e352365",
   "execution_count": 36
  },
  {
   "cell_type": "markdown",
   "source": [
    "### Switch-Case"
   ],
   "metadata": {
    "collapsed": false
   },
   "id": "d0649bc65cea121e"
  },
  {
   "cell_type": "markdown",
   "source": [
    "Diese Variante gibt es erst seit Python 3.10!"
   ],
   "metadata": {
    "collapsed": false
   },
   "id": "d119122e2a3aa43b"
  },
  {
   "cell_type": "code",
   "outputs": [
    {
     "name": "stdout",
     "output_type": "stream",
     "text": [
      "Not found\n"
     ]
    }
   ],
   "source": [
    "def http_error(status):\n",
    "    match status:\n",
    "        case 400:\n",
    "            return 'Bad request'  # Hier könnte z.B. auch eine Funktion stehen\n",
    "        case 404:\n",
    "            return 'Not found'\n",
    "        case 418:\n",
    "            return 'I\\'m a teapot'\n",
    "        case _:  # Fall-trough option\n",
    "            return 'Something\\'s wrong with the internet'\n",
    "\n",
    "print(http_error(404))"
   ],
   "metadata": {
    "collapsed": false,
    "ExecuteTime": {
     "end_time": "2024-04-07T19:01:35.657641Z",
     "start_time": "2024-04-07T19:01:35.653380Z"
    }
   },
   "id": "834cd863ba88626c",
   "execution_count": 37
  },
  {
   "cell_type": "markdown",
   "source": [
    "Vor Python 3.10 kann ein Dictionary verwendet werden:"
   ],
   "metadata": {
    "collapsed": false
   },
   "id": "5b17590af1df1f57"
  },
  {
   "cell_type": "code",
   "outputs": [
    {
     "name": "stdout",
     "output_type": "stream",
     "text": [
      "Not found\n"
     ]
    }
   ],
   "source": [
    "def http_error(status):\n",
    "    return {\n",
    "        400: 'Bad request',\n",
    "        404: 'Not found',\n",
    "        418: 'I\\'m a teapot'\n",
    "    }.get(status, 'Something\\'s wrong with the internet')\n",
    "\n",
    "print(http_error(404))"
   ],
   "metadata": {
    "collapsed": false,
    "ExecuteTime": {
     "end_time": "2024-04-07T19:01:35.686008Z",
     "start_time": "2024-04-07T19:01:35.682176Z"
    }
   },
   "id": "188bb7252f541d29",
   "execution_count": 38
  },
  {
   "cell_type": "markdown",
   "source": [
    "### Try-Except"
   ],
   "metadata": {
    "collapsed": false
   },
   "id": "e8195d1a739df613"
  },
  {
   "cell_type": "code",
   "outputs": [
    {
     "name": "stdout",
     "output_type": "stream",
     "text": [
      "division by zero\n"
     ]
    }
   ],
   "source": [
    "try:\n",
    "    print(1 / 0)\n",
    "except ZeroDivisionError as e:\n",
    "    print(e)"
   ],
   "metadata": {
    "collapsed": false,
    "ExecuteTime": {
     "end_time": "2024-04-07T19:01:35.740483Z",
     "start_time": "2024-04-07T19:01:35.736972Z"
    }
   },
   "id": "ad191d117b0fbbb4",
   "execution_count": 39
  },
  {
   "cell_type": "markdown",
   "source": [
    "### With"
   ],
   "metadata": {
    "collapsed": false
   },
   "id": "795552fc532c4e84"
  },
  {
   "cell_type": "code",
   "outputs": [],
   "source": [
    "with open('file.txt', 'w') as f:\n",
    "    f.write('Hello World')"
   ],
   "metadata": {
    "collapsed": false,
    "ExecuteTime": {
     "end_time": "2024-04-07T19:01:35.758998Z",
     "start_time": "2024-04-07T19:01:35.755853Z"
    }
   },
   "id": "3e2f7d7059a11c0c",
   "execution_count": 40
  },
  {
   "cell_type": "markdown",
   "source": [
    "## Funktionen"
   ],
   "metadata": {
    "collapsed": false
   },
   "id": "e8e62b821bbc1c0e"
  },
  {
   "cell_type": "code",
   "outputs": [
    {
     "name": "stdout",
     "output_type": "stream",
     "text": [
      "func1()              >>> 1\n",
      "func2(1, 2)          >>> 3\n",
      "func3(1)             >>> 2\n",
      "func3(1, 2)          >>> 3\n",
      "func4(1)             >>> 1\n",
      "func4(1, 2)          >>> 3\n",
      "func5(1, 2, 3, 4, 5) >>> 15\n"
     ]
    }
   ],
   "source": [
    "def func1():  # Funktion ohne Argumente\n",
    "    return 1\n",
    "\n",
    "def func2(a, b):  # Funktion mit Argumenten\n",
    "    return a + b\n",
    "\n",
    "def func3(a, b=1):  # Funktion mit Standardargument\n",
    "    return a + b\n",
    "\n",
    "def func4(a, b=None):  # Funktion mit optionalem Argument\n",
    "    if b:\n",
    "        return a + b\n",
    "    else:\n",
    "        return a\n",
    "\n",
    "def func5(*args):  # Funktion mit variabler Anzahl an Argumenten\n",
    "    return sum(args)\n",
    "\n",
    "print(f'func1()              >>> {func1()}')\n",
    "print(f'func2(1, 2)          >>> {func2(1, 2)}')\n",
    "print(f'func3(1)             >>> {func3(1)}')\n",
    "print(f'func3(1, 2)          >>> {func3(1, 2)}')\n",
    "print(f'func4(1)             >>> {func4(1)}')\n",
    "print(f'func4(1, 2)          >>> {func4(1, 2)}')\n",
    "print(f'func5(1, 2, 3, 4, 5) >>> {func5(1, 2, 3, 4, 5)}')"
   ],
   "metadata": {
    "collapsed": false,
    "ExecuteTime": {
     "end_time": "2024-04-07T19:01:35.786225Z",
     "start_time": "2024-04-07T19:01:35.782300Z"
    }
   },
   "id": "24d714e9b4cced29",
   "execution_count": 41
  },
  {
   "cell_type": "markdown",
   "source": [
    "**Aufgabe**: Implementiert eine rekursive Funktion `factorial(n)` zur Berechnung der Fakultät von n."
   ],
   "metadata": {
    "collapsed": false
   },
   "id": "eeb060cd572a4ecb"
  },
  {
   "cell_type": "code",
   "outputs": [
    {
     "data": {
      "text/plain": "120"
     },
     "execution_count": 43,
     "metadata": {},
     "output_type": "execute_result"
    }
   ],
   "source": [],
   "metadata": {
    "collapsed": false,
    "ExecuteTime": {
     "end_time": "2024-04-07T19:01:35.847039Z",
     "start_time": "2024-04-07T19:01:35.843956Z"
    }
   },
   "id": "7e70edcae94e148c",
   "execution_count": 43
  },
  {
   "cell_type": "markdown",
   "source": [
    "## Klassen"
   ],
   "metadata": {
    "collapsed": false
   },
   "id": "c41cee32bdce0b15"
  },
  {
   "cell_type": "code",
   "outputs": [],
   "source": [
    "class Area:\n",
    "    # Docstring = Beschreibung der Klasse (optional)\n",
    "    \"\"\"\n",
    "    Berechnet die Fläche eines Rechtecks\n",
    "    \"\"\"\n",
    "    glob = 'Hallo'  # Globale Klassenvariable\n",
    "\n",
    "    def __init__(self, width, height):  # Konstruktor\n",
    "        self.width = width\n",
    "        self.height = height\n",
    "\n",
    "    def get_area(self):  # Methode\n",
    "        return self.width * self.height\n",
    "\n",
    "    @staticmethod  # Annotation für statische Methode (optional)\n",
    "    def get_area_static(width, height):  # Statische Methode\n",
    "        # Auch Methoden können Docstrings haben\n",
    "        \"\"\"\n",
    "        Berechnet die Fläche eines Rechtecks\n",
    "        :param width: Breite\n",
    "        :param height: Höhe\n",
    "        :return: Fläche\n",
    "        \"\"\"\n",
    "        return width * height"
   ],
   "metadata": {
    "collapsed": false,
    "ExecuteTime": {
     "end_time": "2024-04-07T19:01:35.860776Z",
     "start_time": "2024-04-07T19:01:35.858224Z"
    }
   },
   "id": "445250c17ed885e1",
   "execution_count": 44
  },
  {
   "cell_type": "code",
   "outputs": [
    {
     "name": "stdout",
     "output_type": "stream",
     "text": [
      "\n",
      "    Berechnet die Fläche eines Rechtecks\n",
      "    \n"
     ]
    }
   ],
   "source": [
    "print(Area.__doc__)  # Anzeigen der Dokumentation der Klasse"
   ],
   "metadata": {
    "collapsed": false,
    "ExecuteTime": {
     "end_time": "2024-04-07T19:01:35.899149Z",
     "start_time": "2024-04-07T19:01:35.896884Z"
    }
   },
   "id": "1af51400e5fb6037",
   "execution_count": 45
  },
  {
   "cell_type": "code",
   "outputs": [
    {
     "name": "stdout",
     "output_type": "stream",
     "text": [
      "Return the number of items in a container.\n"
     ]
    }
   ],
   "source": [
    "print(len.__doc__)  # Anzeigen der Dokumentation der Funktion len"
   ],
   "metadata": {
    "collapsed": false,
    "ExecuteTime": {
     "end_time": "2024-04-07T19:01:35.915596Z",
     "start_time": "2024-04-07T19:01:35.912711Z"
    }
   },
   "id": "b5ca4bee0607591b",
   "execution_count": 46
  },
  {
   "cell_type": "code",
   "outputs": [
    {
     "name": "stdout",
     "output_type": "stream",
     "text": [
      "\n",
      "        Berechnet die Fläche eines Rechtecks\n",
      "        :param width: Breite\n",
      "        :param height: Höhe\n",
      "        :return: Fläche\n",
      "        \n"
     ]
    }
   ],
   "source": [
    "print(Area.get_area_static.__doc__)  # Anzeigen der Dokumentation der statischen Methode"
   ],
   "metadata": {
    "collapsed": false,
    "ExecuteTime": {
     "end_time": "2024-04-07T19:01:35.930468Z",
     "start_time": "2024-04-07T19:01:35.928219Z"
    }
   },
   "id": "467843e5fb1d6254",
   "execution_count": 47
  },
  {
   "cell_type": "code",
   "outputs": [
    {
     "name": "stdout",
     "output_type": "stream",
     "text": [
      "a.get_area()               >>> 6\n",
      "a.width                    >>> 2\n",
      "a.height                   >>> 3\n",
      "Area.get_area_static(2, 3) >>> 6\n",
      "a.a                        >>> Hallo\n",
      "Area.a                     >>> Hallo\n"
     ]
    }
   ],
   "source": [
    "a = Area(2, 3)\n",
    "print(f'a.get_area()               >>> {a.get_area()}')\n",
    "print(f'a.width                    >>> {a.width}')\n",
    "print(f'a.height                   >>> {a.height}')\n",
    "print(f'Area.get_area_static(2, 3) >>> {Area.get_area_static(2, 3)}')\n",
    "print(f'a.a                        >>> {a.glob}')\n",
    "print(f'Area.a                     >>> {Area.glob}')"
   ],
   "metadata": {
    "collapsed": false,
    "ExecuteTime": {
     "end_time": "2024-04-07T19:01:35.974449Z",
     "start_time": "2024-04-07T19:01:35.970040Z"
    }
   },
   "id": "3fab60b60ccdcc38",
   "execution_count": 48
  }
 ],
 "metadata": {
  "kernelspec": {
   "display_name": "Python 3",
   "language": "python",
   "name": "python3"
  },
  "language_info": {
   "codemirror_mode": {
    "name": "ipython",
    "version": 2
   },
   "file_extension": ".py",
   "mimetype": "text/x-python",
   "name": "python",
   "nbconvert_exporter": "python",
   "pygments_lexer": "ipython2",
   "version": "2.7.6"
  }
 },
 "nbformat": 4,
 "nbformat_minor": 5
}
